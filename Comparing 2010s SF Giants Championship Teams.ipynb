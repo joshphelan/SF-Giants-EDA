{
 "cells": [
  {
   "cell_type": "markdown",
   "id": "9973c9c0",
   "metadata": {},
   "source": [
    "# Comparing The 2010s SF Giants Championship Teams"
   ]
  },
  {
   "cell_type": "markdown",
   "id": "60aa06d9",
   "metadata": {},
   "source": [
    "I will be exploring and visualizing the regular season performance of the San Francisco Giants for their **World Series Championships** in 2010, 2012 and 2014."
   ]
  },
  {
   "cell_type": "code",
   "execution_count": 1,
   "id": "862c5d62",
   "metadata": {},
   "outputs": [],
   "source": [
    "from pybaseball import schedule_and_record\n",
    "import numpy as np\n",
    "import pandas as pd\n",
    "import matplotlib.pyplot as plt\n",
    "%matplotlib inline"
   ]
  },
  {
   "cell_type": "code",
   "execution_count": 2,
   "id": "8afe0d7c",
   "metadata": {},
   "outputs": [
    {
     "data": {
      "text/html": [
       "        <script type=\"text/javascript\">\n",
       "        window.PlotlyConfig = {MathJaxConfig: 'local'};\n",
       "        if (window.MathJax) {MathJax.Hub.Config({SVG: {font: \"STIX-Web\"}});}\n",
       "        if (typeof require !== 'undefined') {\n",
       "        require.undef(\"plotly\");\n",
       "        requirejs.config({\n",
       "            paths: {\n",
       "                'plotly': ['https://cdn.plot.ly/plotly-2.9.0.min']\n",
       "            }\n",
       "        });\n",
       "        require(['plotly'], function(Plotly) {\n",
       "            window._Plotly = Plotly;\n",
       "        });\n",
       "        }\n",
       "        </script>\n",
       "        "
      ]
     },
     "metadata": {},
     "output_type": "display_data"
    },
    {
     "data": {
      "text/html": [
       "        <script type=\"text/javascript\">\n",
       "        window.PlotlyConfig = {MathJaxConfig: 'local'};\n",
       "        if (window.MathJax) {MathJax.Hub.Config({SVG: {font: \"STIX-Web\"}});}\n",
       "        if (typeof require !== 'undefined') {\n",
       "        require.undef(\"plotly\");\n",
       "        requirejs.config({\n",
       "            paths: {\n",
       "                'plotly': ['https://cdn.plot.ly/plotly-2.9.0.min']\n",
       "            }\n",
       "        });\n",
       "        require(['plotly'], function(Plotly) {\n",
       "            window._Plotly = Plotly;\n",
       "        });\n",
       "        }\n",
       "        </script>\n",
       "        "
      ]
     },
     "metadata": {},
     "output_type": "display_data"
    }
   ],
   "source": [
    "from plotly import __version__\n",
    "from plotly.offline import download_plotlyjs, init_notebook_mode, plot, iplot\n",
    "\n",
    "import cufflinks as cf\n",
    "init_notebook_mode(connected=True)\n",
    "cf.go_offline()"
   ]
  },
  {
   "cell_type": "code",
   "execution_count": 3,
   "id": "90d9a8a9",
   "metadata": {},
   "outputs": [
    {
     "name": "stderr",
     "output_type": "stream",
     "text": [
      "C:\\Users\\josh\\anaconda3\\lib\\site-packages\\pybaseball\\team_results.py:70: FutureWarning:\n",
      "\n",
      "In a future version of pandas all arguments of DataFrame.drop except for the argument 'labels' will be keyword-only.\n",
      "\n",
      "C:\\Users\\josh\\anaconda3\\lib\\site-packages\\pybaseball\\team_results.py:83: FutureWarning:\n",
      "\n",
      "In a future version of pandas all arguments of DataFrame.drop except for the argument 'labels' will be keyword-only.\n",
      "\n",
      "C:\\Users\\josh\\anaconda3\\lib\\site-packages\\pybaseball\\team_results.py:70: FutureWarning:\n",
      "\n",
      "In a future version of pandas all arguments of DataFrame.drop except for the argument 'labels' will be keyword-only.\n",
      "\n",
      "C:\\Users\\josh\\anaconda3\\lib\\site-packages\\pybaseball\\team_results.py:83: FutureWarning:\n",
      "\n",
      "In a future version of pandas all arguments of DataFrame.drop except for the argument 'labels' will be keyword-only.\n",
      "\n",
      "C:\\Users\\josh\\anaconda3\\lib\\site-packages\\pybaseball\\team_results.py:70: FutureWarning:\n",
      "\n",
      "In a future version of pandas all arguments of DataFrame.drop except for the argument 'labels' will be keyword-only.\n",
      "\n",
      "C:\\Users\\josh\\anaconda3\\lib\\site-packages\\pybaseball\\team_results.py:83: FutureWarning:\n",
      "\n",
      "In a future version of pandas all arguments of DataFrame.drop except for the argument 'labels' will be keyword-only.\n",
      "\n"
     ]
    }
   ],
   "source": [
    "sf2010 = schedule_and_record(2010, 'SF')\n",
    "sf2012 = schedule_and_record(2012, 'SF')\n",
    "sf2014 = schedule_and_record(2014, 'SF')"
   ]
  },
  {
   "cell_type": "markdown",
   "id": "feb3f493",
   "metadata": {},
   "source": [
    "## Summarizing each of the Seasons\n",
    "\n",
    "At first glance, the run differential appears to be the greatest for the 2010 team. No team had a particularly amazing winning streak, as the 2012 and 2014 teams' longest was 6 games and the 2010 team's was 5 games."
   ]
  },
  {
   "cell_type": "code",
   "execution_count": 4,
   "id": "bf7259b2",
   "metadata": {},
   "outputs": [
    {
     "data": {
      "text/html": [
       "<div>\n",
       "<style scoped>\n",
       "    .dataframe tbody tr th:only-of-type {\n",
       "        vertical-align: middle;\n",
       "    }\n",
       "\n",
       "    .dataframe tbody tr th {\n",
       "        vertical-align: top;\n",
       "    }\n",
       "\n",
       "    .dataframe thead th {\n",
       "        text-align: right;\n",
       "    }\n",
       "</style>\n",
       "<table border=\"1\" class=\"dataframe\">\n",
       "  <thead>\n",
       "    <tr style=\"text-align: right;\">\n",
       "      <th></th>\n",
       "      <th>R</th>\n",
       "      <th>RA</th>\n",
       "      <th>Inn</th>\n",
       "      <th>Rank</th>\n",
       "      <th>Attendance</th>\n",
       "      <th>Streak</th>\n",
       "    </tr>\n",
       "  </thead>\n",
       "  <tbody>\n",
       "    <tr>\n",
       "      <th>count</th>\n",
       "      <td>162.000000</td>\n",
       "      <td>162.000000</td>\n",
       "      <td>162.000000</td>\n",
       "      <td>162.000000</td>\n",
       "      <td>162.000000</td>\n",
       "      <td>162.000000</td>\n",
       "    </tr>\n",
       "    <tr>\n",
       "      <th>mean</th>\n",
       "      <td>4.302469</td>\n",
       "      <td>3.598765</td>\n",
       "      <td>9.246914</td>\n",
       "      <td>2.172840</td>\n",
       "      <td>34766.166667</td>\n",
       "      <td>0.302469</td>\n",
       "    </tr>\n",
       "    <tr>\n",
       "      <th>std</th>\n",
       "      <td>3.293301</td>\n",
       "      <td>2.692201</td>\n",
       "      <td>0.804195</td>\n",
       "      <td>0.874627</td>\n",
       "      <td>9035.760383</td>\n",
       "      <td>2.170066</td>\n",
       "    </tr>\n",
       "    <tr>\n",
       "      <th>min</th>\n",
       "      <td>0.000000</td>\n",
       "      <td>0.000000</td>\n",
       "      <td>9.000000</td>\n",
       "      <td>1.000000</td>\n",
       "      <td>11633.000000</td>\n",
       "      <td>-7.000000</td>\n",
       "    </tr>\n",
       "    <tr>\n",
       "      <th>25%</th>\n",
       "      <td>2.000000</td>\n",
       "      <td>2.000000</td>\n",
       "      <td>9.000000</td>\n",
       "      <td>2.000000</td>\n",
       "      <td>30346.750000</td>\n",
       "      <td>-1.000000</td>\n",
       "    </tr>\n",
       "    <tr>\n",
       "      <th>50%</th>\n",
       "      <td>3.500000</td>\n",
       "      <td>3.000000</td>\n",
       "      <td>9.000000</td>\n",
       "      <td>2.000000</td>\n",
       "      <td>36247.500000</td>\n",
       "      <td>1.000000</td>\n",
       "    </tr>\n",
       "    <tr>\n",
       "      <th>75%</th>\n",
       "      <td>6.000000</td>\n",
       "      <td>5.000000</td>\n",
       "      <td>9.000000</td>\n",
       "      <td>3.000000</td>\n",
       "      <td>41834.000000</td>\n",
       "      <td>2.000000</td>\n",
       "    </tr>\n",
       "    <tr>\n",
       "      <th>max</th>\n",
       "      <td>16.000000</td>\n",
       "      <td>13.000000</td>\n",
       "      <td>15.000000</td>\n",
       "      <td>4.000000</td>\n",
       "      <td>53381.000000</td>\n",
       "      <td>5.000000</td>\n",
       "    </tr>\n",
       "  </tbody>\n",
       "</table>\n",
       "</div>"
      ],
      "text/plain": [
       "                R          RA         Inn        Rank    Attendance  \\\n",
       "count  162.000000  162.000000  162.000000  162.000000    162.000000   \n",
       "mean     4.302469    3.598765    9.246914    2.172840  34766.166667   \n",
       "std      3.293301    2.692201    0.804195    0.874627   9035.760383   \n",
       "min      0.000000    0.000000    9.000000    1.000000  11633.000000   \n",
       "25%      2.000000    2.000000    9.000000    2.000000  30346.750000   \n",
       "50%      3.500000    3.000000    9.000000    2.000000  36247.500000   \n",
       "75%      6.000000    5.000000    9.000000    3.000000  41834.000000   \n",
       "max     16.000000   13.000000   15.000000    4.000000  53381.000000   \n",
       "\n",
       "           Streak  \n",
       "count  162.000000  \n",
       "mean     0.302469  \n",
       "std      2.170066  \n",
       "min     -7.000000  \n",
       "25%     -1.000000  \n",
       "50%      1.000000  \n",
       "75%      2.000000  \n",
       "max      5.000000  "
      ]
     },
     "execution_count": 4,
     "metadata": {},
     "output_type": "execute_result"
    }
   ],
   "source": [
    "sf2010.describe()"
   ]
  },
  {
   "cell_type": "code",
   "execution_count": 5,
   "id": "8d08e08f",
   "metadata": {},
   "outputs": [
    {
     "data": {
      "text/html": [
       "<div>\n",
       "<style scoped>\n",
       "    .dataframe tbody tr th:only-of-type {\n",
       "        vertical-align: middle;\n",
       "    }\n",
       "\n",
       "    .dataframe tbody tr th {\n",
       "        vertical-align: top;\n",
       "    }\n",
       "\n",
       "    .dataframe thead th {\n",
       "        text-align: right;\n",
       "    }\n",
       "</style>\n",
       "<table border=\"1\" class=\"dataframe\">\n",
       "  <thead>\n",
       "    <tr style=\"text-align: right;\">\n",
       "      <th></th>\n",
       "      <th>R</th>\n",
       "      <th>RA</th>\n",
       "      <th>Inn</th>\n",
       "      <th>Rank</th>\n",
       "      <th>Attendance</th>\n",
       "      <th>Streak</th>\n",
       "    </tr>\n",
       "  </thead>\n",
       "  <tbody>\n",
       "    <tr>\n",
       "      <th>count</th>\n",
       "      <td>162.000000</td>\n",
       "      <td>162.000000</td>\n",
       "      <td>162.000000</td>\n",
       "      <td>162.00000</td>\n",
       "      <td>161.000000</td>\n",
       "      <td>162.000000</td>\n",
       "    </tr>\n",
       "    <tr>\n",
       "      <th>mean</th>\n",
       "      <td>4.432099</td>\n",
       "      <td>4.006173</td>\n",
       "      <td>9.154321</td>\n",
       "      <td>1.67284</td>\n",
       "      <td>37320.173913</td>\n",
       "      <td>0.506173</td>\n",
       "    </tr>\n",
       "    <tr>\n",
       "      <th>std</th>\n",
       "      <td>2.904006</td>\n",
       "      <td>2.956196</td>\n",
       "      <td>0.616250</td>\n",
       "      <td>0.81774</td>\n",
       "      <td>7217.498871</td>\n",
       "      <td>2.022381</td>\n",
       "    </tr>\n",
       "    <tr>\n",
       "      <th>min</th>\n",
       "      <td>0.000000</td>\n",
       "      <td>0.000000</td>\n",
       "      <td>9.000000</td>\n",
       "      <td>1.00000</td>\n",
       "      <td>12835.000000</td>\n",
       "      <td>-5.000000</td>\n",
       "    </tr>\n",
       "    <tr>\n",
       "      <th>25%</th>\n",
       "      <td>2.000000</td>\n",
       "      <td>2.000000</td>\n",
       "      <td>9.000000</td>\n",
       "      <td>1.00000</td>\n",
       "      <td>32810.000000</td>\n",
       "      <td>-1.000000</td>\n",
       "    </tr>\n",
       "    <tr>\n",
       "      <th>50%</th>\n",
       "      <td>4.000000</td>\n",
       "      <td>3.000000</td>\n",
       "      <td>9.000000</td>\n",
       "      <td>2.00000</td>\n",
       "      <td>41157.000000</td>\n",
       "      <td>1.000000</td>\n",
       "    </tr>\n",
       "    <tr>\n",
       "      <th>75%</th>\n",
       "      <td>6.000000</td>\n",
       "      <td>6.000000</td>\n",
       "      <td>9.000000</td>\n",
       "      <td>2.00000</td>\n",
       "      <td>41791.000000</td>\n",
       "      <td>2.000000</td>\n",
       "    </tr>\n",
       "    <tr>\n",
       "      <th>max</th>\n",
       "      <td>16.000000</td>\n",
       "      <td>17.000000</td>\n",
       "      <td>14.000000</td>\n",
       "      <td>5.00000</td>\n",
       "      <td>56000.000000</td>\n",
       "      <td>6.000000</td>\n",
       "    </tr>\n",
       "  </tbody>\n",
       "</table>\n",
       "</div>"
      ],
      "text/plain": [
       "                R          RA         Inn       Rank    Attendance      Streak\n",
       "count  162.000000  162.000000  162.000000  162.00000    161.000000  162.000000\n",
       "mean     4.432099    4.006173    9.154321    1.67284  37320.173913    0.506173\n",
       "std      2.904006    2.956196    0.616250    0.81774   7217.498871    2.022381\n",
       "min      0.000000    0.000000    9.000000    1.00000  12835.000000   -5.000000\n",
       "25%      2.000000    2.000000    9.000000    1.00000  32810.000000   -1.000000\n",
       "50%      4.000000    3.000000    9.000000    2.00000  41157.000000    1.000000\n",
       "75%      6.000000    6.000000    9.000000    2.00000  41791.000000    2.000000\n",
       "max     16.000000   17.000000   14.000000    5.00000  56000.000000    6.000000"
      ]
     },
     "execution_count": 5,
     "metadata": {},
     "output_type": "execute_result"
    }
   ],
   "source": [
    "sf2012.describe()"
   ]
  },
  {
   "cell_type": "code",
   "execution_count": 6,
   "id": "fa8e64a9",
   "metadata": {},
   "outputs": [
    {
     "data": {
      "text/html": [
       "<div>\n",
       "<style scoped>\n",
       "    .dataframe tbody tr th:only-of-type {\n",
       "        vertical-align: middle;\n",
       "    }\n",
       "\n",
       "    .dataframe tbody tr th {\n",
       "        vertical-align: top;\n",
       "    }\n",
       "\n",
       "    .dataframe thead th {\n",
       "        text-align: right;\n",
       "    }\n",
       "</style>\n",
       "<table border=\"1\" class=\"dataframe\">\n",
       "  <thead>\n",
       "    <tr style=\"text-align: right;\">\n",
       "      <th></th>\n",
       "      <th>R</th>\n",
       "      <th>RA</th>\n",
       "      <th>Inn</th>\n",
       "      <th>Rank</th>\n",
       "      <th>Attendance</th>\n",
       "      <th>Streak</th>\n",
       "    </tr>\n",
       "  </thead>\n",
       "  <tbody>\n",
       "    <tr>\n",
       "      <th>count</th>\n",
       "      <td>162.000000</td>\n",
       "      <td>162.000000</td>\n",
       "      <td>162.000000</td>\n",
       "      <td>162.000000</td>\n",
       "      <td>162.000000</td>\n",
       "      <td>162.000000</td>\n",
       "    </tr>\n",
       "    <tr>\n",
       "      <th>mean</th>\n",
       "      <td>4.104938</td>\n",
       "      <td>3.790123</td>\n",
       "      <td>9.166667</td>\n",
       "      <td>1.456790</td>\n",
       "      <td>37262.580247</td>\n",
       "      <td>0.246914</td>\n",
       "    </tr>\n",
       "    <tr>\n",
       "      <th>std</th>\n",
       "      <td>3.010557</td>\n",
       "      <td>2.822782</td>\n",
       "      <td>0.689315</td>\n",
       "      <td>0.511954</td>\n",
       "      <td>7787.672236</td>\n",
       "      <td>2.411313</td>\n",
       "    </tr>\n",
       "    <tr>\n",
       "      <th>min</th>\n",
       "      <td>0.000000</td>\n",
       "      <td>0.000000</td>\n",
       "      <td>9.000000</td>\n",
       "      <td>1.000000</td>\n",
       "      <td>13675.000000</td>\n",
       "      <td>-6.000000</td>\n",
       "    </tr>\n",
       "    <tr>\n",
       "      <th>25%</th>\n",
       "      <td>2.000000</td>\n",
       "      <td>2.000000</td>\n",
       "      <td>9.000000</td>\n",
       "      <td>1.000000</td>\n",
       "      <td>31329.500000</td>\n",
       "      <td>-1.000000</td>\n",
       "    </tr>\n",
       "    <tr>\n",
       "      <th>50%</th>\n",
       "      <td>4.000000</td>\n",
       "      <td>3.000000</td>\n",
       "      <td>9.000000</td>\n",
       "      <td>1.000000</td>\n",
       "      <td>41169.000000</td>\n",
       "      <td>1.000000</td>\n",
       "    </tr>\n",
       "    <tr>\n",
       "      <th>75%</th>\n",
       "      <td>6.000000</td>\n",
       "      <td>5.000000</td>\n",
       "      <td>9.000000</td>\n",
       "      <td>2.000000</td>\n",
       "      <td>41724.750000</td>\n",
       "      <td>2.000000</td>\n",
       "    </tr>\n",
       "    <tr>\n",
       "      <th>max</th>\n",
       "      <td>15.000000</td>\n",
       "      <td>17.000000</td>\n",
       "      <td>14.000000</td>\n",
       "      <td>3.000000</td>\n",
       "      <td>53500.000000</td>\n",
       "      <td>6.000000</td>\n",
       "    </tr>\n",
       "  </tbody>\n",
       "</table>\n",
       "</div>"
      ],
      "text/plain": [
       "                R          RA         Inn        Rank    Attendance  \\\n",
       "count  162.000000  162.000000  162.000000  162.000000    162.000000   \n",
       "mean     4.104938    3.790123    9.166667    1.456790  37262.580247   \n",
       "std      3.010557    2.822782    0.689315    0.511954   7787.672236   \n",
       "min      0.000000    0.000000    9.000000    1.000000  13675.000000   \n",
       "25%      2.000000    2.000000    9.000000    1.000000  31329.500000   \n",
       "50%      4.000000    3.000000    9.000000    1.000000  41169.000000   \n",
       "75%      6.000000    5.000000    9.000000    2.000000  41724.750000   \n",
       "max     15.000000   17.000000   14.000000    3.000000  53500.000000   \n",
       "\n",
       "           Streak  \n",
       "count  162.000000  \n",
       "mean     0.246914  \n",
       "std      2.411313  \n",
       "min     -6.000000  \n",
       "25%     -1.000000  \n",
       "50%      1.000000  \n",
       "75%      2.000000  \n",
       "max      6.000000  "
      ]
     },
     "execution_count": 6,
     "metadata": {},
     "output_type": "execute_result"
    }
   ],
   "source": [
    "sf2014.describe()"
   ]
  },
  {
   "cell_type": "markdown",
   "id": "0a2abe24",
   "metadata": {},
   "source": [
    "## Plotting records over the course of the season\n",
    "\n",
    "All three teams followed a fairly similar path over the course of the season and end at around 90 wins each time. The 2014 team started out the hottest but had a smaller increase in wins after around 80 games and ended up with the worst regular season record out of the 3 teams. The plot is interactive so you can see the exact number of wins the teams had throughout each season."
   ]
  },
  {
   "cell_type": "code",
   "execution_count": 7,
   "id": "7f392d05",
   "metadata": {},
   "outputs": [
    {
     "data": {
      "text/html": [
       "<div>\n",
       "<style scoped>\n",
       "    .dataframe tbody tr th:only-of-type {\n",
       "        vertical-align: middle;\n",
       "    }\n",
       "\n",
       "    .dataframe tbody tr th {\n",
       "        vertical-align: top;\n",
       "    }\n",
       "\n",
       "    .dataframe thead th {\n",
       "        text-align: right;\n",
       "    }\n",
       "</style>\n",
       "<table border=\"1\" class=\"dataframe\">\n",
       "  <thead>\n",
       "    <tr style=\"text-align: right;\">\n",
       "      <th></th>\n",
       "      <th>Date</th>\n",
       "      <th>Tm</th>\n",
       "      <th>Home_Away</th>\n",
       "      <th>Opp</th>\n",
       "      <th>W/L</th>\n",
       "      <th>R</th>\n",
       "      <th>RA</th>\n",
       "      <th>Inn</th>\n",
       "      <th>W-L</th>\n",
       "      <th>Rank</th>\n",
       "      <th>GB</th>\n",
       "      <th>Win</th>\n",
       "      <th>Loss</th>\n",
       "      <th>Save</th>\n",
       "      <th>Time</th>\n",
       "      <th>D/N</th>\n",
       "      <th>Attendance</th>\n",
       "      <th>cLI</th>\n",
       "      <th>Streak</th>\n",
       "      <th>Orig. Scheduled</th>\n",
       "    </tr>\n",
       "  </thead>\n",
       "  <tbody>\n",
       "    <tr>\n",
       "      <th>1</th>\n",
       "      <td>Monday, Apr 5</td>\n",
       "      <td>SFG</td>\n",
       "      <td>@</td>\n",
       "      <td>HOU</td>\n",
       "      <td>W</td>\n",
       "      <td>5.0</td>\n",
       "      <td>2.0</td>\n",
       "      <td>9.0</td>\n",
       "      <td>1-0</td>\n",
       "      <td>1.0</td>\n",
       "      <td>Tied</td>\n",
       "      <td>Lincecum</td>\n",
       "      <td>Oswalt</td>\n",
       "      <td>Wilson</td>\n",
       "      <td>2:34</td>\n",
       "      <td>N</td>\n",
       "      <td>43836.0</td>\n",
       "      <td>.96</td>\n",
       "      <td>1</td>\n",
       "      <td>None</td>\n",
       "    </tr>\n",
       "    <tr>\n",
       "      <th>2</th>\n",
       "      <td>Tuesday, Apr 6</td>\n",
       "      <td>SFG</td>\n",
       "      <td>@</td>\n",
       "      <td>HOU</td>\n",
       "      <td>W</td>\n",
       "      <td>3.0</td>\n",
       "      <td>0.0</td>\n",
       "      <td>9.0</td>\n",
       "      <td>2-0</td>\n",
       "      <td>1.0</td>\n",
       "      <td>up 1.0</td>\n",
       "      <td>Zito</td>\n",
       "      <td>Rodriguez</td>\n",
       "      <td>Wilson</td>\n",
       "      <td>2:38</td>\n",
       "      <td>N</td>\n",
       "      <td>24237.0</td>\n",
       "      <td>1.04</td>\n",
       "      <td>2</td>\n",
       "      <td>None</td>\n",
       "    </tr>\n",
       "    <tr>\n",
       "      <th>3</th>\n",
       "      <td>Wednesday, Apr 7</td>\n",
       "      <td>SFG</td>\n",
       "      <td>@</td>\n",
       "      <td>HOU</td>\n",
       "      <td>W</td>\n",
       "      <td>10.0</td>\n",
       "      <td>4.0</td>\n",
       "      <td>9.0</td>\n",
       "      <td>3-0</td>\n",
       "      <td>1.0</td>\n",
       "      <td>up 1.0</td>\n",
       "      <td>Affeldt</td>\n",
       "      <td>Gervacio</td>\n",
       "      <td>None</td>\n",
       "      <td>3:01</td>\n",
       "      <td>D</td>\n",
       "      <td>21599.0</td>\n",
       "      <td>1.09</td>\n",
       "      <td>3</td>\n",
       "      <td>None</td>\n",
       "    </tr>\n",
       "    <tr>\n",
       "      <th>4</th>\n",
       "      <td>Friday, Apr 9</td>\n",
       "      <td>SFG</td>\n",
       "      <td>Home</td>\n",
       "      <td>ATL</td>\n",
       "      <td>W-wo</td>\n",
       "      <td>5.0</td>\n",
       "      <td>4.0</td>\n",
       "      <td>13.0</td>\n",
       "      <td>4-0</td>\n",
       "      <td>1.0</td>\n",
       "      <td>up 1.0</td>\n",
       "      <td>Affeldt</td>\n",
       "      <td>Medlen</td>\n",
       "      <td>None</td>\n",
       "      <td>4:01</td>\n",
       "      <td>D</td>\n",
       "      <td>42940.0</td>\n",
       "      <td>1.12</td>\n",
       "      <td>4</td>\n",
       "      <td>None</td>\n",
       "    </tr>\n",
       "    <tr>\n",
       "      <th>5</th>\n",
       "      <td>Saturday, Apr 10</td>\n",
       "      <td>SFG</td>\n",
       "      <td>Home</td>\n",
       "      <td>ATL</td>\n",
       "      <td>L</td>\n",
       "      <td>2.0</td>\n",
       "      <td>7.0</td>\n",
       "      <td>9.0</td>\n",
       "      <td>4-1</td>\n",
       "      <td>1.0</td>\n",
       "      <td>up 1.0</td>\n",
       "      <td>Lowe</td>\n",
       "      <td>Wellemeyer</td>\n",
       "      <td>None</td>\n",
       "      <td>3:06</td>\n",
       "      <td>N</td>\n",
       "      <td>42985.0</td>\n",
       "      <td>1.12</td>\n",
       "      <td>-1</td>\n",
       "      <td>None</td>\n",
       "    </tr>\n",
       "  </tbody>\n",
       "</table>\n",
       "</div>"
      ],
      "text/plain": [
       "               Date   Tm Home_Away  Opp   W/L     R   RA   Inn  W-L  Rank  \\\n",
       "1     Monday, Apr 5  SFG         @  HOU     W   5.0  2.0   9.0  1-0   1.0   \n",
       "2    Tuesday, Apr 6  SFG         @  HOU     W   3.0  0.0   9.0  2-0   1.0   \n",
       "3  Wednesday, Apr 7  SFG         @  HOU     W  10.0  4.0   9.0  3-0   1.0   \n",
       "4     Friday, Apr 9  SFG      Home  ATL  W-wo   5.0  4.0  13.0  4-0   1.0   \n",
       "5  Saturday, Apr 10  SFG      Home  ATL     L   2.0  7.0   9.0  4-1   1.0   \n",
       "\n",
       "       GB       Win        Loss    Save  Time D/N  Attendance   cLI  Streak  \\\n",
       "1    Tied  Lincecum      Oswalt  Wilson  2:34   N     43836.0   .96       1   \n",
       "2  up 1.0      Zito   Rodriguez  Wilson  2:38   N     24237.0  1.04       2   \n",
       "3  up 1.0   Affeldt    Gervacio    None  3:01   D     21599.0  1.09       3   \n",
       "4  up 1.0   Affeldt      Medlen    None  4:01   D     42940.0  1.12       4   \n",
       "5  up 1.0      Lowe  Wellemeyer    None  3:06   N     42985.0  1.12      -1   \n",
       "\n",
       "  Orig. Scheduled  \n",
       "1            None  \n",
       "2            None  \n",
       "3            None  \n",
       "4            None  \n",
       "5            None  "
      ]
     },
     "execution_count": 7,
     "metadata": {},
     "output_type": "execute_result"
    }
   ],
   "source": [
    "sf2010.head()\n",
    "# Taking a closer look at the W/L column, there are four unique values: W, L, W-wo, L-wo. (wo stands for walk off)\n",
    "# To count the wins throughout the season in the next section, I need to count both W and W-wo."
   ]
  },
  {
   "cell_type": "code",
   "execution_count": 8,
   "id": "38ce38d4",
   "metadata": {},
   "outputs": [],
   "source": [
    "# New dataframe for win count\n",
    "sfWinCount = pd.DataFrame()"
   ]
  },
  {
   "cell_type": "code",
   "execution_count": 9,
   "id": "f8686631",
   "metadata": {},
   "outputs": [],
   "source": [
    "# Taking the cumulative sum of wins to date at each point in the season\n",
    "sfWinCount['2010 Wins'] = np.where((sf2010['W/L']=='W') | (sf2010['W/L'] == 'W-wo'), 1, 0).cumsum()\n",
    "sfWinCount['2012 Wins'] = np.where((sf2012['W/L']=='W') | (sf2012['W/L'] == 'W-wo'), 1, 0).cumsum()\n",
    "sfWinCount['2014 Wins'] = np.where((sf2014['W/L']=='W') | (sf2014['W/L'] == 'W-wo'), 1, 0).cumsum()"
   ]
  },
  {
   "cell_type": "code",
   "execution_count": 10,
   "id": "cad85f02",
   "metadata": {},
   "outputs": [
    {
     "data": {
      "application/vnd.plotly.v1+json": {
       "config": {
        "linkText": "Export to plot.ly",
        "plotlyServerURL": "https://plot.ly",
        "showLink": true
       },
       "data": [
        {
         "line": {
          "color": "rgba(255, 153, 51, 1.0)",
          "dash": "solid",
          "shape": "linear",
          "width": 1.3
         },
         "mode": "lines",
         "name": "2010 Wins",
         "text": "",
         "type": "scatter",
         "x": [
          0,
          1,
          2,
          3,
          4,
          5,
          6,
          7,
          8,
          9,
          10,
          11,
          12,
          13,
          14,
          15,
          16,
          17,
          18,
          19,
          20,
          21,
          22,
          23,
          24,
          25,
          26,
          27,
          28,
          29,
          30,
          31,
          32,
          33,
          34,
          35,
          36,
          37,
          38,
          39,
          40,
          41,
          42,
          43,
          44,
          45,
          46,
          47,
          48,
          49,
          50,
          51,
          52,
          53,
          54,
          55,
          56,
          57,
          58,
          59,
          60,
          61,
          62,
          63,
          64,
          65,
          66,
          67,
          68,
          69,
          70,
          71,
          72,
          73,
          74,
          75,
          76,
          77,
          78,
          79,
          80,
          81,
          82,
          83,
          84,
          85,
          86,
          87,
          88,
          89,
          90,
          91,
          92,
          93,
          94,
          95,
          96,
          97,
          98,
          99,
          100,
          101,
          102,
          103,
          104,
          105,
          106,
          107,
          108,
          109,
          110,
          111,
          112,
          113,
          114,
          115,
          116,
          117,
          118,
          119,
          120,
          121,
          122,
          123,
          124,
          125,
          126,
          127,
          128,
          129,
          130,
          131,
          132,
          133,
          134,
          135,
          136,
          137,
          138,
          139,
          140,
          141,
          142,
          143,
          144,
          145,
          146,
          147,
          148,
          149,
          150,
          151,
          152,
          153,
          154,
          155,
          156,
          157,
          158,
          159,
          160,
          161
         ],
         "y": [
          1,
          2,
          3,
          4,
          4,
          5,
          6,
          6,
          7,
          7,
          8,
          8,
          8,
          8,
          8,
          9,
          10,
          10,
          11,
          12,
          12,
          13,
          14,
          14,
          15,
          16,
          17,
          17,
          17,
          18,
          18,
          18,
          18,
          19,
          20,
          21,
          21,
          22,
          22,
          22,
          22,
          22,
          22,
          23,
          23,
          24,
          25,
          26,
          27,
          27,
          27,
          28,
          29,
          29,
          30,
          31,
          32,
          32,
          32,
          33,
          34,
          35,
          36,
          36,
          37,
          37,
          37,
          38,
          39,
          39,
          39,
          40,
          40,
          40,
          40,
          40,
          40,
          40,
          40,
          41,
          41,
          42,
          43,
          44,
          45,
          45,
          46,
          47,
          48,
          49,
          50,
          50,
          51,
          52,
          52,
          53,
          54,
          55,
          56,
          56,
          57,
          58,
          58,
          59,
          60,
          61,
          62,
          62,
          62,
          63,
          63,
          63,
          64,
          64,
          65,
          66,
          66,
          67,
          67,
          67,
          67,
          68,
          69,
          69,
          69,
          70,
          71,
          71,
          71,
          71,
          72,
          72,
          73,
          74,
          74,
          75,
          76,
          77,
          78,
          78,
          79,
          80,
          80,
          81,
          81,
          82,
          83,
          83,
          83,
          84,
          85,
          85,
          86,
          87,
          87,
          88,
          89,
          90,
          91,
          91,
          91,
          92
         ]
        },
        {
         "line": {
          "color": "rgba(55, 128, 191, 1.0)",
          "dash": "solid",
          "shape": "linear",
          "width": 1.3
         },
         "mode": "lines",
         "name": "2012 Wins",
         "text": "",
         "type": "scatter",
         "x": [
          0,
          1,
          2,
          3,
          4,
          5,
          6,
          7,
          8,
          9,
          10,
          11,
          12,
          13,
          14,
          15,
          16,
          17,
          18,
          19,
          20,
          21,
          22,
          23,
          24,
          25,
          26,
          27,
          28,
          29,
          30,
          31,
          32,
          33,
          34,
          35,
          36,
          37,
          38,
          39,
          40,
          41,
          42,
          43,
          44,
          45,
          46,
          47,
          48,
          49,
          50,
          51,
          52,
          53,
          54,
          55,
          56,
          57,
          58,
          59,
          60,
          61,
          62,
          63,
          64,
          65,
          66,
          67,
          68,
          69,
          70,
          71,
          72,
          73,
          74,
          75,
          76,
          77,
          78,
          79,
          80,
          81,
          82,
          83,
          84,
          85,
          86,
          87,
          88,
          89,
          90,
          91,
          92,
          93,
          94,
          95,
          96,
          97,
          98,
          99,
          100,
          101,
          102,
          103,
          104,
          105,
          106,
          107,
          108,
          109,
          110,
          111,
          112,
          113,
          114,
          115,
          116,
          117,
          118,
          119,
          120,
          121,
          122,
          123,
          124,
          125,
          126,
          127,
          128,
          129,
          130,
          131,
          132,
          133,
          134,
          135,
          136,
          137,
          138,
          139,
          140,
          141,
          142,
          143,
          144,
          145,
          146,
          147,
          148,
          149,
          150,
          151,
          152,
          153,
          154,
          155,
          156,
          157,
          158,
          159,
          160,
          161
         ],
         "y": [
          0,
          0,
          0,
          1,
          1,
          2,
          3,
          4,
          4,
          4,
          5,
          6,
          7,
          7,
          8,
          9,
          9,
          9,
          10,
          10,
          11,
          12,
          12,
          12,
          12,
          12,
          13,
          14,
          14,
          15,
          15,
          15,
          16,
          17,
          18,
          18,
          18,
          19,
          20,
          21,
          21,
          22,
          23,
          23,
          24,
          24,
          24,
          25,
          26,
          27,
          27,
          28,
          29,
          30,
          31,
          31,
          32,
          33,
          33,
          34,
          34,
          35,
          36,
          36,
          37,
          37,
          37,
          38,
          38,
          38,
          39,
          40,
          40,
          41,
          42,
          43,
          44,
          44,
          44,
          45,
          45,
          45,
          45,
          46,
          46,
          46,
          47,
          48,
          49,
          50,
          51,
          51,
          52,
          53,
          53,
          54,
          55,
          55,
          55,
          55,
          55,
          55,
          56,
          56,
          56,
          57,
          58,
          59,
          59,
          60,
          61,
          61,
          61,
          62,
          63,
          63,
          64,
          64,
          65,
          66,
          66,
          67,
          68,
          69,
          70,
          71,
          71,
          71,
          72,
          73,
          74,
          74,
          75,
          76,
          77,
          77,
          77,
          78,
          78,
          79,
          79,
          80,
          81,
          82,
          83,
          83,
          84,
          85,
          86,
          87,
          88,
          89,
          89,
          89,
          90,
          91,
          92,
          92,
          93,
          93,
          94,
          94
         ]
        },
        {
         "line": {
          "color": "rgba(50, 171, 96, 1.0)",
          "dash": "solid",
          "shape": "linear",
          "width": 1.3
         },
         "mode": "lines",
         "name": "2014 Wins",
         "text": "",
         "type": "scatter",
         "x": [
          0,
          1,
          2,
          3,
          4,
          5,
          6,
          7,
          8,
          9,
          10,
          11,
          12,
          13,
          14,
          15,
          16,
          17,
          18,
          19,
          20,
          21,
          22,
          23,
          24,
          25,
          26,
          27,
          28,
          29,
          30,
          31,
          32,
          33,
          34,
          35,
          36,
          37,
          38,
          39,
          40,
          41,
          42,
          43,
          44,
          45,
          46,
          47,
          48,
          49,
          50,
          51,
          52,
          53,
          54,
          55,
          56,
          57,
          58,
          59,
          60,
          61,
          62,
          63,
          64,
          65,
          66,
          67,
          68,
          69,
          70,
          71,
          72,
          73,
          74,
          75,
          76,
          77,
          78,
          79,
          80,
          81,
          82,
          83,
          84,
          85,
          86,
          87,
          88,
          89,
          90,
          91,
          92,
          93,
          94,
          95,
          96,
          97,
          98,
          99,
          100,
          101,
          102,
          103,
          104,
          105,
          106,
          107,
          108,
          109,
          110,
          111,
          112,
          113,
          114,
          115,
          116,
          117,
          118,
          119,
          120,
          121,
          122,
          123,
          124,
          125,
          126,
          127,
          128,
          129,
          130,
          131,
          132,
          133,
          134,
          135,
          136,
          137,
          138,
          139,
          140,
          141,
          142,
          143,
          144,
          145,
          146,
          147,
          148,
          149,
          150,
          151,
          152,
          153,
          154,
          155,
          156,
          157,
          158,
          159,
          160,
          161
         ],
         "y": [
          1,
          1,
          2,
          3,
          4,
          5,
          5,
          6,
          6,
          6,
          7,
          7,
          8,
          9,
          10,
          10,
          10,
          10,
          11,
          11,
          11,
          12,
          13,
          14,
          15,
          15,
          16,
          17,
          18,
          19,
          20,
          21,
          21,
          21,
          22,
          23,
          23,
          24,
          25,
          25,
          26,
          27,
          27,
          27,
          28,
          28,
          29,
          30,
          31,
          32,
          33,
          33,
          34,
          35,
          36,
          37,
          37,
          38,
          38,
          39,
          40,
          41,
          42,
          43,
          43,
          43,
          43,
          44,
          44,
          44,
          44,
          44,
          44,
          44,
          45,
          46,
          46,
          46,
          47,
          47,
          47,
          47,
          47,
          48,
          48,
          48,
          48,
          49,
          50,
          50,
          50,
          51,
          51,
          52,
          52,
          53,
          54,
          55,
          55,
          56,
          57,
          58,
          58,
          58,
          58,
          58,
          58,
          58,
          59,
          60,
          60,
          61,
          62,
          62,
          63,
          63,
          63,
          63,
          63,
          63,
          64,
          64,
          65,
          66,
          66,
          67,
          68,
          69,
          69,
          69,
          69,
          70,
          71,
          72,
          73,
          74,
          75,
          75,
          76,
          76,
          77,
          78,
          78,
          79,
          80,
          81,
          82,
          82,
          82,
          82,
          83,
          84,
          84,
          84,
          84,
          85,
          85,
          85,
          86,
          86,
          87,
          88
         ]
        }
       ],
       "layout": {
        "legend": {
         "bgcolor": "#F5F6F9",
         "font": {
          "color": "#4D5663"
         }
        },
        "paper_bgcolor": "#F5F6F9",
        "plot_bgcolor": "#F5F6F9",
        "template": {
         "data": {
          "bar": [
           {
            "error_x": {
             "color": "#2a3f5f"
            },
            "error_y": {
             "color": "#2a3f5f"
            },
            "marker": {
             "line": {
              "color": "#E5ECF6",
              "width": 0.5
             },
             "pattern": {
              "fillmode": "overlay",
              "size": 10,
              "solidity": 0.2
             }
            },
            "type": "bar"
           }
          ],
          "barpolar": [
           {
            "marker": {
             "line": {
              "color": "#E5ECF6",
              "width": 0.5
             },
             "pattern": {
              "fillmode": "overlay",
              "size": 10,
              "solidity": 0.2
             }
            },
            "type": "barpolar"
           }
          ],
          "carpet": [
           {
            "aaxis": {
             "endlinecolor": "#2a3f5f",
             "gridcolor": "white",
             "linecolor": "white",
             "minorgridcolor": "white",
             "startlinecolor": "#2a3f5f"
            },
            "baxis": {
             "endlinecolor": "#2a3f5f",
             "gridcolor": "white",
             "linecolor": "white",
             "minorgridcolor": "white",
             "startlinecolor": "#2a3f5f"
            },
            "type": "carpet"
           }
          ],
          "choropleth": [
           {
            "colorbar": {
             "outlinewidth": 0,
             "ticks": ""
            },
            "type": "choropleth"
           }
          ],
          "contour": [
           {
            "colorbar": {
             "outlinewidth": 0,
             "ticks": ""
            },
            "colorscale": [
             [
              0,
              "#0d0887"
             ],
             [
              0.1111111111111111,
              "#46039f"
             ],
             [
              0.2222222222222222,
              "#7201a8"
             ],
             [
              0.3333333333333333,
              "#9c179e"
             ],
             [
              0.4444444444444444,
              "#bd3786"
             ],
             [
              0.5555555555555556,
              "#d8576b"
             ],
             [
              0.6666666666666666,
              "#ed7953"
             ],
             [
              0.7777777777777778,
              "#fb9f3a"
             ],
             [
              0.8888888888888888,
              "#fdca26"
             ],
             [
              1,
              "#f0f921"
             ]
            ],
            "type": "contour"
           }
          ],
          "contourcarpet": [
           {
            "colorbar": {
             "outlinewidth": 0,
             "ticks": ""
            },
            "type": "contourcarpet"
           }
          ],
          "heatmap": [
           {
            "colorbar": {
             "outlinewidth": 0,
             "ticks": ""
            },
            "colorscale": [
             [
              0,
              "#0d0887"
             ],
             [
              0.1111111111111111,
              "#46039f"
             ],
             [
              0.2222222222222222,
              "#7201a8"
             ],
             [
              0.3333333333333333,
              "#9c179e"
             ],
             [
              0.4444444444444444,
              "#bd3786"
             ],
             [
              0.5555555555555556,
              "#d8576b"
             ],
             [
              0.6666666666666666,
              "#ed7953"
             ],
             [
              0.7777777777777778,
              "#fb9f3a"
             ],
             [
              0.8888888888888888,
              "#fdca26"
             ],
             [
              1,
              "#f0f921"
             ]
            ],
            "type": "heatmap"
           }
          ],
          "heatmapgl": [
           {
            "colorbar": {
             "outlinewidth": 0,
             "ticks": ""
            },
            "colorscale": [
             [
              0,
              "#0d0887"
             ],
             [
              0.1111111111111111,
              "#46039f"
             ],
             [
              0.2222222222222222,
              "#7201a8"
             ],
             [
              0.3333333333333333,
              "#9c179e"
             ],
             [
              0.4444444444444444,
              "#bd3786"
             ],
             [
              0.5555555555555556,
              "#d8576b"
             ],
             [
              0.6666666666666666,
              "#ed7953"
             ],
             [
              0.7777777777777778,
              "#fb9f3a"
             ],
             [
              0.8888888888888888,
              "#fdca26"
             ],
             [
              1,
              "#f0f921"
             ]
            ],
            "type": "heatmapgl"
           }
          ],
          "histogram": [
           {
            "marker": {
             "pattern": {
              "fillmode": "overlay",
              "size": 10,
              "solidity": 0.2
             }
            },
            "type": "histogram"
           }
          ],
          "histogram2d": [
           {
            "colorbar": {
             "outlinewidth": 0,
             "ticks": ""
            },
            "colorscale": [
             [
              0,
              "#0d0887"
             ],
             [
              0.1111111111111111,
              "#46039f"
             ],
             [
              0.2222222222222222,
              "#7201a8"
             ],
             [
              0.3333333333333333,
              "#9c179e"
             ],
             [
              0.4444444444444444,
              "#bd3786"
             ],
             [
              0.5555555555555556,
              "#d8576b"
             ],
             [
              0.6666666666666666,
              "#ed7953"
             ],
             [
              0.7777777777777778,
              "#fb9f3a"
             ],
             [
              0.8888888888888888,
              "#fdca26"
             ],
             [
              1,
              "#f0f921"
             ]
            ],
            "type": "histogram2d"
           }
          ],
          "histogram2dcontour": [
           {
            "colorbar": {
             "outlinewidth": 0,
             "ticks": ""
            },
            "colorscale": [
             [
              0,
              "#0d0887"
             ],
             [
              0.1111111111111111,
              "#46039f"
             ],
             [
              0.2222222222222222,
              "#7201a8"
             ],
             [
              0.3333333333333333,
              "#9c179e"
             ],
             [
              0.4444444444444444,
              "#bd3786"
             ],
             [
              0.5555555555555556,
              "#d8576b"
             ],
             [
              0.6666666666666666,
              "#ed7953"
             ],
             [
              0.7777777777777778,
              "#fb9f3a"
             ],
             [
              0.8888888888888888,
              "#fdca26"
             ],
             [
              1,
              "#f0f921"
             ]
            ],
            "type": "histogram2dcontour"
           }
          ],
          "mesh3d": [
           {
            "colorbar": {
             "outlinewidth": 0,
             "ticks": ""
            },
            "type": "mesh3d"
           }
          ],
          "parcoords": [
           {
            "line": {
             "colorbar": {
              "outlinewidth": 0,
              "ticks": ""
             }
            },
            "type": "parcoords"
           }
          ],
          "pie": [
           {
            "automargin": true,
            "type": "pie"
           }
          ],
          "scatter": [
           {
            "marker": {
             "colorbar": {
              "outlinewidth": 0,
              "ticks": ""
             }
            },
            "type": "scatter"
           }
          ],
          "scatter3d": [
           {
            "line": {
             "colorbar": {
              "outlinewidth": 0,
              "ticks": ""
             }
            },
            "marker": {
             "colorbar": {
              "outlinewidth": 0,
              "ticks": ""
             }
            },
            "type": "scatter3d"
           }
          ],
          "scattercarpet": [
           {
            "marker": {
             "colorbar": {
              "outlinewidth": 0,
              "ticks": ""
             }
            },
            "type": "scattercarpet"
           }
          ],
          "scattergeo": [
           {
            "marker": {
             "colorbar": {
              "outlinewidth": 0,
              "ticks": ""
             }
            },
            "type": "scattergeo"
           }
          ],
          "scattergl": [
           {
            "marker": {
             "colorbar": {
              "outlinewidth": 0,
              "ticks": ""
             }
            },
            "type": "scattergl"
           }
          ],
          "scattermapbox": [
           {
            "marker": {
             "colorbar": {
              "outlinewidth": 0,
              "ticks": ""
             }
            },
            "type": "scattermapbox"
           }
          ],
          "scatterpolar": [
           {
            "marker": {
             "colorbar": {
              "outlinewidth": 0,
              "ticks": ""
             }
            },
            "type": "scatterpolar"
           }
          ],
          "scatterpolargl": [
           {
            "marker": {
             "colorbar": {
              "outlinewidth": 0,
              "ticks": ""
             }
            },
            "type": "scatterpolargl"
           }
          ],
          "scatterternary": [
           {
            "marker": {
             "colorbar": {
              "outlinewidth": 0,
              "ticks": ""
             }
            },
            "type": "scatterternary"
           }
          ],
          "surface": [
           {
            "colorbar": {
             "outlinewidth": 0,
             "ticks": ""
            },
            "colorscale": [
             [
              0,
              "#0d0887"
             ],
             [
              0.1111111111111111,
              "#46039f"
             ],
             [
              0.2222222222222222,
              "#7201a8"
             ],
             [
              0.3333333333333333,
              "#9c179e"
             ],
             [
              0.4444444444444444,
              "#bd3786"
             ],
             [
              0.5555555555555556,
              "#d8576b"
             ],
             [
              0.6666666666666666,
              "#ed7953"
             ],
             [
              0.7777777777777778,
              "#fb9f3a"
             ],
             [
              0.8888888888888888,
              "#fdca26"
             ],
             [
              1,
              "#f0f921"
             ]
            ],
            "type": "surface"
           }
          ],
          "table": [
           {
            "cells": {
             "fill": {
              "color": "#EBF0F8"
             },
             "line": {
              "color": "white"
             }
            },
            "header": {
             "fill": {
              "color": "#C8D4E3"
             },
             "line": {
              "color": "white"
             }
            },
            "type": "table"
           }
          ]
         },
         "layout": {
          "annotationdefaults": {
           "arrowcolor": "#2a3f5f",
           "arrowhead": 0,
           "arrowwidth": 1
          },
          "autotypenumbers": "strict",
          "coloraxis": {
           "colorbar": {
            "outlinewidth": 0,
            "ticks": ""
           }
          },
          "colorscale": {
           "diverging": [
            [
             0,
             "#8e0152"
            ],
            [
             0.1,
             "#c51b7d"
            ],
            [
             0.2,
             "#de77ae"
            ],
            [
             0.3,
             "#f1b6da"
            ],
            [
             0.4,
             "#fde0ef"
            ],
            [
             0.5,
             "#f7f7f7"
            ],
            [
             0.6,
             "#e6f5d0"
            ],
            [
             0.7,
             "#b8e186"
            ],
            [
             0.8,
             "#7fbc41"
            ],
            [
             0.9,
             "#4d9221"
            ],
            [
             1,
             "#276419"
            ]
           ],
           "sequential": [
            [
             0,
             "#0d0887"
            ],
            [
             0.1111111111111111,
             "#46039f"
            ],
            [
             0.2222222222222222,
             "#7201a8"
            ],
            [
             0.3333333333333333,
             "#9c179e"
            ],
            [
             0.4444444444444444,
             "#bd3786"
            ],
            [
             0.5555555555555556,
             "#d8576b"
            ],
            [
             0.6666666666666666,
             "#ed7953"
            ],
            [
             0.7777777777777778,
             "#fb9f3a"
            ],
            [
             0.8888888888888888,
             "#fdca26"
            ],
            [
             1,
             "#f0f921"
            ]
           ],
           "sequentialminus": [
            [
             0,
             "#0d0887"
            ],
            [
             0.1111111111111111,
             "#46039f"
            ],
            [
             0.2222222222222222,
             "#7201a8"
            ],
            [
             0.3333333333333333,
             "#9c179e"
            ],
            [
             0.4444444444444444,
             "#bd3786"
            ],
            [
             0.5555555555555556,
             "#d8576b"
            ],
            [
             0.6666666666666666,
             "#ed7953"
            ],
            [
             0.7777777777777778,
             "#fb9f3a"
            ],
            [
             0.8888888888888888,
             "#fdca26"
            ],
            [
             1,
             "#f0f921"
            ]
           ]
          },
          "colorway": [
           "#636efa",
           "#EF553B",
           "#00cc96",
           "#ab63fa",
           "#FFA15A",
           "#19d3f3",
           "#FF6692",
           "#B6E880",
           "#FF97FF",
           "#FECB52"
          ],
          "font": {
           "color": "#2a3f5f"
          },
          "geo": {
           "bgcolor": "white",
           "lakecolor": "white",
           "landcolor": "#E5ECF6",
           "showlakes": true,
           "showland": true,
           "subunitcolor": "white"
          },
          "hoverlabel": {
           "align": "left"
          },
          "hovermode": "closest",
          "mapbox": {
           "style": "light"
          },
          "paper_bgcolor": "white",
          "plot_bgcolor": "#E5ECF6",
          "polar": {
           "angularaxis": {
            "gridcolor": "white",
            "linecolor": "white",
            "ticks": ""
           },
           "bgcolor": "#E5ECF6",
           "radialaxis": {
            "gridcolor": "white",
            "linecolor": "white",
            "ticks": ""
           }
          },
          "scene": {
           "xaxis": {
            "backgroundcolor": "#E5ECF6",
            "gridcolor": "white",
            "gridwidth": 2,
            "linecolor": "white",
            "showbackground": true,
            "ticks": "",
            "zerolinecolor": "white"
           },
           "yaxis": {
            "backgroundcolor": "#E5ECF6",
            "gridcolor": "white",
            "gridwidth": 2,
            "linecolor": "white",
            "showbackground": true,
            "ticks": "",
            "zerolinecolor": "white"
           },
           "zaxis": {
            "backgroundcolor": "#E5ECF6",
            "gridcolor": "white",
            "gridwidth": 2,
            "linecolor": "white",
            "showbackground": true,
            "ticks": "",
            "zerolinecolor": "white"
           }
          },
          "shapedefaults": {
           "line": {
            "color": "#2a3f5f"
           }
          },
          "ternary": {
           "aaxis": {
            "gridcolor": "white",
            "linecolor": "white",
            "ticks": ""
           },
           "baxis": {
            "gridcolor": "white",
            "linecolor": "white",
            "ticks": ""
           },
           "bgcolor": "#E5ECF6",
           "caxis": {
            "gridcolor": "white",
            "linecolor": "white",
            "ticks": ""
           }
          },
          "title": {
           "x": 0.05
          },
          "xaxis": {
           "automargin": true,
           "gridcolor": "white",
           "linecolor": "white",
           "ticks": "",
           "title": {
            "standoff": 15
           },
           "zerolinecolor": "white",
           "zerolinewidth": 2
          },
          "yaxis": {
           "automargin": true,
           "gridcolor": "white",
           "linecolor": "white",
           "ticks": "",
           "title": {
            "standoff": 15
           },
           "zerolinecolor": "white",
           "zerolinewidth": 2
          }
         }
        },
        "title": {
         "font": {
          "color": "#4D5663"
         },
         "text": "SF Giants Record Throughout Season"
        },
        "xaxis": {
         "gridcolor": "#E1E5ED",
         "showgrid": true,
         "tickfont": {
          "color": "#4D5663"
         },
         "title": {
          "font": {
           "color": "#4D5663"
          },
          "text": "Games Played"
         },
         "zerolinecolor": "#E1E5ED"
        },
        "yaxis": {
         "gridcolor": "#E1E5ED",
         "showgrid": true,
         "tickfont": {
          "color": "#4D5663"
         },
         "title": {
          "font": {
           "color": "#4D5663"
          },
          "text": "Number of Wins"
         },
         "zerolinecolor": "#E1E5ED"
        }
       }
      },
      "text/html": [
       "<div>                            <div id=\"c5e9861c-7407-4030-b97f-cb6c94a782bc\" class=\"plotly-graph-div\" style=\"height:525px; width:100%;\"></div>            <script type=\"text/javascript\">                require([\"plotly\"], function(Plotly) {                    window.PLOTLYENV=window.PLOTLYENV || {};\n",
       "                    window.PLOTLYENV.BASE_URL='https://plot.ly';                                    if (document.getElementById(\"c5e9861c-7407-4030-b97f-cb6c94a782bc\")) {                    Plotly.newPlot(                        \"c5e9861c-7407-4030-b97f-cb6c94a782bc\",                        [{\"line\":{\"color\":\"rgba(255, 153, 51, 1.0)\",\"dash\":\"solid\",\"shape\":\"linear\",\"width\":1.3},\"mode\":\"lines\",\"name\":\"2010 Wins\",\"text\":\"\",\"x\":[0,1,2,3,4,5,6,7,8,9,10,11,12,13,14,15,16,17,18,19,20,21,22,23,24,25,26,27,28,29,30,31,32,33,34,35,36,37,38,39,40,41,42,43,44,45,46,47,48,49,50,51,52,53,54,55,56,57,58,59,60,61,62,63,64,65,66,67,68,69,70,71,72,73,74,75,76,77,78,79,80,81,82,83,84,85,86,87,88,89,90,91,92,93,94,95,96,97,98,99,100,101,102,103,104,105,106,107,108,109,110,111,112,113,114,115,116,117,118,119,120,121,122,123,124,125,126,127,128,129,130,131,132,133,134,135,136,137,138,139,140,141,142,143,144,145,146,147,148,149,150,151,152,153,154,155,156,157,158,159,160,161],\"y\":[1,2,3,4,4,5,6,6,7,7,8,8,8,8,8,9,10,10,11,12,12,13,14,14,15,16,17,17,17,18,18,18,18,19,20,21,21,22,22,22,22,22,22,23,23,24,25,26,27,27,27,28,29,29,30,31,32,32,32,33,34,35,36,36,37,37,37,38,39,39,39,40,40,40,40,40,40,40,40,41,41,42,43,44,45,45,46,47,48,49,50,50,51,52,52,53,54,55,56,56,57,58,58,59,60,61,62,62,62,63,63,63,64,64,65,66,66,67,67,67,67,68,69,69,69,70,71,71,71,71,72,72,73,74,74,75,76,77,78,78,79,80,80,81,81,82,83,83,83,84,85,85,86,87,87,88,89,90,91,91,91,92],\"type\":\"scatter\"},{\"line\":{\"color\":\"rgba(55, 128, 191, 1.0)\",\"dash\":\"solid\",\"shape\":\"linear\",\"width\":1.3},\"mode\":\"lines\",\"name\":\"2012 Wins\",\"text\":\"\",\"x\":[0,1,2,3,4,5,6,7,8,9,10,11,12,13,14,15,16,17,18,19,20,21,22,23,24,25,26,27,28,29,30,31,32,33,34,35,36,37,38,39,40,41,42,43,44,45,46,47,48,49,50,51,52,53,54,55,56,57,58,59,60,61,62,63,64,65,66,67,68,69,70,71,72,73,74,75,76,77,78,79,80,81,82,83,84,85,86,87,88,89,90,91,92,93,94,95,96,97,98,99,100,101,102,103,104,105,106,107,108,109,110,111,112,113,114,115,116,117,118,119,120,121,122,123,124,125,126,127,128,129,130,131,132,133,134,135,136,137,138,139,140,141,142,143,144,145,146,147,148,149,150,151,152,153,154,155,156,157,158,159,160,161],\"y\":[0,0,0,1,1,2,3,4,4,4,5,6,7,7,8,9,9,9,10,10,11,12,12,12,12,12,13,14,14,15,15,15,16,17,18,18,18,19,20,21,21,22,23,23,24,24,24,25,26,27,27,28,29,30,31,31,32,33,33,34,34,35,36,36,37,37,37,38,38,38,39,40,40,41,42,43,44,44,44,45,45,45,45,46,46,46,47,48,49,50,51,51,52,53,53,54,55,55,55,55,55,55,56,56,56,57,58,59,59,60,61,61,61,62,63,63,64,64,65,66,66,67,68,69,70,71,71,71,72,73,74,74,75,76,77,77,77,78,78,79,79,80,81,82,83,83,84,85,86,87,88,89,89,89,90,91,92,92,93,93,94,94],\"type\":\"scatter\"},{\"line\":{\"color\":\"rgba(50, 171, 96, 1.0)\",\"dash\":\"solid\",\"shape\":\"linear\",\"width\":1.3},\"mode\":\"lines\",\"name\":\"2014 Wins\",\"text\":\"\",\"x\":[0,1,2,3,4,5,6,7,8,9,10,11,12,13,14,15,16,17,18,19,20,21,22,23,24,25,26,27,28,29,30,31,32,33,34,35,36,37,38,39,40,41,42,43,44,45,46,47,48,49,50,51,52,53,54,55,56,57,58,59,60,61,62,63,64,65,66,67,68,69,70,71,72,73,74,75,76,77,78,79,80,81,82,83,84,85,86,87,88,89,90,91,92,93,94,95,96,97,98,99,100,101,102,103,104,105,106,107,108,109,110,111,112,113,114,115,116,117,118,119,120,121,122,123,124,125,126,127,128,129,130,131,132,133,134,135,136,137,138,139,140,141,142,143,144,145,146,147,148,149,150,151,152,153,154,155,156,157,158,159,160,161],\"y\":[1,1,2,3,4,5,5,6,6,6,7,7,8,9,10,10,10,10,11,11,11,12,13,14,15,15,16,17,18,19,20,21,21,21,22,23,23,24,25,25,26,27,27,27,28,28,29,30,31,32,33,33,34,35,36,37,37,38,38,39,40,41,42,43,43,43,43,44,44,44,44,44,44,44,45,46,46,46,47,47,47,47,47,48,48,48,48,49,50,50,50,51,51,52,52,53,54,55,55,56,57,58,58,58,58,58,58,58,59,60,60,61,62,62,63,63,63,63,63,63,64,64,65,66,66,67,68,69,69,69,69,70,71,72,73,74,75,75,76,76,77,78,78,79,80,81,82,82,82,82,83,84,84,84,84,85,85,85,86,86,87,88],\"type\":\"scatter\"}],                        {\"legend\":{\"bgcolor\":\"#F5F6F9\",\"font\":{\"color\":\"#4D5663\"}},\"paper_bgcolor\":\"#F5F6F9\",\"plot_bgcolor\":\"#F5F6F9\",\"template\":{\"data\":{\"barpolar\":[{\"marker\":{\"line\":{\"color\":\"#E5ECF6\",\"width\":0.5},\"pattern\":{\"fillmode\":\"overlay\",\"size\":10,\"solidity\":0.2}},\"type\":\"barpolar\"}],\"bar\":[{\"error_x\":{\"color\":\"#2a3f5f\"},\"error_y\":{\"color\":\"#2a3f5f\"},\"marker\":{\"line\":{\"color\":\"#E5ECF6\",\"width\":0.5},\"pattern\":{\"fillmode\":\"overlay\",\"size\":10,\"solidity\":0.2}},\"type\":\"bar\"}],\"carpet\":[{\"aaxis\":{\"endlinecolor\":\"#2a3f5f\",\"gridcolor\":\"white\",\"linecolor\":\"white\",\"minorgridcolor\":\"white\",\"startlinecolor\":\"#2a3f5f\"},\"baxis\":{\"endlinecolor\":\"#2a3f5f\",\"gridcolor\":\"white\",\"linecolor\":\"white\",\"minorgridcolor\":\"white\",\"startlinecolor\":\"#2a3f5f\"},\"type\":\"carpet\"}],\"choropleth\":[{\"colorbar\":{\"outlinewidth\":0,\"ticks\":\"\"},\"type\":\"choropleth\"}],\"contourcarpet\":[{\"colorbar\":{\"outlinewidth\":0,\"ticks\":\"\"},\"type\":\"contourcarpet\"}],\"contour\":[{\"colorbar\":{\"outlinewidth\":0,\"ticks\":\"\"},\"colorscale\":[[0.0,\"#0d0887\"],[0.1111111111111111,\"#46039f\"],[0.2222222222222222,\"#7201a8\"],[0.3333333333333333,\"#9c179e\"],[0.4444444444444444,\"#bd3786\"],[0.5555555555555556,\"#d8576b\"],[0.6666666666666666,\"#ed7953\"],[0.7777777777777778,\"#fb9f3a\"],[0.8888888888888888,\"#fdca26\"],[1.0,\"#f0f921\"]],\"type\":\"contour\"}],\"heatmapgl\":[{\"colorbar\":{\"outlinewidth\":0,\"ticks\":\"\"},\"colorscale\":[[0.0,\"#0d0887\"],[0.1111111111111111,\"#46039f\"],[0.2222222222222222,\"#7201a8\"],[0.3333333333333333,\"#9c179e\"],[0.4444444444444444,\"#bd3786\"],[0.5555555555555556,\"#d8576b\"],[0.6666666666666666,\"#ed7953\"],[0.7777777777777778,\"#fb9f3a\"],[0.8888888888888888,\"#fdca26\"],[1.0,\"#f0f921\"]],\"type\":\"heatmapgl\"}],\"heatmap\":[{\"colorbar\":{\"outlinewidth\":0,\"ticks\":\"\"},\"colorscale\":[[0.0,\"#0d0887\"],[0.1111111111111111,\"#46039f\"],[0.2222222222222222,\"#7201a8\"],[0.3333333333333333,\"#9c179e\"],[0.4444444444444444,\"#bd3786\"],[0.5555555555555556,\"#d8576b\"],[0.6666666666666666,\"#ed7953\"],[0.7777777777777778,\"#fb9f3a\"],[0.8888888888888888,\"#fdca26\"],[1.0,\"#f0f921\"]],\"type\":\"heatmap\"}],\"histogram2dcontour\":[{\"colorbar\":{\"outlinewidth\":0,\"ticks\":\"\"},\"colorscale\":[[0.0,\"#0d0887\"],[0.1111111111111111,\"#46039f\"],[0.2222222222222222,\"#7201a8\"],[0.3333333333333333,\"#9c179e\"],[0.4444444444444444,\"#bd3786\"],[0.5555555555555556,\"#d8576b\"],[0.6666666666666666,\"#ed7953\"],[0.7777777777777778,\"#fb9f3a\"],[0.8888888888888888,\"#fdca26\"],[1.0,\"#f0f921\"]],\"type\":\"histogram2dcontour\"}],\"histogram2d\":[{\"colorbar\":{\"outlinewidth\":0,\"ticks\":\"\"},\"colorscale\":[[0.0,\"#0d0887\"],[0.1111111111111111,\"#46039f\"],[0.2222222222222222,\"#7201a8\"],[0.3333333333333333,\"#9c179e\"],[0.4444444444444444,\"#bd3786\"],[0.5555555555555556,\"#d8576b\"],[0.6666666666666666,\"#ed7953\"],[0.7777777777777778,\"#fb9f3a\"],[0.8888888888888888,\"#fdca26\"],[1.0,\"#f0f921\"]],\"type\":\"histogram2d\"}],\"histogram\":[{\"marker\":{\"pattern\":{\"fillmode\":\"overlay\",\"size\":10,\"solidity\":0.2}},\"type\":\"histogram\"}],\"mesh3d\":[{\"colorbar\":{\"outlinewidth\":0,\"ticks\":\"\"},\"type\":\"mesh3d\"}],\"parcoords\":[{\"line\":{\"colorbar\":{\"outlinewidth\":0,\"ticks\":\"\"}},\"type\":\"parcoords\"}],\"pie\":[{\"automargin\":true,\"type\":\"pie\"}],\"scatter3d\":[{\"line\":{\"colorbar\":{\"outlinewidth\":0,\"ticks\":\"\"}},\"marker\":{\"colorbar\":{\"outlinewidth\":0,\"ticks\":\"\"}},\"type\":\"scatter3d\"}],\"scattercarpet\":[{\"marker\":{\"colorbar\":{\"outlinewidth\":0,\"ticks\":\"\"}},\"type\":\"scattercarpet\"}],\"scattergeo\":[{\"marker\":{\"colorbar\":{\"outlinewidth\":0,\"ticks\":\"\"}},\"type\":\"scattergeo\"}],\"scattergl\":[{\"marker\":{\"colorbar\":{\"outlinewidth\":0,\"ticks\":\"\"}},\"type\":\"scattergl\"}],\"scattermapbox\":[{\"marker\":{\"colorbar\":{\"outlinewidth\":0,\"ticks\":\"\"}},\"type\":\"scattermapbox\"}],\"scatterpolargl\":[{\"marker\":{\"colorbar\":{\"outlinewidth\":0,\"ticks\":\"\"}},\"type\":\"scatterpolargl\"}],\"scatterpolar\":[{\"marker\":{\"colorbar\":{\"outlinewidth\":0,\"ticks\":\"\"}},\"type\":\"scatterpolar\"}],\"scatter\":[{\"marker\":{\"colorbar\":{\"outlinewidth\":0,\"ticks\":\"\"}},\"type\":\"scatter\"}],\"scatterternary\":[{\"marker\":{\"colorbar\":{\"outlinewidth\":0,\"ticks\":\"\"}},\"type\":\"scatterternary\"}],\"surface\":[{\"colorbar\":{\"outlinewidth\":0,\"ticks\":\"\"},\"colorscale\":[[0.0,\"#0d0887\"],[0.1111111111111111,\"#46039f\"],[0.2222222222222222,\"#7201a8\"],[0.3333333333333333,\"#9c179e\"],[0.4444444444444444,\"#bd3786\"],[0.5555555555555556,\"#d8576b\"],[0.6666666666666666,\"#ed7953\"],[0.7777777777777778,\"#fb9f3a\"],[0.8888888888888888,\"#fdca26\"],[1.0,\"#f0f921\"]],\"type\":\"surface\"}],\"table\":[{\"cells\":{\"fill\":{\"color\":\"#EBF0F8\"},\"line\":{\"color\":\"white\"}},\"header\":{\"fill\":{\"color\":\"#C8D4E3\"},\"line\":{\"color\":\"white\"}},\"type\":\"table\"}]},\"layout\":{\"annotationdefaults\":{\"arrowcolor\":\"#2a3f5f\",\"arrowhead\":0,\"arrowwidth\":1},\"autotypenumbers\":\"strict\",\"coloraxis\":{\"colorbar\":{\"outlinewidth\":0,\"ticks\":\"\"}},\"colorscale\":{\"diverging\":[[0,\"#8e0152\"],[0.1,\"#c51b7d\"],[0.2,\"#de77ae\"],[0.3,\"#f1b6da\"],[0.4,\"#fde0ef\"],[0.5,\"#f7f7f7\"],[0.6,\"#e6f5d0\"],[0.7,\"#b8e186\"],[0.8,\"#7fbc41\"],[0.9,\"#4d9221\"],[1,\"#276419\"]],\"sequential\":[[0.0,\"#0d0887\"],[0.1111111111111111,\"#46039f\"],[0.2222222222222222,\"#7201a8\"],[0.3333333333333333,\"#9c179e\"],[0.4444444444444444,\"#bd3786\"],[0.5555555555555556,\"#d8576b\"],[0.6666666666666666,\"#ed7953\"],[0.7777777777777778,\"#fb9f3a\"],[0.8888888888888888,\"#fdca26\"],[1.0,\"#f0f921\"]],\"sequentialminus\":[[0.0,\"#0d0887\"],[0.1111111111111111,\"#46039f\"],[0.2222222222222222,\"#7201a8\"],[0.3333333333333333,\"#9c179e\"],[0.4444444444444444,\"#bd3786\"],[0.5555555555555556,\"#d8576b\"],[0.6666666666666666,\"#ed7953\"],[0.7777777777777778,\"#fb9f3a\"],[0.8888888888888888,\"#fdca26\"],[1.0,\"#f0f921\"]]},\"colorway\":[\"#636efa\",\"#EF553B\",\"#00cc96\",\"#ab63fa\",\"#FFA15A\",\"#19d3f3\",\"#FF6692\",\"#B6E880\",\"#FF97FF\",\"#FECB52\"],\"font\":{\"color\":\"#2a3f5f\"},\"geo\":{\"bgcolor\":\"white\",\"lakecolor\":\"white\",\"landcolor\":\"#E5ECF6\",\"showlakes\":true,\"showland\":true,\"subunitcolor\":\"white\"},\"hoverlabel\":{\"align\":\"left\"},\"hovermode\":\"closest\",\"mapbox\":{\"style\":\"light\"},\"paper_bgcolor\":\"white\",\"plot_bgcolor\":\"#E5ECF6\",\"polar\":{\"angularaxis\":{\"gridcolor\":\"white\",\"linecolor\":\"white\",\"ticks\":\"\"},\"bgcolor\":\"#E5ECF6\",\"radialaxis\":{\"gridcolor\":\"white\",\"linecolor\":\"white\",\"ticks\":\"\"}},\"scene\":{\"xaxis\":{\"backgroundcolor\":\"#E5ECF6\",\"gridcolor\":\"white\",\"gridwidth\":2,\"linecolor\":\"white\",\"showbackground\":true,\"ticks\":\"\",\"zerolinecolor\":\"white\"},\"yaxis\":{\"backgroundcolor\":\"#E5ECF6\",\"gridcolor\":\"white\",\"gridwidth\":2,\"linecolor\":\"white\",\"showbackground\":true,\"ticks\":\"\",\"zerolinecolor\":\"white\"},\"zaxis\":{\"backgroundcolor\":\"#E5ECF6\",\"gridcolor\":\"white\",\"gridwidth\":2,\"linecolor\":\"white\",\"showbackground\":true,\"ticks\":\"\",\"zerolinecolor\":\"white\"}},\"shapedefaults\":{\"line\":{\"color\":\"#2a3f5f\"}},\"ternary\":{\"aaxis\":{\"gridcolor\":\"white\",\"linecolor\":\"white\",\"ticks\":\"\"},\"baxis\":{\"gridcolor\":\"white\",\"linecolor\":\"white\",\"ticks\":\"\"},\"bgcolor\":\"#E5ECF6\",\"caxis\":{\"gridcolor\":\"white\",\"linecolor\":\"white\",\"ticks\":\"\"}},\"title\":{\"x\":0.05},\"xaxis\":{\"automargin\":true,\"gridcolor\":\"white\",\"linecolor\":\"white\",\"ticks\":\"\",\"title\":{\"standoff\":15},\"zerolinecolor\":\"white\",\"zerolinewidth\":2},\"yaxis\":{\"automargin\":true,\"gridcolor\":\"white\",\"linecolor\":\"white\",\"ticks\":\"\",\"title\":{\"standoff\":15},\"zerolinecolor\":\"white\",\"zerolinewidth\":2}}},\"title\":{\"font\":{\"color\":\"#4D5663\"},\"text\":\"SF Giants Record Throughout Season\"},\"xaxis\":{\"gridcolor\":\"#E1E5ED\",\"showgrid\":true,\"tickfont\":{\"color\":\"#4D5663\"},\"title\":{\"font\":{\"color\":\"#4D5663\"},\"text\":\"Games Played\"},\"zerolinecolor\":\"#E1E5ED\"},\"yaxis\":{\"gridcolor\":\"#E1E5ED\",\"showgrid\":true,\"tickfont\":{\"color\":\"#4D5663\"},\"title\":{\"font\":{\"color\":\"#4D5663\"},\"text\":\"Number of Wins\"},\"zerolinecolor\":\"#E1E5ED\"}},                        {\"showLink\": true, \"linkText\": \"Export to plot.ly\", \"plotlyServerURL\": \"https://plot.ly\", \"responsive\": true}                    ).then(function(){\n",
       "                            \n",
       "var gd = document.getElementById('c5e9861c-7407-4030-b97f-cb6c94a782bc');\n",
       "var x = new MutationObserver(function (mutations, observer) {{\n",
       "        var display = window.getComputedStyle(gd).display;\n",
       "        if (!display || display === 'none') {{\n",
       "            console.log([gd, 'removed!']);\n",
       "            Plotly.purge(gd);\n",
       "            observer.disconnect();\n",
       "        }}\n",
       "}});\n",
       "\n",
       "// Listen for the removal of the full notebook cells\n",
       "var notebookContainer = gd.closest('#notebook-container');\n",
       "if (notebookContainer) {{\n",
       "    x.observe(notebookContainer, {childList: true});\n",
       "}}\n",
       "\n",
       "// Listen for the clearing of the current output cell\n",
       "var outputEl = gd.closest('.output');\n",
       "if (outputEl) {{\n",
       "    x.observe(outputEl, {childList: true});\n",
       "}}\n",
       "\n",
       "                        })                };                });            </script>        </div>"
      ]
     },
     "metadata": {},
     "output_type": "display_data"
    }
   ],
   "source": [
    "sfWinCount.iplot(title = 'SF Giants Record Throughout Season',xTitle='Games Played',yTitle='Number of Wins')"
   ]
  },
  {
   "cell_type": "markdown",
   "id": "ae15b071",
   "metadata": {},
   "source": [
    "## Final Standings\n",
    "\n",
    "Generally, a team with around 90 wins should win their divison. By checking the standings for each of the three seasons, I can see if each team won the divison or entered the playoffs via the Wild Card. The 2010 and 2012 teams, with records above 90 games, won the division each year. The 2014 team with 87 wins snuck into the playoffs with a Wild Card spot."
   ]
  },
  {
   "cell_type": "code",
   "execution_count": 11,
   "id": "11b6bc23",
   "metadata": {},
   "outputs": [],
   "source": [
    "from pybaseball import standings"
   ]
  },
  {
   "cell_type": "code",
   "execution_count": 12,
   "id": "ed4e8173",
   "metadata": {},
   "outputs": [
    {
     "data": {
      "text/html": [
       "<div>\n",
       "<style scoped>\n",
       "    .dataframe tbody tr th:only-of-type {\n",
       "        vertical-align: middle;\n",
       "    }\n",
       "\n",
       "    .dataframe tbody tr th {\n",
       "        vertical-align: top;\n",
       "    }\n",
       "\n",
       "    .dataframe thead th {\n",
       "        text-align: right;\n",
       "    }\n",
       "</style>\n",
       "<table border=\"1\" class=\"dataframe\">\n",
       "  <thead>\n",
       "    <tr style=\"text-align: right;\">\n",
       "      <th></th>\n",
       "      <th>Tm</th>\n",
       "      <th>W</th>\n",
       "      <th>L</th>\n",
       "      <th>W-L%</th>\n",
       "      <th>GB</th>\n",
       "    </tr>\n",
       "  </thead>\n",
       "  <tbody>\n",
       "    <tr>\n",
       "      <th>1</th>\n",
       "      <td>San Francisco Giants</td>\n",
       "      <td>92</td>\n",
       "      <td>70</td>\n",
       "      <td>.568</td>\n",
       "      <td>--</td>\n",
       "    </tr>\n",
       "    <tr>\n",
       "      <th>2</th>\n",
       "      <td>San Diego Padres</td>\n",
       "      <td>90</td>\n",
       "      <td>72</td>\n",
       "      <td>.556</td>\n",
       "      <td>2.0</td>\n",
       "    </tr>\n",
       "    <tr>\n",
       "      <th>3</th>\n",
       "      <td>Colorado Rockies</td>\n",
       "      <td>83</td>\n",
       "      <td>79</td>\n",
       "      <td>.512</td>\n",
       "      <td>9.0</td>\n",
       "    </tr>\n",
       "    <tr>\n",
       "      <th>4</th>\n",
       "      <td>Los Angeles Dodgers</td>\n",
       "      <td>80</td>\n",
       "      <td>82</td>\n",
       "      <td>.494</td>\n",
       "      <td>12.0</td>\n",
       "    </tr>\n",
       "    <tr>\n",
       "      <th>5</th>\n",
       "      <td>Arizona Diamondbacks</td>\n",
       "      <td>65</td>\n",
       "      <td>97</td>\n",
       "      <td>.401</td>\n",
       "      <td>27.0</td>\n",
       "    </tr>\n",
       "  </tbody>\n",
       "</table>\n",
       "</div>"
      ],
      "text/plain": [
       "                     Tm   W   L  W-L%    GB\n",
       "1  San Francisco Giants  92  70  .568    --\n",
       "2      San Diego Padres  90  72  .556   2.0\n",
       "3      Colorado Rockies  83  79  .512   9.0\n",
       "4   Los Angeles Dodgers  80  82  .494  12.0\n",
       "5  Arizona Diamondbacks  65  97  .401  27.0"
      ]
     },
     "execution_count": 12,
     "metadata": {},
     "output_type": "execute_result"
    }
   ],
   "source": [
    "# I am taking an index because the 2010 standings item is a list of dataframes and the 5th index represents the NL West\n",
    "standings(2010)[5]"
   ]
  },
  {
   "cell_type": "code",
   "execution_count": 13,
   "id": "361df93b",
   "metadata": {},
   "outputs": [
    {
     "data": {
      "text/html": [
       "<div>\n",
       "<style scoped>\n",
       "    .dataframe tbody tr th:only-of-type {\n",
       "        vertical-align: middle;\n",
       "    }\n",
       "\n",
       "    .dataframe tbody tr th {\n",
       "        vertical-align: top;\n",
       "    }\n",
       "\n",
       "    .dataframe thead th {\n",
       "        text-align: right;\n",
       "    }\n",
       "</style>\n",
       "<table border=\"1\" class=\"dataframe\">\n",
       "  <thead>\n",
       "    <tr style=\"text-align: right;\">\n",
       "      <th></th>\n",
       "      <th>Tm</th>\n",
       "      <th>W</th>\n",
       "      <th>L</th>\n",
       "      <th>W-L%</th>\n",
       "      <th>GB</th>\n",
       "    </tr>\n",
       "  </thead>\n",
       "  <tbody>\n",
       "    <tr>\n",
       "      <th>1</th>\n",
       "      <td>San Francisco Giants</td>\n",
       "      <td>94</td>\n",
       "      <td>68</td>\n",
       "      <td>.580</td>\n",
       "      <td>--</td>\n",
       "    </tr>\n",
       "    <tr>\n",
       "      <th>2</th>\n",
       "      <td>Los Angeles Dodgers</td>\n",
       "      <td>86</td>\n",
       "      <td>76</td>\n",
       "      <td>.531</td>\n",
       "      <td>8.0</td>\n",
       "    </tr>\n",
       "    <tr>\n",
       "      <th>3</th>\n",
       "      <td>Arizona Diamondbacks</td>\n",
       "      <td>81</td>\n",
       "      <td>81</td>\n",
       "      <td>.500</td>\n",
       "      <td>13.0</td>\n",
       "    </tr>\n",
       "    <tr>\n",
       "      <th>4</th>\n",
       "      <td>San Diego Padres</td>\n",
       "      <td>76</td>\n",
       "      <td>86</td>\n",
       "      <td>.469</td>\n",
       "      <td>18.0</td>\n",
       "    </tr>\n",
       "    <tr>\n",
       "      <th>5</th>\n",
       "      <td>Colorado Rockies</td>\n",
       "      <td>64</td>\n",
       "      <td>98</td>\n",
       "      <td>.395</td>\n",
       "      <td>30.0</td>\n",
       "    </tr>\n",
       "  </tbody>\n",
       "</table>\n",
       "</div>"
      ],
      "text/plain": [
       "                     Tm   W   L  W-L%    GB\n",
       "1  San Francisco Giants  94  68  .580    --\n",
       "2   Los Angeles Dodgers  86  76  .531   8.0\n",
       "3  Arizona Diamondbacks  81  81  .500  13.0\n",
       "4      San Diego Padres  76  86  .469  18.0\n",
       "5      Colorado Rockies  64  98  .395  30.0"
      ]
     },
     "execution_count": 13,
     "metadata": {},
     "output_type": "execute_result"
    }
   ],
   "source": [
    "standings(2012)[5]"
   ]
  },
  {
   "cell_type": "code",
   "execution_count": 14,
   "id": "78f7fd49",
   "metadata": {},
   "outputs": [
    {
     "data": {
      "text/html": [
       "<div>\n",
       "<style scoped>\n",
       "    .dataframe tbody tr th:only-of-type {\n",
       "        vertical-align: middle;\n",
       "    }\n",
       "\n",
       "    .dataframe tbody tr th {\n",
       "        vertical-align: top;\n",
       "    }\n",
       "\n",
       "    .dataframe thead th {\n",
       "        text-align: right;\n",
       "    }\n",
       "</style>\n",
       "<table border=\"1\" class=\"dataframe\">\n",
       "  <thead>\n",
       "    <tr style=\"text-align: right;\">\n",
       "      <th></th>\n",
       "      <th>Tm</th>\n",
       "      <th>W</th>\n",
       "      <th>L</th>\n",
       "      <th>W-L%</th>\n",
       "      <th>GB</th>\n",
       "    </tr>\n",
       "  </thead>\n",
       "  <tbody>\n",
       "    <tr>\n",
       "      <th>1</th>\n",
       "      <td>Los Angeles Dodgers</td>\n",
       "      <td>94</td>\n",
       "      <td>68</td>\n",
       "      <td>.580</td>\n",
       "      <td>--</td>\n",
       "    </tr>\n",
       "    <tr>\n",
       "      <th>2</th>\n",
       "      <td>San Francisco Giants</td>\n",
       "      <td>88</td>\n",
       "      <td>74</td>\n",
       "      <td>.543</td>\n",
       "      <td>6.0</td>\n",
       "    </tr>\n",
       "    <tr>\n",
       "      <th>3</th>\n",
       "      <td>San Diego Padres</td>\n",
       "      <td>77</td>\n",
       "      <td>85</td>\n",
       "      <td>.475</td>\n",
       "      <td>17.0</td>\n",
       "    </tr>\n",
       "    <tr>\n",
       "      <th>4</th>\n",
       "      <td>Colorado Rockies</td>\n",
       "      <td>66</td>\n",
       "      <td>96</td>\n",
       "      <td>.407</td>\n",
       "      <td>28.0</td>\n",
       "    </tr>\n",
       "    <tr>\n",
       "      <th>5</th>\n",
       "      <td>Arizona Diamondbacks</td>\n",
       "      <td>64</td>\n",
       "      <td>98</td>\n",
       "      <td>.395</td>\n",
       "      <td>30.0</td>\n",
       "    </tr>\n",
       "  </tbody>\n",
       "</table>\n",
       "</div>"
      ],
      "text/plain": [
       "                     Tm   W   L  W-L%    GB\n",
       "1   Los Angeles Dodgers  94  68  .580    --\n",
       "2  San Francisco Giants  88  74  .543   6.0\n",
       "3      San Diego Padres  77  85  .475  17.0\n",
       "4      Colorado Rockies  66  96  .407  28.0\n",
       "5  Arizona Diamondbacks  64  98  .395  30.0"
      ]
     },
     "execution_count": 14,
     "metadata": {},
     "output_type": "execute_result"
    }
   ],
   "source": [
    "standings(2014)[5]"
   ]
  },
  {
   "cell_type": "markdown",
   "id": "94ffa6b7",
   "metadata": {},
   "source": [
    "## Score Differential\n",
    "\n",
    "Below we can see the run differential for each of the championship teams. Run differential is calculated by runs scored - runs allowed. The 2010 team outscored their opponents by the widest margin at 114 runs. The 2014 team, which finished with the least number of wins, also finished with the worst run differential at just 51 runs. Their rough end to the season is also evident here, as they had a run differential of 67 runs just 64 games into the season and finished with a worse run differential despite playing almost 100 more games by the end of the season. Still, they made the playoffs and were able to use their championship experience to win their third World Series in 5 years."
   ]
  },
  {
   "cell_type": "code",
   "execution_count": 15,
   "id": "5b279f1b",
   "metadata": {},
   "outputs": [],
   "source": [
    "# New dataframe for score differential\n",
    "sfDiff = pd.DataFrame()"
   ]
  },
  {
   "cell_type": "code",
   "execution_count": 16,
   "id": "d784d57d",
   "metadata": {},
   "outputs": [],
   "source": [
    "sfDiff['2010 Differential'] = (sf2010['R'] - sf2010['RA']).cumsum()\n",
    "sfDiff['2012 Differential'] = (sf2012['R'] - sf2012['RA']).cumsum()\n",
    "sfDiff['2014 Differential'] = (sf2014['R'] - sf2014['RA']).cumsum()"
   ]
  },
  {
   "cell_type": "code",
   "execution_count": 17,
   "id": "2e50c54d",
   "metadata": {},
   "outputs": [
    {
     "data": {
      "application/vnd.plotly.v1+json": {
       "config": {
        "linkText": "Export to plot.ly",
        "plotlyServerURL": "https://plot.ly",
        "showLink": true
       },
       "data": [
        {
         "line": {
          "color": "rgba(255, 153, 51, 1.0)",
          "dash": "solid",
          "shape": "linear",
          "width": 1.3
         },
         "mode": "lines",
         "name": "2010 Differential",
         "text": "",
         "type": "scatter",
         "x": [
          1,
          2,
          3,
          4,
          5,
          6,
          7,
          8,
          9,
          10,
          11,
          12,
          13,
          14,
          15,
          16,
          17,
          18,
          19,
          20,
          21,
          22,
          23,
          24,
          25,
          26,
          27,
          28,
          29,
          30,
          31,
          32,
          33,
          34,
          35,
          36,
          37,
          38,
          39,
          40,
          41,
          42,
          43,
          44,
          45,
          46,
          47,
          48,
          49,
          50,
          51,
          52,
          53,
          54,
          55,
          56,
          57,
          58,
          59,
          60,
          61,
          62,
          63,
          64,
          65,
          66,
          67,
          68,
          69,
          70,
          71,
          72,
          73,
          74,
          75,
          76,
          77,
          78,
          79,
          80,
          81,
          82,
          83,
          84,
          85,
          86,
          87,
          88,
          89,
          90,
          91,
          92,
          93,
          94,
          95,
          96,
          97,
          98,
          99,
          100,
          101,
          102,
          103,
          104,
          105,
          106,
          107,
          108,
          109,
          110,
          111,
          112,
          113,
          114,
          115,
          116,
          117,
          118,
          119,
          120,
          121,
          122,
          123,
          124,
          125,
          126,
          127,
          128,
          129,
          130,
          131,
          132,
          133,
          134,
          135,
          136,
          137,
          138,
          139,
          140,
          141,
          142,
          143,
          144,
          145,
          146,
          147,
          148,
          149,
          150,
          151,
          152,
          153,
          154,
          155,
          156,
          157,
          158,
          159,
          160,
          161,
          162
         ],
         "y": [
          3,
          6,
          12,
          13,
          8,
          11,
          17,
          16,
          22,
          20,
          29,
          28,
          27,
          26,
          23,
          26,
          28,
          26,
          30,
          34,
          33,
          36,
          41,
          38,
          41,
          42,
          45,
          43,
          42,
          43,
          42,
          39,
          38,
          44,
          45,
          46,
          44,
          45,
          33,
          32,
          27,
          26,
          23,
          25,
          21,
          22,
          27,
          38,
          39,
          35,
          34,
          37,
          39,
          36,
          37,
          38,
          41,
          38,
          37,
          41,
          42,
          46,
          54,
          51,
          54,
          53,
          50,
          53,
          55,
          52,
          50,
          51,
          49,
          45,
          43,
          41,
          35,
          31,
          28,
          31,
          30,
          35,
          40,
          53,
          59,
          52,
          57,
          61,
          63,
          64,
          68,
          67,
          70,
          72,
          70,
          73,
          76,
          82,
          83,
          82,
          84,
          85,
          80,
          81,
          82,
          84,
          94,
          89,
          88,
          89,
          86,
          83,
          84,
          82,
          83,
          84,
          83,
          84,
          78,
          72,
          66,
          69,
          72,
          68,
          59,
          68,
          79,
          78,
          72,
          64,
          66,
          65,
          68,
          69,
          67,
          68,
          71,
          73,
          76,
          74,
          78,
          79,
          78,
          83,
          82,
          83,
          91,
          88,
          87,
          94,
          95,
          93,
          106,
          107,
          106,
          108,
          110,
          112,
          115,
          113,
          111,
          114
         ]
        },
        {
         "line": {
          "color": "rgba(55, 128, 191, 1.0)",
          "dash": "solid",
          "shape": "linear",
          "width": 1.3
         },
         "mode": "lines",
         "name": "2012 Differential",
         "text": "",
         "type": "scatter",
         "x": [
          1,
          2,
          3,
          4,
          5,
          6,
          7,
          8,
          9,
          10,
          11,
          12,
          13,
          14,
          15,
          16,
          17,
          18,
          19,
          20,
          21,
          22,
          23,
          24,
          25,
          26,
          27,
          28,
          29,
          30,
          31,
          32,
          33,
          34,
          35,
          36,
          37,
          38,
          39,
          40,
          41,
          42,
          43,
          44,
          45,
          46,
          47,
          48,
          49,
          50,
          51,
          52,
          53,
          54,
          55,
          56,
          57,
          58,
          59,
          60,
          61,
          62,
          63,
          64,
          65,
          66,
          67,
          68,
          69,
          70,
          71,
          72,
          73,
          74,
          75,
          76,
          77,
          78,
          79,
          80,
          81,
          82,
          83,
          84,
          85,
          86,
          87,
          88,
          89,
          90,
          91,
          92,
          93,
          94,
          95,
          96,
          97,
          98,
          99,
          100,
          101,
          102,
          103,
          104,
          105,
          106,
          107,
          108,
          109,
          110,
          111,
          112,
          113,
          114,
          115,
          116,
          117,
          118,
          119,
          120,
          121,
          122,
          123,
          124,
          125,
          126,
          127,
          128,
          129,
          130,
          131,
          132,
          133,
          134,
          135,
          136,
          137,
          138,
          139,
          140,
          141,
          142,
          143,
          144,
          145,
          146,
          147,
          148,
          149,
          150,
          151,
          152,
          153,
          154,
          155,
          156,
          157,
          158,
          159,
          160,
          161,
          162
         ],
         "y": [
          -1,
          -2,
          -3,
          4,
          -5,
          -3,
          2,
          3,
          0,
          -3,
          -1,
          0,
          1,
          0,
          5,
          10,
          3,
          1,
          2,
          0,
          1,
          4,
          3,
          2,
          1,
          -1,
          2,
          3,
          -5,
          -4,
          -8,
          -12,
          -9,
          -5,
          -4,
          -5,
          -8,
          -6,
          -4,
          0,
          -4,
          -3,
          -1,
          -4,
          3,
          2,
          0,
          1,
          3,
          5,
          2,
          3,
          4,
          6,
          7,
          6,
          7,
          12,
          7,
          10,
          5,
          8,
          18,
          15,
          17,
          14,
          13,
          15,
          8,
          2,
          3,
          4,
          2,
          10,
          12,
          15,
          20,
          16,
          15,
          16,
          10,
          5,
          4,
          5,
          3,
          -8,
          -4,
          -3,
          -2,
          7,
          12,
          11,
          16,
          17,
          16,
          22,
          23,
          20,
          18,
          8,
          4,
          3,
          6,
          5,
          -3,
          9,
          14,
          19,
          13,
          15,
          30,
          28,
          25,
          31,
          34,
          22,
          27,
          25,
          34,
          35,
          29,
          30,
          33,
          37,
          40,
          42,
          38,
          32,
          33,
          35,
          39,
          37,
          40,
          42,
          43,
          41,
          37,
          40,
          39,
          43,
          42,
          43,
          48,
          52,
          53,
          45,
          46,
          49,
          55,
          62,
          66,
          70,
          68,
          63,
          69,
          73,
          75,
          71,
          73,
          72,
          73,
          69
         ]
        },
        {
         "line": {
          "color": "rgba(50, 171, 96, 1.0)",
          "dash": "solid",
          "shape": "linear",
          "width": 1.3
         },
         "mode": "lines",
         "name": "2014 Differential",
         "text": "",
         "type": "scatter",
         "x": [
          1,
          2,
          3,
          4,
          5,
          6,
          7,
          8,
          9,
          10,
          11,
          12,
          13,
          14,
          15,
          16,
          17,
          18,
          19,
          20,
          21,
          22,
          23,
          24,
          25,
          26,
          27,
          28,
          29,
          30,
          31,
          32,
          33,
          34,
          35,
          36,
          37,
          38,
          39,
          40,
          41,
          42,
          43,
          44,
          45,
          46,
          47,
          48,
          49,
          50,
          51,
          52,
          53,
          54,
          55,
          56,
          57,
          58,
          59,
          60,
          61,
          62,
          63,
          64,
          65,
          66,
          67,
          68,
          69,
          70,
          71,
          72,
          73,
          74,
          75,
          76,
          77,
          78,
          79,
          80,
          81,
          82,
          83,
          84,
          85,
          86,
          87,
          88,
          89,
          90,
          91,
          92,
          93,
          94,
          95,
          96,
          97,
          98,
          99,
          100,
          101,
          102,
          103,
          104,
          105,
          106,
          107,
          108,
          109,
          110,
          111,
          112,
          113,
          114,
          115,
          116,
          117,
          118,
          119,
          120,
          121,
          122,
          123,
          124,
          125,
          126,
          127,
          128,
          129,
          130,
          131,
          132,
          133,
          134,
          135,
          136,
          137,
          138,
          139,
          140,
          141,
          142,
          143,
          144,
          145,
          146,
          147,
          148,
          149,
          150,
          151,
          152,
          153,
          154,
          155,
          156,
          157,
          158,
          159,
          160,
          161,
          162
         ],
         "y": [
          1,
          0,
          2,
          5,
          9,
          14,
          10,
          14,
          10,
          9,
          10,
          9,
          10,
          11,
          12,
          11,
          10,
          8,
          9,
          3,
          2,
          4,
          8,
          10,
          13,
          11,
          17,
          18,
          19,
          21,
          24,
          25,
          24,
          23,
          25,
          27,
          23,
          26,
          28,
          23,
          29,
          31,
          29,
          24,
          27,
          26,
          30,
          32,
          36,
          37,
          44,
          40,
          44,
          49,
          50,
          55,
          53,
          61,
          56,
          57,
          62,
          64,
          65,
          67,
          60,
          59,
          55,
          61,
          58,
          57,
          56,
          50,
          49,
          46,
          48,
          51,
          45,
          40,
          44,
          42,
          38,
          34,
          30,
          35,
          33,
          28,
          26,
          28,
          30,
          25,
          20,
          23,
          18,
          23,
          21,
          25,
          33,
          35,
          34,
          37,
          40,
          42,
          41,
          34,
          29,
          28,
          23,
          21,
          23,
          27,
          25,
          34,
          35,
          34,
          37,
          35,
          33,
          28,
          25,
          24,
          30,
          28,
          29,
          32,
          31,
          36,
          38,
          45,
          41,
          33,
          32,
          35,
          37,
          40,
          51,
          53,
          63,
          62,
          67,
          60,
          66,
          67,
          62,
          66,
          71,
          75,
          84,
          67,
          65,
          61,
          62,
          64,
          59,
          58,
          52,
          55,
          53,
          45,
          46,
          43,
          45,
          51
         ]
        }
       ],
       "layout": {
        "legend": {
         "bgcolor": "#F5F6F9",
         "font": {
          "color": "#4D5663"
         }
        },
        "paper_bgcolor": "#F5F6F9",
        "plot_bgcolor": "#F5F6F9",
        "template": {
         "data": {
          "bar": [
           {
            "error_x": {
             "color": "#2a3f5f"
            },
            "error_y": {
             "color": "#2a3f5f"
            },
            "marker": {
             "line": {
              "color": "#E5ECF6",
              "width": 0.5
             },
             "pattern": {
              "fillmode": "overlay",
              "size": 10,
              "solidity": 0.2
             }
            },
            "type": "bar"
           }
          ],
          "barpolar": [
           {
            "marker": {
             "line": {
              "color": "#E5ECF6",
              "width": 0.5
             },
             "pattern": {
              "fillmode": "overlay",
              "size": 10,
              "solidity": 0.2
             }
            },
            "type": "barpolar"
           }
          ],
          "carpet": [
           {
            "aaxis": {
             "endlinecolor": "#2a3f5f",
             "gridcolor": "white",
             "linecolor": "white",
             "minorgridcolor": "white",
             "startlinecolor": "#2a3f5f"
            },
            "baxis": {
             "endlinecolor": "#2a3f5f",
             "gridcolor": "white",
             "linecolor": "white",
             "minorgridcolor": "white",
             "startlinecolor": "#2a3f5f"
            },
            "type": "carpet"
           }
          ],
          "choropleth": [
           {
            "colorbar": {
             "outlinewidth": 0,
             "ticks": ""
            },
            "type": "choropleth"
           }
          ],
          "contour": [
           {
            "colorbar": {
             "outlinewidth": 0,
             "ticks": ""
            },
            "colorscale": [
             [
              0,
              "#0d0887"
             ],
             [
              0.1111111111111111,
              "#46039f"
             ],
             [
              0.2222222222222222,
              "#7201a8"
             ],
             [
              0.3333333333333333,
              "#9c179e"
             ],
             [
              0.4444444444444444,
              "#bd3786"
             ],
             [
              0.5555555555555556,
              "#d8576b"
             ],
             [
              0.6666666666666666,
              "#ed7953"
             ],
             [
              0.7777777777777778,
              "#fb9f3a"
             ],
             [
              0.8888888888888888,
              "#fdca26"
             ],
             [
              1,
              "#f0f921"
             ]
            ],
            "type": "contour"
           }
          ],
          "contourcarpet": [
           {
            "colorbar": {
             "outlinewidth": 0,
             "ticks": ""
            },
            "type": "contourcarpet"
           }
          ],
          "heatmap": [
           {
            "colorbar": {
             "outlinewidth": 0,
             "ticks": ""
            },
            "colorscale": [
             [
              0,
              "#0d0887"
             ],
             [
              0.1111111111111111,
              "#46039f"
             ],
             [
              0.2222222222222222,
              "#7201a8"
             ],
             [
              0.3333333333333333,
              "#9c179e"
             ],
             [
              0.4444444444444444,
              "#bd3786"
             ],
             [
              0.5555555555555556,
              "#d8576b"
             ],
             [
              0.6666666666666666,
              "#ed7953"
             ],
             [
              0.7777777777777778,
              "#fb9f3a"
             ],
             [
              0.8888888888888888,
              "#fdca26"
             ],
             [
              1,
              "#f0f921"
             ]
            ],
            "type": "heatmap"
           }
          ],
          "heatmapgl": [
           {
            "colorbar": {
             "outlinewidth": 0,
             "ticks": ""
            },
            "colorscale": [
             [
              0,
              "#0d0887"
             ],
             [
              0.1111111111111111,
              "#46039f"
             ],
             [
              0.2222222222222222,
              "#7201a8"
             ],
             [
              0.3333333333333333,
              "#9c179e"
             ],
             [
              0.4444444444444444,
              "#bd3786"
             ],
             [
              0.5555555555555556,
              "#d8576b"
             ],
             [
              0.6666666666666666,
              "#ed7953"
             ],
             [
              0.7777777777777778,
              "#fb9f3a"
             ],
             [
              0.8888888888888888,
              "#fdca26"
             ],
             [
              1,
              "#f0f921"
             ]
            ],
            "type": "heatmapgl"
           }
          ],
          "histogram": [
           {
            "marker": {
             "pattern": {
              "fillmode": "overlay",
              "size": 10,
              "solidity": 0.2
             }
            },
            "type": "histogram"
           }
          ],
          "histogram2d": [
           {
            "colorbar": {
             "outlinewidth": 0,
             "ticks": ""
            },
            "colorscale": [
             [
              0,
              "#0d0887"
             ],
             [
              0.1111111111111111,
              "#46039f"
             ],
             [
              0.2222222222222222,
              "#7201a8"
             ],
             [
              0.3333333333333333,
              "#9c179e"
             ],
             [
              0.4444444444444444,
              "#bd3786"
             ],
             [
              0.5555555555555556,
              "#d8576b"
             ],
             [
              0.6666666666666666,
              "#ed7953"
             ],
             [
              0.7777777777777778,
              "#fb9f3a"
             ],
             [
              0.8888888888888888,
              "#fdca26"
             ],
             [
              1,
              "#f0f921"
             ]
            ],
            "type": "histogram2d"
           }
          ],
          "histogram2dcontour": [
           {
            "colorbar": {
             "outlinewidth": 0,
             "ticks": ""
            },
            "colorscale": [
             [
              0,
              "#0d0887"
             ],
             [
              0.1111111111111111,
              "#46039f"
             ],
             [
              0.2222222222222222,
              "#7201a8"
             ],
             [
              0.3333333333333333,
              "#9c179e"
             ],
             [
              0.4444444444444444,
              "#bd3786"
             ],
             [
              0.5555555555555556,
              "#d8576b"
             ],
             [
              0.6666666666666666,
              "#ed7953"
             ],
             [
              0.7777777777777778,
              "#fb9f3a"
             ],
             [
              0.8888888888888888,
              "#fdca26"
             ],
             [
              1,
              "#f0f921"
             ]
            ],
            "type": "histogram2dcontour"
           }
          ],
          "mesh3d": [
           {
            "colorbar": {
             "outlinewidth": 0,
             "ticks": ""
            },
            "type": "mesh3d"
           }
          ],
          "parcoords": [
           {
            "line": {
             "colorbar": {
              "outlinewidth": 0,
              "ticks": ""
             }
            },
            "type": "parcoords"
           }
          ],
          "pie": [
           {
            "automargin": true,
            "type": "pie"
           }
          ],
          "scatter": [
           {
            "marker": {
             "colorbar": {
              "outlinewidth": 0,
              "ticks": ""
             }
            },
            "type": "scatter"
           }
          ],
          "scatter3d": [
           {
            "line": {
             "colorbar": {
              "outlinewidth": 0,
              "ticks": ""
             }
            },
            "marker": {
             "colorbar": {
              "outlinewidth": 0,
              "ticks": ""
             }
            },
            "type": "scatter3d"
           }
          ],
          "scattercarpet": [
           {
            "marker": {
             "colorbar": {
              "outlinewidth": 0,
              "ticks": ""
             }
            },
            "type": "scattercarpet"
           }
          ],
          "scattergeo": [
           {
            "marker": {
             "colorbar": {
              "outlinewidth": 0,
              "ticks": ""
             }
            },
            "type": "scattergeo"
           }
          ],
          "scattergl": [
           {
            "marker": {
             "colorbar": {
              "outlinewidth": 0,
              "ticks": ""
             }
            },
            "type": "scattergl"
           }
          ],
          "scattermapbox": [
           {
            "marker": {
             "colorbar": {
              "outlinewidth": 0,
              "ticks": ""
             }
            },
            "type": "scattermapbox"
           }
          ],
          "scatterpolar": [
           {
            "marker": {
             "colorbar": {
              "outlinewidth": 0,
              "ticks": ""
             }
            },
            "type": "scatterpolar"
           }
          ],
          "scatterpolargl": [
           {
            "marker": {
             "colorbar": {
              "outlinewidth": 0,
              "ticks": ""
             }
            },
            "type": "scatterpolargl"
           }
          ],
          "scatterternary": [
           {
            "marker": {
             "colorbar": {
              "outlinewidth": 0,
              "ticks": ""
             }
            },
            "type": "scatterternary"
           }
          ],
          "surface": [
           {
            "colorbar": {
             "outlinewidth": 0,
             "ticks": ""
            },
            "colorscale": [
             [
              0,
              "#0d0887"
             ],
             [
              0.1111111111111111,
              "#46039f"
             ],
             [
              0.2222222222222222,
              "#7201a8"
             ],
             [
              0.3333333333333333,
              "#9c179e"
             ],
             [
              0.4444444444444444,
              "#bd3786"
             ],
             [
              0.5555555555555556,
              "#d8576b"
             ],
             [
              0.6666666666666666,
              "#ed7953"
             ],
             [
              0.7777777777777778,
              "#fb9f3a"
             ],
             [
              0.8888888888888888,
              "#fdca26"
             ],
             [
              1,
              "#f0f921"
             ]
            ],
            "type": "surface"
           }
          ],
          "table": [
           {
            "cells": {
             "fill": {
              "color": "#EBF0F8"
             },
             "line": {
              "color": "white"
             }
            },
            "header": {
             "fill": {
              "color": "#C8D4E3"
             },
             "line": {
              "color": "white"
             }
            },
            "type": "table"
           }
          ]
         },
         "layout": {
          "annotationdefaults": {
           "arrowcolor": "#2a3f5f",
           "arrowhead": 0,
           "arrowwidth": 1
          },
          "autotypenumbers": "strict",
          "coloraxis": {
           "colorbar": {
            "outlinewidth": 0,
            "ticks": ""
           }
          },
          "colorscale": {
           "diverging": [
            [
             0,
             "#8e0152"
            ],
            [
             0.1,
             "#c51b7d"
            ],
            [
             0.2,
             "#de77ae"
            ],
            [
             0.3,
             "#f1b6da"
            ],
            [
             0.4,
             "#fde0ef"
            ],
            [
             0.5,
             "#f7f7f7"
            ],
            [
             0.6,
             "#e6f5d0"
            ],
            [
             0.7,
             "#b8e186"
            ],
            [
             0.8,
             "#7fbc41"
            ],
            [
             0.9,
             "#4d9221"
            ],
            [
             1,
             "#276419"
            ]
           ],
           "sequential": [
            [
             0,
             "#0d0887"
            ],
            [
             0.1111111111111111,
             "#46039f"
            ],
            [
             0.2222222222222222,
             "#7201a8"
            ],
            [
             0.3333333333333333,
             "#9c179e"
            ],
            [
             0.4444444444444444,
             "#bd3786"
            ],
            [
             0.5555555555555556,
             "#d8576b"
            ],
            [
             0.6666666666666666,
             "#ed7953"
            ],
            [
             0.7777777777777778,
             "#fb9f3a"
            ],
            [
             0.8888888888888888,
             "#fdca26"
            ],
            [
             1,
             "#f0f921"
            ]
           ],
           "sequentialminus": [
            [
             0,
             "#0d0887"
            ],
            [
             0.1111111111111111,
             "#46039f"
            ],
            [
             0.2222222222222222,
             "#7201a8"
            ],
            [
             0.3333333333333333,
             "#9c179e"
            ],
            [
             0.4444444444444444,
             "#bd3786"
            ],
            [
             0.5555555555555556,
             "#d8576b"
            ],
            [
             0.6666666666666666,
             "#ed7953"
            ],
            [
             0.7777777777777778,
             "#fb9f3a"
            ],
            [
             0.8888888888888888,
             "#fdca26"
            ],
            [
             1,
             "#f0f921"
            ]
           ]
          },
          "colorway": [
           "#636efa",
           "#EF553B",
           "#00cc96",
           "#ab63fa",
           "#FFA15A",
           "#19d3f3",
           "#FF6692",
           "#B6E880",
           "#FF97FF",
           "#FECB52"
          ],
          "font": {
           "color": "#2a3f5f"
          },
          "geo": {
           "bgcolor": "white",
           "lakecolor": "white",
           "landcolor": "#E5ECF6",
           "showlakes": true,
           "showland": true,
           "subunitcolor": "white"
          },
          "hoverlabel": {
           "align": "left"
          },
          "hovermode": "closest",
          "mapbox": {
           "style": "light"
          },
          "paper_bgcolor": "white",
          "plot_bgcolor": "#E5ECF6",
          "polar": {
           "angularaxis": {
            "gridcolor": "white",
            "linecolor": "white",
            "ticks": ""
           },
           "bgcolor": "#E5ECF6",
           "radialaxis": {
            "gridcolor": "white",
            "linecolor": "white",
            "ticks": ""
           }
          },
          "scene": {
           "xaxis": {
            "backgroundcolor": "#E5ECF6",
            "gridcolor": "white",
            "gridwidth": 2,
            "linecolor": "white",
            "showbackground": true,
            "ticks": "",
            "zerolinecolor": "white"
           },
           "yaxis": {
            "backgroundcolor": "#E5ECF6",
            "gridcolor": "white",
            "gridwidth": 2,
            "linecolor": "white",
            "showbackground": true,
            "ticks": "",
            "zerolinecolor": "white"
           },
           "zaxis": {
            "backgroundcolor": "#E5ECF6",
            "gridcolor": "white",
            "gridwidth": 2,
            "linecolor": "white",
            "showbackground": true,
            "ticks": "",
            "zerolinecolor": "white"
           }
          },
          "shapedefaults": {
           "line": {
            "color": "#2a3f5f"
           }
          },
          "ternary": {
           "aaxis": {
            "gridcolor": "white",
            "linecolor": "white",
            "ticks": ""
           },
           "baxis": {
            "gridcolor": "white",
            "linecolor": "white",
            "ticks": ""
           },
           "bgcolor": "#E5ECF6",
           "caxis": {
            "gridcolor": "white",
            "linecolor": "white",
            "ticks": ""
           }
          },
          "title": {
           "x": 0.05
          },
          "xaxis": {
           "automargin": true,
           "gridcolor": "white",
           "linecolor": "white",
           "ticks": "",
           "title": {
            "standoff": 15
           },
           "zerolinecolor": "white",
           "zerolinewidth": 2
          },
          "yaxis": {
           "automargin": true,
           "gridcolor": "white",
           "linecolor": "white",
           "ticks": "",
           "title": {
            "standoff": 15
           },
           "zerolinecolor": "white",
           "zerolinewidth": 2
          }
         }
        },
        "title": {
         "font": {
          "color": "#4D5663"
         },
         "text": "SF Giants Run Differential Throughout Season"
        },
        "xaxis": {
         "gridcolor": "#E1E5ED",
         "showgrid": true,
         "tickfont": {
          "color": "#4D5663"
         },
         "title": {
          "font": {
           "color": "#4D5663"
          },
          "text": "Games Played"
         },
         "zerolinecolor": "#E1E5ED"
        },
        "yaxis": {
         "gridcolor": "#E1E5ED",
         "showgrid": true,
         "tickfont": {
          "color": "#4D5663"
         },
         "title": {
          "font": {
           "color": "#4D5663"
          },
          "text": "Run Differential"
         },
         "zerolinecolor": "#E1E5ED"
        }
       }
      },
      "text/html": [
       "<div>                            <div id=\"c7c40029-88c6-430d-8b24-d9dbc958e0ff\" class=\"plotly-graph-div\" style=\"height:525px; width:100%;\"></div>            <script type=\"text/javascript\">                require([\"plotly\"], function(Plotly) {                    window.PLOTLYENV=window.PLOTLYENV || {};\n",
       "                    window.PLOTLYENV.BASE_URL='https://plot.ly';                                    if (document.getElementById(\"c7c40029-88c6-430d-8b24-d9dbc958e0ff\")) {                    Plotly.newPlot(                        \"c7c40029-88c6-430d-8b24-d9dbc958e0ff\",                        [{\"line\":{\"color\":\"rgba(255, 153, 51, 1.0)\",\"dash\":\"solid\",\"shape\":\"linear\",\"width\":1.3},\"mode\":\"lines\",\"name\":\"2010 Differential\",\"text\":\"\",\"x\":[1,2,3,4,5,6,7,8,9,10,11,12,13,14,15,16,17,18,19,20,21,22,23,24,25,26,27,28,29,30,31,32,33,34,35,36,37,38,39,40,41,42,43,44,45,46,47,48,49,50,51,52,53,54,55,56,57,58,59,60,61,62,63,64,65,66,67,68,69,70,71,72,73,74,75,76,77,78,79,80,81,82,83,84,85,86,87,88,89,90,91,92,93,94,95,96,97,98,99,100,101,102,103,104,105,106,107,108,109,110,111,112,113,114,115,116,117,118,119,120,121,122,123,124,125,126,127,128,129,130,131,132,133,134,135,136,137,138,139,140,141,142,143,144,145,146,147,148,149,150,151,152,153,154,155,156,157,158,159,160,161,162],\"y\":[3.0,6.0,12.0,13.0,8.0,11.0,17.0,16.0,22.0,20.0,29.0,28.0,27.0,26.0,23.0,26.0,28.0,26.0,30.0,34.0,33.0,36.0,41.0,38.0,41.0,42.0,45.0,43.0,42.0,43.0,42.0,39.0,38.0,44.0,45.0,46.0,44.0,45.0,33.0,32.0,27.0,26.0,23.0,25.0,21.0,22.0,27.0,38.0,39.0,35.0,34.0,37.0,39.0,36.0,37.0,38.0,41.0,38.0,37.0,41.0,42.0,46.0,54.0,51.0,54.0,53.0,50.0,53.0,55.0,52.0,50.0,51.0,49.0,45.0,43.0,41.0,35.0,31.0,28.0,31.0,30.0,35.0,40.0,53.0,59.0,52.0,57.0,61.0,63.0,64.0,68.0,67.0,70.0,72.0,70.0,73.0,76.0,82.0,83.0,82.0,84.0,85.0,80.0,81.0,82.0,84.0,94.0,89.0,88.0,89.0,86.0,83.0,84.0,82.0,83.0,84.0,83.0,84.0,78.0,72.0,66.0,69.0,72.0,68.0,59.0,68.0,79.0,78.0,72.0,64.0,66.0,65.0,68.0,69.0,67.0,68.0,71.0,73.0,76.0,74.0,78.0,79.0,78.0,83.0,82.0,83.0,91.0,88.0,87.0,94.0,95.0,93.0,106.0,107.0,106.0,108.0,110.0,112.0,115.0,113.0,111.0,114.0],\"type\":\"scatter\"},{\"line\":{\"color\":\"rgba(55, 128, 191, 1.0)\",\"dash\":\"solid\",\"shape\":\"linear\",\"width\":1.3},\"mode\":\"lines\",\"name\":\"2012 Differential\",\"text\":\"\",\"x\":[1,2,3,4,5,6,7,8,9,10,11,12,13,14,15,16,17,18,19,20,21,22,23,24,25,26,27,28,29,30,31,32,33,34,35,36,37,38,39,40,41,42,43,44,45,46,47,48,49,50,51,52,53,54,55,56,57,58,59,60,61,62,63,64,65,66,67,68,69,70,71,72,73,74,75,76,77,78,79,80,81,82,83,84,85,86,87,88,89,90,91,92,93,94,95,96,97,98,99,100,101,102,103,104,105,106,107,108,109,110,111,112,113,114,115,116,117,118,119,120,121,122,123,124,125,126,127,128,129,130,131,132,133,134,135,136,137,138,139,140,141,142,143,144,145,146,147,148,149,150,151,152,153,154,155,156,157,158,159,160,161,162],\"y\":[-1.0,-2.0,-3.0,4.0,-5.0,-3.0,2.0,3.0,0.0,-3.0,-1.0,0.0,1.0,0.0,5.0,10.0,3.0,1.0,2.0,0.0,1.0,4.0,3.0,2.0,1.0,-1.0,2.0,3.0,-5.0,-4.0,-8.0,-12.0,-9.0,-5.0,-4.0,-5.0,-8.0,-6.0,-4.0,0.0,-4.0,-3.0,-1.0,-4.0,3.0,2.0,0.0,1.0,3.0,5.0,2.0,3.0,4.0,6.0,7.0,6.0,7.0,12.0,7.0,10.0,5.0,8.0,18.0,15.0,17.0,14.0,13.0,15.0,8.0,2.0,3.0,4.0,2.0,10.0,12.0,15.0,20.0,16.0,15.0,16.0,10.0,5.0,4.0,5.0,3.0,-8.0,-4.0,-3.0,-2.0,7.0,12.0,11.0,16.0,17.0,16.0,22.0,23.0,20.0,18.0,8.0,4.0,3.0,6.0,5.0,-3.0,9.0,14.0,19.0,13.0,15.0,30.0,28.0,25.0,31.0,34.0,22.0,27.0,25.0,34.0,35.0,29.0,30.0,33.0,37.0,40.0,42.0,38.0,32.0,33.0,35.0,39.0,37.0,40.0,42.0,43.0,41.0,37.0,40.0,39.0,43.0,42.0,43.0,48.0,52.0,53.0,45.0,46.0,49.0,55.0,62.0,66.0,70.0,68.0,63.0,69.0,73.0,75.0,71.0,73.0,72.0,73.0,69.0],\"type\":\"scatter\"},{\"line\":{\"color\":\"rgba(50, 171, 96, 1.0)\",\"dash\":\"solid\",\"shape\":\"linear\",\"width\":1.3},\"mode\":\"lines\",\"name\":\"2014 Differential\",\"text\":\"\",\"x\":[1,2,3,4,5,6,7,8,9,10,11,12,13,14,15,16,17,18,19,20,21,22,23,24,25,26,27,28,29,30,31,32,33,34,35,36,37,38,39,40,41,42,43,44,45,46,47,48,49,50,51,52,53,54,55,56,57,58,59,60,61,62,63,64,65,66,67,68,69,70,71,72,73,74,75,76,77,78,79,80,81,82,83,84,85,86,87,88,89,90,91,92,93,94,95,96,97,98,99,100,101,102,103,104,105,106,107,108,109,110,111,112,113,114,115,116,117,118,119,120,121,122,123,124,125,126,127,128,129,130,131,132,133,134,135,136,137,138,139,140,141,142,143,144,145,146,147,148,149,150,151,152,153,154,155,156,157,158,159,160,161,162],\"y\":[1.0,0.0,2.0,5.0,9.0,14.0,10.0,14.0,10.0,9.0,10.0,9.0,10.0,11.0,12.0,11.0,10.0,8.0,9.0,3.0,2.0,4.0,8.0,10.0,13.0,11.0,17.0,18.0,19.0,21.0,24.0,25.0,24.0,23.0,25.0,27.0,23.0,26.0,28.0,23.0,29.0,31.0,29.0,24.0,27.0,26.0,30.0,32.0,36.0,37.0,44.0,40.0,44.0,49.0,50.0,55.0,53.0,61.0,56.0,57.0,62.0,64.0,65.0,67.0,60.0,59.0,55.0,61.0,58.0,57.0,56.0,50.0,49.0,46.0,48.0,51.0,45.0,40.0,44.0,42.0,38.0,34.0,30.0,35.0,33.0,28.0,26.0,28.0,30.0,25.0,20.0,23.0,18.0,23.0,21.0,25.0,33.0,35.0,34.0,37.0,40.0,42.0,41.0,34.0,29.0,28.0,23.0,21.0,23.0,27.0,25.0,34.0,35.0,34.0,37.0,35.0,33.0,28.0,25.0,24.0,30.0,28.0,29.0,32.0,31.0,36.0,38.0,45.0,41.0,33.0,32.0,35.0,37.0,40.0,51.0,53.0,63.0,62.0,67.0,60.0,66.0,67.0,62.0,66.0,71.0,75.0,84.0,67.0,65.0,61.0,62.0,64.0,59.0,58.0,52.0,55.0,53.0,45.0,46.0,43.0,45.0,51.0],\"type\":\"scatter\"}],                        {\"legend\":{\"bgcolor\":\"#F5F6F9\",\"font\":{\"color\":\"#4D5663\"}},\"paper_bgcolor\":\"#F5F6F9\",\"plot_bgcolor\":\"#F5F6F9\",\"template\":{\"data\":{\"barpolar\":[{\"marker\":{\"line\":{\"color\":\"#E5ECF6\",\"width\":0.5},\"pattern\":{\"fillmode\":\"overlay\",\"size\":10,\"solidity\":0.2}},\"type\":\"barpolar\"}],\"bar\":[{\"error_x\":{\"color\":\"#2a3f5f\"},\"error_y\":{\"color\":\"#2a3f5f\"},\"marker\":{\"line\":{\"color\":\"#E5ECF6\",\"width\":0.5},\"pattern\":{\"fillmode\":\"overlay\",\"size\":10,\"solidity\":0.2}},\"type\":\"bar\"}],\"carpet\":[{\"aaxis\":{\"endlinecolor\":\"#2a3f5f\",\"gridcolor\":\"white\",\"linecolor\":\"white\",\"minorgridcolor\":\"white\",\"startlinecolor\":\"#2a3f5f\"},\"baxis\":{\"endlinecolor\":\"#2a3f5f\",\"gridcolor\":\"white\",\"linecolor\":\"white\",\"minorgridcolor\":\"white\",\"startlinecolor\":\"#2a3f5f\"},\"type\":\"carpet\"}],\"choropleth\":[{\"colorbar\":{\"outlinewidth\":0,\"ticks\":\"\"},\"type\":\"choropleth\"}],\"contourcarpet\":[{\"colorbar\":{\"outlinewidth\":0,\"ticks\":\"\"},\"type\":\"contourcarpet\"}],\"contour\":[{\"colorbar\":{\"outlinewidth\":0,\"ticks\":\"\"},\"colorscale\":[[0.0,\"#0d0887\"],[0.1111111111111111,\"#46039f\"],[0.2222222222222222,\"#7201a8\"],[0.3333333333333333,\"#9c179e\"],[0.4444444444444444,\"#bd3786\"],[0.5555555555555556,\"#d8576b\"],[0.6666666666666666,\"#ed7953\"],[0.7777777777777778,\"#fb9f3a\"],[0.8888888888888888,\"#fdca26\"],[1.0,\"#f0f921\"]],\"type\":\"contour\"}],\"heatmapgl\":[{\"colorbar\":{\"outlinewidth\":0,\"ticks\":\"\"},\"colorscale\":[[0.0,\"#0d0887\"],[0.1111111111111111,\"#46039f\"],[0.2222222222222222,\"#7201a8\"],[0.3333333333333333,\"#9c179e\"],[0.4444444444444444,\"#bd3786\"],[0.5555555555555556,\"#d8576b\"],[0.6666666666666666,\"#ed7953\"],[0.7777777777777778,\"#fb9f3a\"],[0.8888888888888888,\"#fdca26\"],[1.0,\"#f0f921\"]],\"type\":\"heatmapgl\"}],\"heatmap\":[{\"colorbar\":{\"outlinewidth\":0,\"ticks\":\"\"},\"colorscale\":[[0.0,\"#0d0887\"],[0.1111111111111111,\"#46039f\"],[0.2222222222222222,\"#7201a8\"],[0.3333333333333333,\"#9c179e\"],[0.4444444444444444,\"#bd3786\"],[0.5555555555555556,\"#d8576b\"],[0.6666666666666666,\"#ed7953\"],[0.7777777777777778,\"#fb9f3a\"],[0.8888888888888888,\"#fdca26\"],[1.0,\"#f0f921\"]],\"type\":\"heatmap\"}],\"histogram2dcontour\":[{\"colorbar\":{\"outlinewidth\":0,\"ticks\":\"\"},\"colorscale\":[[0.0,\"#0d0887\"],[0.1111111111111111,\"#46039f\"],[0.2222222222222222,\"#7201a8\"],[0.3333333333333333,\"#9c179e\"],[0.4444444444444444,\"#bd3786\"],[0.5555555555555556,\"#d8576b\"],[0.6666666666666666,\"#ed7953\"],[0.7777777777777778,\"#fb9f3a\"],[0.8888888888888888,\"#fdca26\"],[1.0,\"#f0f921\"]],\"type\":\"histogram2dcontour\"}],\"histogram2d\":[{\"colorbar\":{\"outlinewidth\":0,\"ticks\":\"\"},\"colorscale\":[[0.0,\"#0d0887\"],[0.1111111111111111,\"#46039f\"],[0.2222222222222222,\"#7201a8\"],[0.3333333333333333,\"#9c179e\"],[0.4444444444444444,\"#bd3786\"],[0.5555555555555556,\"#d8576b\"],[0.6666666666666666,\"#ed7953\"],[0.7777777777777778,\"#fb9f3a\"],[0.8888888888888888,\"#fdca26\"],[1.0,\"#f0f921\"]],\"type\":\"histogram2d\"}],\"histogram\":[{\"marker\":{\"pattern\":{\"fillmode\":\"overlay\",\"size\":10,\"solidity\":0.2}},\"type\":\"histogram\"}],\"mesh3d\":[{\"colorbar\":{\"outlinewidth\":0,\"ticks\":\"\"},\"type\":\"mesh3d\"}],\"parcoords\":[{\"line\":{\"colorbar\":{\"outlinewidth\":0,\"ticks\":\"\"}},\"type\":\"parcoords\"}],\"pie\":[{\"automargin\":true,\"type\":\"pie\"}],\"scatter3d\":[{\"line\":{\"colorbar\":{\"outlinewidth\":0,\"ticks\":\"\"}},\"marker\":{\"colorbar\":{\"outlinewidth\":0,\"ticks\":\"\"}},\"type\":\"scatter3d\"}],\"scattercarpet\":[{\"marker\":{\"colorbar\":{\"outlinewidth\":0,\"ticks\":\"\"}},\"type\":\"scattercarpet\"}],\"scattergeo\":[{\"marker\":{\"colorbar\":{\"outlinewidth\":0,\"ticks\":\"\"}},\"type\":\"scattergeo\"}],\"scattergl\":[{\"marker\":{\"colorbar\":{\"outlinewidth\":0,\"ticks\":\"\"}},\"type\":\"scattergl\"}],\"scattermapbox\":[{\"marker\":{\"colorbar\":{\"outlinewidth\":0,\"ticks\":\"\"}},\"type\":\"scattermapbox\"}],\"scatterpolargl\":[{\"marker\":{\"colorbar\":{\"outlinewidth\":0,\"ticks\":\"\"}},\"type\":\"scatterpolargl\"}],\"scatterpolar\":[{\"marker\":{\"colorbar\":{\"outlinewidth\":0,\"ticks\":\"\"}},\"type\":\"scatterpolar\"}],\"scatter\":[{\"marker\":{\"colorbar\":{\"outlinewidth\":0,\"ticks\":\"\"}},\"type\":\"scatter\"}],\"scatterternary\":[{\"marker\":{\"colorbar\":{\"outlinewidth\":0,\"ticks\":\"\"}},\"type\":\"scatterternary\"}],\"surface\":[{\"colorbar\":{\"outlinewidth\":0,\"ticks\":\"\"},\"colorscale\":[[0.0,\"#0d0887\"],[0.1111111111111111,\"#46039f\"],[0.2222222222222222,\"#7201a8\"],[0.3333333333333333,\"#9c179e\"],[0.4444444444444444,\"#bd3786\"],[0.5555555555555556,\"#d8576b\"],[0.6666666666666666,\"#ed7953\"],[0.7777777777777778,\"#fb9f3a\"],[0.8888888888888888,\"#fdca26\"],[1.0,\"#f0f921\"]],\"type\":\"surface\"}],\"table\":[{\"cells\":{\"fill\":{\"color\":\"#EBF0F8\"},\"line\":{\"color\":\"white\"}},\"header\":{\"fill\":{\"color\":\"#C8D4E3\"},\"line\":{\"color\":\"white\"}},\"type\":\"table\"}]},\"layout\":{\"annotationdefaults\":{\"arrowcolor\":\"#2a3f5f\",\"arrowhead\":0,\"arrowwidth\":1},\"autotypenumbers\":\"strict\",\"coloraxis\":{\"colorbar\":{\"outlinewidth\":0,\"ticks\":\"\"}},\"colorscale\":{\"diverging\":[[0,\"#8e0152\"],[0.1,\"#c51b7d\"],[0.2,\"#de77ae\"],[0.3,\"#f1b6da\"],[0.4,\"#fde0ef\"],[0.5,\"#f7f7f7\"],[0.6,\"#e6f5d0\"],[0.7,\"#b8e186\"],[0.8,\"#7fbc41\"],[0.9,\"#4d9221\"],[1,\"#276419\"]],\"sequential\":[[0.0,\"#0d0887\"],[0.1111111111111111,\"#46039f\"],[0.2222222222222222,\"#7201a8\"],[0.3333333333333333,\"#9c179e\"],[0.4444444444444444,\"#bd3786\"],[0.5555555555555556,\"#d8576b\"],[0.6666666666666666,\"#ed7953\"],[0.7777777777777778,\"#fb9f3a\"],[0.8888888888888888,\"#fdca26\"],[1.0,\"#f0f921\"]],\"sequentialminus\":[[0.0,\"#0d0887\"],[0.1111111111111111,\"#46039f\"],[0.2222222222222222,\"#7201a8\"],[0.3333333333333333,\"#9c179e\"],[0.4444444444444444,\"#bd3786\"],[0.5555555555555556,\"#d8576b\"],[0.6666666666666666,\"#ed7953\"],[0.7777777777777778,\"#fb9f3a\"],[0.8888888888888888,\"#fdca26\"],[1.0,\"#f0f921\"]]},\"colorway\":[\"#636efa\",\"#EF553B\",\"#00cc96\",\"#ab63fa\",\"#FFA15A\",\"#19d3f3\",\"#FF6692\",\"#B6E880\",\"#FF97FF\",\"#FECB52\"],\"font\":{\"color\":\"#2a3f5f\"},\"geo\":{\"bgcolor\":\"white\",\"lakecolor\":\"white\",\"landcolor\":\"#E5ECF6\",\"showlakes\":true,\"showland\":true,\"subunitcolor\":\"white\"},\"hoverlabel\":{\"align\":\"left\"},\"hovermode\":\"closest\",\"mapbox\":{\"style\":\"light\"},\"paper_bgcolor\":\"white\",\"plot_bgcolor\":\"#E5ECF6\",\"polar\":{\"angularaxis\":{\"gridcolor\":\"white\",\"linecolor\":\"white\",\"ticks\":\"\"},\"bgcolor\":\"#E5ECF6\",\"radialaxis\":{\"gridcolor\":\"white\",\"linecolor\":\"white\",\"ticks\":\"\"}},\"scene\":{\"xaxis\":{\"backgroundcolor\":\"#E5ECF6\",\"gridcolor\":\"white\",\"gridwidth\":2,\"linecolor\":\"white\",\"showbackground\":true,\"ticks\":\"\",\"zerolinecolor\":\"white\"},\"yaxis\":{\"backgroundcolor\":\"#E5ECF6\",\"gridcolor\":\"white\",\"gridwidth\":2,\"linecolor\":\"white\",\"showbackground\":true,\"ticks\":\"\",\"zerolinecolor\":\"white\"},\"zaxis\":{\"backgroundcolor\":\"#E5ECF6\",\"gridcolor\":\"white\",\"gridwidth\":2,\"linecolor\":\"white\",\"showbackground\":true,\"ticks\":\"\",\"zerolinecolor\":\"white\"}},\"shapedefaults\":{\"line\":{\"color\":\"#2a3f5f\"}},\"ternary\":{\"aaxis\":{\"gridcolor\":\"white\",\"linecolor\":\"white\",\"ticks\":\"\"},\"baxis\":{\"gridcolor\":\"white\",\"linecolor\":\"white\",\"ticks\":\"\"},\"bgcolor\":\"#E5ECF6\",\"caxis\":{\"gridcolor\":\"white\",\"linecolor\":\"white\",\"ticks\":\"\"}},\"title\":{\"x\":0.05},\"xaxis\":{\"automargin\":true,\"gridcolor\":\"white\",\"linecolor\":\"white\",\"ticks\":\"\",\"title\":{\"standoff\":15},\"zerolinecolor\":\"white\",\"zerolinewidth\":2},\"yaxis\":{\"automargin\":true,\"gridcolor\":\"white\",\"linecolor\":\"white\",\"ticks\":\"\",\"title\":{\"standoff\":15},\"zerolinecolor\":\"white\",\"zerolinewidth\":2}}},\"title\":{\"font\":{\"color\":\"#4D5663\"},\"text\":\"SF Giants Run Differential Throughout Season\"},\"xaxis\":{\"gridcolor\":\"#E1E5ED\",\"showgrid\":true,\"tickfont\":{\"color\":\"#4D5663\"},\"title\":{\"font\":{\"color\":\"#4D5663\"},\"text\":\"Games Played\"},\"zerolinecolor\":\"#E1E5ED\"},\"yaxis\":{\"gridcolor\":\"#E1E5ED\",\"showgrid\":true,\"tickfont\":{\"color\":\"#4D5663\"},\"title\":{\"font\":{\"color\":\"#4D5663\"},\"text\":\"Run Differential\"},\"zerolinecolor\":\"#E1E5ED\"}},                        {\"showLink\": true, \"linkText\": \"Export to plot.ly\", \"plotlyServerURL\": \"https://plot.ly\", \"responsive\": true}                    ).then(function(){\n",
       "                            \n",
       "var gd = document.getElementById('c7c40029-88c6-430d-8b24-d9dbc958e0ff');\n",
       "var x = new MutationObserver(function (mutations, observer) {{\n",
       "        var display = window.getComputedStyle(gd).display;\n",
       "        if (!display || display === 'none') {{\n",
       "            console.log([gd, 'removed!']);\n",
       "            Plotly.purge(gd);\n",
       "            observer.disconnect();\n",
       "        }}\n",
       "}});\n",
       "\n",
       "// Listen for the removal of the full notebook cells\n",
       "var notebookContainer = gd.closest('#notebook-container');\n",
       "if (notebookContainer) {{\n",
       "    x.observe(notebookContainer, {childList: true});\n",
       "}}\n",
       "\n",
       "// Listen for the clearing of the current output cell\n",
       "var outputEl = gd.closest('.output');\n",
       "if (outputEl) {{\n",
       "    x.observe(outputEl, {childList: true});\n",
       "}}\n",
       "\n",
       "                        })                };                });            </script>        </div>"
      ]
     },
     "metadata": {},
     "output_type": "display_data"
    }
   ],
   "source": [
    "sfDiff.iplot(title = 'SF Giants Run Differential Throughout Season',xTitle='Games Played',yTitle='Run Differential')"
   ]
  },
  {
   "cell_type": "markdown",
   "id": "fb38b13d",
   "metadata": {},
   "source": [
    "## Conclusion\n",
    "\n",
    "Solely looking at regular season performance, the 2010 San Francisco Giants seem to be the best of the three World Series winning teams in the 2010s. Although the 2012 team had a better regular season record, they only had 2 more wins than the 2010 team and the 2010 team had a better run differential by 45 runs. However, a championship is a championship and all 3 of the teams here got it done."
   ]
  },
  {
   "cell_type": "markdown",
   "id": "08c5da06",
   "metadata": {},
   "source": [
    "## Additional Exploration\n",
    "\n",
    "I also want to investigate the big name players on the Giants and how they compared to the MLB's best in each of their World Series winning seasons."
   ]
  },
  {
   "cell_type": "markdown",
   "id": "aa4e408f",
   "metadata": {},
   "source": [
    "## The 2010 Season"
   ]
  },
  {
   "cell_type": "code",
   "execution_count": 18,
   "id": "f8707f3b",
   "metadata": {},
   "outputs": [],
   "source": [
    "from pybaseball import pitching_stats"
   ]
  },
  {
   "cell_type": "code",
   "execution_count": 19,
   "id": "2412d02f",
   "metadata": {},
   "outputs": [],
   "source": [
    "pitching2010 = pitching_stats(2010)"
   ]
  },
  {
   "cell_type": "code",
   "execution_count": 20,
   "id": "58f2f817",
   "metadata": {},
   "outputs": [
    {
     "data": {
      "text/html": [
       "<div>\n",
       "<style scoped>\n",
       "    .dataframe tbody tr th:only-of-type {\n",
       "        vertical-align: middle;\n",
       "    }\n",
       "\n",
       "    .dataframe tbody tr th {\n",
       "        vertical-align: top;\n",
       "    }\n",
       "\n",
       "    .dataframe thead th {\n",
       "        text-align: right;\n",
       "    }\n",
       "</style>\n",
       "<table border=\"1\" class=\"dataframe\">\n",
       "  <thead>\n",
       "    <tr style=\"text-align: right;\">\n",
       "      <th></th>\n",
       "      <th>Name</th>\n",
       "      <th>Team</th>\n",
       "      <th>W</th>\n",
       "      <th>L</th>\n",
       "      <th>ERA</th>\n",
       "      <th>WHIP</th>\n",
       "      <th>IP</th>\n",
       "      <th>SO</th>\n",
       "      <th>K/BB</th>\n",
       "      <th>K/9</th>\n",
       "      <th>FIP</th>\n",
       "      <th>WAR</th>\n",
       "    </tr>\n",
       "  </thead>\n",
       "  <tbody>\n",
       "    <tr>\n",
       "      <th>29</th>\n",
       "      <td>Tim Lincecum</td>\n",
       "      <td>SFG</td>\n",
       "      <td>16</td>\n",
       "      <td>10</td>\n",
       "      <td>3.43</td>\n",
       "      <td>1.27</td>\n",
       "      <td>212.1</td>\n",
       "      <td>231</td>\n",
       "      <td>3.04</td>\n",
       "      <td>9.79</td>\n",
       "      <td>3.15</td>\n",
       "      <td>4.3</td>\n",
       "    </tr>\n",
       "    <tr>\n",
       "      <th>19</th>\n",
       "      <td>Matt Cain</td>\n",
       "      <td>SFG</td>\n",
       "      <td>13</td>\n",
       "      <td>11</td>\n",
       "      <td>3.14</td>\n",
       "      <td>1.08</td>\n",
       "      <td>223.1</td>\n",
       "      <td>177</td>\n",
       "      <td>2.90</td>\n",
       "      <td>7.13</td>\n",
       "      <td>3.65</td>\n",
       "      <td>4.0</td>\n",
       "    </tr>\n",
       "    <tr>\n",
       "      <th>17</th>\n",
       "      <td>Jonathan Sanchez</td>\n",
       "      <td>SFG</td>\n",
       "      <td>13</td>\n",
       "      <td>9</td>\n",
       "      <td>3.07</td>\n",
       "      <td>1.23</td>\n",
       "      <td>193.1</td>\n",
       "      <td>205</td>\n",
       "      <td>2.14</td>\n",
       "      <td>9.54</td>\n",
       "      <td>4.00</td>\n",
       "      <td>2.2</td>\n",
       "    </tr>\n",
       "    <tr>\n",
       "      <th>61</th>\n",
       "      <td>Barry Zito</td>\n",
       "      <td>SFG</td>\n",
       "      <td>9</td>\n",
       "      <td>14</td>\n",
       "      <td>4.15</td>\n",
       "      <td>1.34</td>\n",
       "      <td>199.1</td>\n",
       "      <td>150</td>\n",
       "      <td>1.79</td>\n",
       "      <td>6.77</td>\n",
       "      <td>4.25</td>\n",
       "      <td>1.8</td>\n",
       "    </tr>\n",
       "  </tbody>\n",
       "</table>\n",
       "</div>"
      ],
      "text/plain": [
       "                Name Team   W   L   ERA  WHIP     IP   SO  K/BB   K/9   FIP  \\\n",
       "29      Tim Lincecum  SFG  16  10  3.43  1.27  212.1  231  3.04  9.79  3.15   \n",
       "19         Matt Cain  SFG  13  11  3.14  1.08  223.1  177  2.90  7.13  3.65   \n",
       "17  Jonathan Sanchez  SFG  13   9  3.07  1.23  193.1  205  2.14  9.54  4.00   \n",
       "61        Barry Zito  SFG   9  14  4.15  1.34  199.1  150  1.79  6.77  4.25   \n",
       "\n",
       "    WAR  \n",
       "29  4.3  \n",
       "19  4.0  \n",
       "17  2.2  \n",
       "61  1.8  "
      ]
     },
     "execution_count": 20,
     "metadata": {},
     "output_type": "execute_result"
    }
   ],
   "source": [
    "# The 2010 Giants pitching rotation with key stats\n",
    "pitching2010[['Name','Team','W','L','ERA','WHIP','IP','SO','K/BB','K/9','FIP','WAR']][pitching2010['Team'] == 'SFG']"
   ]
  },
  {
   "cell_type": "code",
   "execution_count": 21,
   "id": "8b1772a3",
   "metadata": {},
   "outputs": [
    {
     "data": {
      "text/html": [
       "<div>\n",
       "<style scoped>\n",
       "    .dataframe tbody tr th:only-of-type {\n",
       "        vertical-align: middle;\n",
       "    }\n",
       "\n",
       "    .dataframe tbody tr th {\n",
       "        vertical-align: top;\n",
       "    }\n",
       "\n",
       "    .dataframe thead th {\n",
       "        text-align: right;\n",
       "    }\n",
       "</style>\n",
       "<table border=\"1\" class=\"dataframe\">\n",
       "  <thead>\n",
       "    <tr style=\"text-align: right;\">\n",
       "      <th></th>\n",
       "      <th>Name</th>\n",
       "      <th>Team</th>\n",
       "      <th>W</th>\n",
       "      <th>L</th>\n",
       "      <th>ERA</th>\n",
       "      <th>WHIP</th>\n",
       "      <th>IP</th>\n",
       "      <th>SO</th>\n",
       "      <th>K/BB</th>\n",
       "      <th>K/9</th>\n",
       "      <th>FIP</th>\n",
       "      <th>WAR</th>\n",
       "    </tr>\n",
       "  </thead>\n",
       "  <tbody>\n",
       "    <tr>\n",
       "      <th>20</th>\n",
       "      <td>Cliff Lee</td>\n",
       "      <td>- - -</td>\n",
       "      <td>12</td>\n",
       "      <td>9</td>\n",
       "      <td>3.18</td>\n",
       "      <td>1.00</td>\n",
       "      <td>212.1</td>\n",
       "      <td>185</td>\n",
       "      <td>10.28</td>\n",
       "      <td>7.84</td>\n",
       "      <td>2.58</td>\n",
       "      <td>7.3</td>\n",
       "    </tr>\n",
       "    <tr>\n",
       "      <th>27</th>\n",
       "      <td>Justin Verlander</td>\n",
       "      <td>DET</td>\n",
       "      <td>18</td>\n",
       "      <td>9</td>\n",
       "      <td>3.37</td>\n",
       "      <td>1.16</td>\n",
       "      <td>224.1</td>\n",
       "      <td>219</td>\n",
       "      <td>3.08</td>\n",
       "      <td>8.79</td>\n",
       "      <td>2.97</td>\n",
       "      <td>6.7</td>\n",
       "    </tr>\n",
       "    <tr>\n",
       "      <th>0</th>\n",
       "      <td>Felix Hernandez</td>\n",
       "      <td>SEA</td>\n",
       "      <td>13</td>\n",
       "      <td>12</td>\n",
       "      <td>2.27</td>\n",
       "      <td>1.06</td>\n",
       "      <td>249.2</td>\n",
       "      <td>232</td>\n",
       "      <td>3.31</td>\n",
       "      <td>8.36</td>\n",
       "      <td>3.04</td>\n",
       "      <td>6.7</td>\n",
       "    </tr>\n",
       "    <tr>\n",
       "      <th>4</th>\n",
       "      <td>Roy Halladay</td>\n",
       "      <td>PHI</td>\n",
       "      <td>21</td>\n",
       "      <td>10</td>\n",
       "      <td>2.44</td>\n",
       "      <td>1.04</td>\n",
       "      <td>250.2</td>\n",
       "      <td>219</td>\n",
       "      <td>7.30</td>\n",
       "      <td>7.86</td>\n",
       "      <td>3.01</td>\n",
       "      <td>6.2</td>\n",
       "    </tr>\n",
       "    <tr>\n",
       "      <th>10</th>\n",
       "      <td>Ubaldo Jimenez</td>\n",
       "      <td>COL</td>\n",
       "      <td>19</td>\n",
       "      <td>8</td>\n",
       "      <td>2.88</td>\n",
       "      <td>1.15</td>\n",
       "      <td>221.2</td>\n",
       "      <td>214</td>\n",
       "      <td>2.33</td>\n",
       "      <td>8.69</td>\n",
       "      <td>3.10</td>\n",
       "      <td>6.0</td>\n",
       "    </tr>\n",
       "    <tr>\n",
       "      <th>1</th>\n",
       "      <td>Josh Johnson</td>\n",
       "      <td>FLA</td>\n",
       "      <td>11</td>\n",
       "      <td>6</td>\n",
       "      <td>2.30</td>\n",
       "      <td>1.11</td>\n",
       "      <td>183.2</td>\n",
       "      <td>186</td>\n",
       "      <td>3.88</td>\n",
       "      <td>9.11</td>\n",
       "      <td>2.41</td>\n",
       "      <td>6.0</td>\n",
       "    </tr>\n",
       "    <tr>\n",
       "      <th>15</th>\n",
       "      <td>Jered Weaver</td>\n",
       "      <td>LAA</td>\n",
       "      <td>13</td>\n",
       "      <td>12</td>\n",
       "      <td>3.01</td>\n",
       "      <td>1.07</td>\n",
       "      <td>224.1</td>\n",
       "      <td>233</td>\n",
       "      <td>4.31</td>\n",
       "      <td>9.35</td>\n",
       "      <td>3.06</td>\n",
       "      <td>5.9</td>\n",
       "    </tr>\n",
       "    <tr>\n",
       "      <th>36</th>\n",
       "      <td>Francisco Liriano</td>\n",
       "      <td>MIN</td>\n",
       "      <td>14</td>\n",
       "      <td>10</td>\n",
       "      <td>3.62</td>\n",
       "      <td>1.26</td>\n",
       "      <td>191.2</td>\n",
       "      <td>201</td>\n",
       "      <td>3.47</td>\n",
       "      <td>9.44</td>\n",
       "      <td>2.66</td>\n",
       "      <td>5.6</td>\n",
       "    </tr>\n",
       "    <tr>\n",
       "      <th>21</th>\n",
       "      <td>CC Sabathia</td>\n",
       "      <td>NYY</td>\n",
       "      <td>21</td>\n",
       "      <td>7</td>\n",
       "      <td>3.18</td>\n",
       "      <td>1.19</td>\n",
       "      <td>237.2</td>\n",
       "      <td>197</td>\n",
       "      <td>2.66</td>\n",
       "      <td>7.46</td>\n",
       "      <td>3.54</td>\n",
       "      <td>5.5</td>\n",
       "    </tr>\n",
       "    <tr>\n",
       "      <th>3</th>\n",
       "      <td>Adam Wainwright</td>\n",
       "      <td>STL</td>\n",
       "      <td>20</td>\n",
       "      <td>11</td>\n",
       "      <td>2.42</td>\n",
       "      <td>1.05</td>\n",
       "      <td>230.1</td>\n",
       "      <td>213</td>\n",
       "      <td>3.80</td>\n",
       "      <td>8.32</td>\n",
       "      <td>2.86</td>\n",
       "      <td>5.1</td>\n",
       "    </tr>\n",
       "  </tbody>\n",
       "</table>\n",
       "</div>"
      ],
      "text/plain": [
       "                 Name   Team   W   L   ERA  WHIP     IP   SO   K/BB   K/9  \\\n",
       "20          Cliff Lee  - - -  12   9  3.18  1.00  212.1  185  10.28  7.84   \n",
       "27   Justin Verlander    DET  18   9  3.37  1.16  224.1  219   3.08  8.79   \n",
       "0     Felix Hernandez    SEA  13  12  2.27  1.06  249.2  232   3.31  8.36   \n",
       "4        Roy Halladay    PHI  21  10  2.44  1.04  250.2  219   7.30  7.86   \n",
       "10     Ubaldo Jimenez    COL  19   8  2.88  1.15  221.2  214   2.33  8.69   \n",
       "1        Josh Johnson    FLA  11   6  2.30  1.11  183.2  186   3.88  9.11   \n",
       "15       Jered Weaver    LAA  13  12  3.01  1.07  224.1  233   4.31  9.35   \n",
       "36  Francisco Liriano    MIN  14  10  3.62  1.26  191.2  201   3.47  9.44   \n",
       "21        CC Sabathia    NYY  21   7  3.18  1.19  237.2  197   2.66  7.46   \n",
       "3     Adam Wainwright    STL  20  11  2.42  1.05  230.1  213   3.80  8.32   \n",
       "\n",
       "     FIP  WAR  \n",
       "20  2.58  7.3  \n",
       "27  2.97  6.7  \n",
       "0   3.04  6.7  \n",
       "4   3.01  6.2  \n",
       "10  3.10  6.0  \n",
       "1   2.41  6.0  \n",
       "15  3.06  5.9  \n",
       "36  2.66  5.6  \n",
       "21  3.54  5.5  \n",
       "3   2.86  5.1  "
      ]
     },
     "execution_count": 21,
     "metadata": {},
     "output_type": "execute_result"
    }
   ],
   "source": [
    "# The 10 best pitchers with key stats\n",
    "pitching2010[['Name','Team','W','L','ERA','WHIP','IP','SO','K/BB','K/9','FIP','WAR']].head(10)"
   ]
  },
  {
   "cell_type": "markdown",
   "id": "82b7afe4",
   "metadata": {},
   "source": [
    "The best pitcher for the 2010 Giants, Tim Lincecum, posted a WAR of 4.3. The top 10 pitchers in the league had a WAR that varied from 5.1 to 7.3. Although this Giants team did not have a top tier starter, Tim Lincecum and Matt Cain posted very respectable WARs."
   ]
  },
  {
   "cell_type": "code",
   "execution_count": 22,
   "id": "8fffc9dd",
   "metadata": {},
   "outputs": [],
   "source": [
    "from pybaseball import batting_stats"
   ]
  },
  {
   "cell_type": "code",
   "execution_count": 23,
   "id": "ee5081c9",
   "metadata": {},
   "outputs": [],
   "source": [
    "batting2010 = batting_stats(2010)"
   ]
  },
  {
   "cell_type": "code",
   "execution_count": 24,
   "id": "5e398c28",
   "metadata": {},
   "outputs": [
    {
     "data": {
      "text/html": [
       "<div>\n",
       "<style scoped>\n",
       "    .dataframe tbody tr th:only-of-type {\n",
       "        vertical-align: middle;\n",
       "    }\n",
       "\n",
       "    .dataframe tbody tr th {\n",
       "        vertical-align: top;\n",
       "    }\n",
       "\n",
       "    .dataframe thead th {\n",
       "        text-align: right;\n",
       "    }\n",
       "</style>\n",
       "<table border=\"1\" class=\"dataframe\">\n",
       "  <thead>\n",
       "    <tr style=\"text-align: right;\">\n",
       "      <th></th>\n",
       "      <th>Name</th>\n",
       "      <th>Team</th>\n",
       "      <th>AVG</th>\n",
       "      <th>OBP</th>\n",
       "      <th>SLG</th>\n",
       "      <th>OPS</th>\n",
       "      <th>RBI</th>\n",
       "      <th>HR</th>\n",
       "      <th>wOBA</th>\n",
       "      <th>OBP+</th>\n",
       "      <th>wRC</th>\n",
       "      <th>WAR</th>\n",
       "    </tr>\n",
       "  </thead>\n",
       "  <tbody>\n",
       "    <tr>\n",
       "      <th>47</th>\n",
       "      <td>Andres Torres</td>\n",
       "      <td>SFG</td>\n",
       "      <td>0.268</td>\n",
       "      <td>0.343</td>\n",
       "      <td>0.479</td>\n",
       "      <td>0.823</td>\n",
       "      <td>63</td>\n",
       "      <td>16</td>\n",
       "      <td>0.358</td>\n",
       "      <td>103</td>\n",
       "      <td>82</td>\n",
       "      <td>6.3</td>\n",
       "    </tr>\n",
       "    <tr>\n",
       "      <th>14</th>\n",
       "      <td>Aubrey Huff</td>\n",
       "      <td>SFG</td>\n",
       "      <td>0.290</td>\n",
       "      <td>0.385</td>\n",
       "      <td>0.506</td>\n",
       "      <td>0.891</td>\n",
       "      <td>86</td>\n",
       "      <td>26</td>\n",
       "      <td>0.387</td>\n",
       "      <td>116</td>\n",
       "      <td>112</td>\n",
       "      <td>5.7</td>\n",
       "    </tr>\n",
       "    <tr>\n",
       "      <th>96</th>\n",
       "      <td>Juan Uribe</td>\n",
       "      <td>SFG</td>\n",
       "      <td>0.248</td>\n",
       "      <td>0.310</td>\n",
       "      <td>0.440</td>\n",
       "      <td>0.749</td>\n",
       "      <td>85</td>\n",
       "      <td>24</td>\n",
       "      <td>0.324</td>\n",
       "      <td>93</td>\n",
       "      <td>67</td>\n",
       "      <td>2.7</td>\n",
       "    </tr>\n",
       "    <tr>\n",
       "      <th>112</th>\n",
       "      <td>Pablo Sandoval</td>\n",
       "      <td>SFG</td>\n",
       "      <td>0.268</td>\n",
       "      <td>0.323</td>\n",
       "      <td>0.409</td>\n",
       "      <td>0.732</td>\n",
       "      <td>63</td>\n",
       "      <td>13</td>\n",
       "      <td>0.316</td>\n",
       "      <td>97</td>\n",
       "      <td>68</td>\n",
       "      <td>1.1</td>\n",
       "    </tr>\n",
       "  </tbody>\n",
       "</table>\n",
       "</div>"
      ],
      "text/plain": [
       "               Name Team    AVG    OBP    SLG    OPS  RBI  HR   wOBA  OBP+  \\\n",
       "47    Andres Torres  SFG  0.268  0.343  0.479  0.823   63  16  0.358   103   \n",
       "14      Aubrey Huff  SFG  0.290  0.385  0.506  0.891   86  26  0.387   116   \n",
       "96       Juan Uribe  SFG  0.248  0.310  0.440  0.749   85  24  0.324    93   \n",
       "112  Pablo Sandoval  SFG  0.268  0.323  0.409  0.732   63  13  0.316    97   \n",
       "\n",
       "     wRC  WAR  \n",
       "47    82  6.3  \n",
       "14   112  5.7  \n",
       "96    67  2.7  \n",
       "112   68  1.1  "
      ]
     },
     "execution_count": 24,
     "metadata": {},
     "output_type": "execute_result"
    }
   ],
   "source": [
    "# The 2010 Giants best hitters with key stats\n",
    "batting2010[['Name','Team','AVG','OBP','SLG','OPS','RBI','HR','wOBA','OBP+','wRC','WAR']][batting2010['Team'] == 'SFG']"
   ]
  },
  {
   "cell_type": "code",
   "execution_count": 25,
   "id": "634f1083",
   "metadata": {},
   "outputs": [
    {
     "data": {
      "text/html": [
       "<div>\n",
       "<style scoped>\n",
       "    .dataframe tbody tr th:only-of-type {\n",
       "        vertical-align: middle;\n",
       "    }\n",
       "\n",
       "    .dataframe tbody tr th {\n",
       "        vertical-align: top;\n",
       "    }\n",
       "\n",
       "    .dataframe thead th {\n",
       "        text-align: right;\n",
       "    }\n",
       "</style>\n",
       "<table border=\"1\" class=\"dataframe\">\n",
       "  <thead>\n",
       "    <tr style=\"text-align: right;\">\n",
       "      <th></th>\n",
       "      <th>Name</th>\n",
       "      <th>Team</th>\n",
       "      <th>AVG</th>\n",
       "      <th>OBP</th>\n",
       "      <th>SLG</th>\n",
       "      <th>OPS</th>\n",
       "      <th>RBI</th>\n",
       "      <th>HR</th>\n",
       "      <th>wOBA</th>\n",
       "      <th>OBP+</th>\n",
       "      <th>wRC</th>\n",
       "      <th>WAR</th>\n",
       "    </tr>\n",
       "  </thead>\n",
       "  <tbody>\n",
       "    <tr>\n",
       "      <th>0</th>\n",
       "      <td>Josh Hamilton</td>\n",
       "      <td>TEX</td>\n",
       "      <td>0.359</td>\n",
       "      <td>0.411</td>\n",
       "      <td>0.633</td>\n",
       "      <td>1.044</td>\n",
       "      <td>100</td>\n",
       "      <td>32</td>\n",
       "      <td>0.445</td>\n",
       "      <td>125</td>\n",
       "      <td>122</td>\n",
       "      <td>8.4</td>\n",
       "    </tr>\n",
       "    <tr>\n",
       "      <th>34</th>\n",
       "      <td>Carl Crawford</td>\n",
       "      <td>TBR</td>\n",
       "      <td>0.307</td>\n",
       "      <td>0.356</td>\n",
       "      <td>0.495</td>\n",
       "      <td>0.851</td>\n",
       "      <td>90</td>\n",
       "      <td>19</td>\n",
       "      <td>0.369</td>\n",
       "      <td>109</td>\n",
       "      <td>101</td>\n",
       "      <td>7.7</td>\n",
       "    </tr>\n",
       "    <tr>\n",
       "      <th>26</th>\n",
       "      <td>Evan Longoria</td>\n",
       "      <td>TBR</td>\n",
       "      <td>0.294</td>\n",
       "      <td>0.372</td>\n",
       "      <td>0.507</td>\n",
       "      <td>0.879</td>\n",
       "      <td>104</td>\n",
       "      <td>22</td>\n",
       "      <td>0.376</td>\n",
       "      <td>113</td>\n",
       "      <td>105</td>\n",
       "      <td>7.5</td>\n",
       "    </tr>\n",
       "    <tr>\n",
       "      <th>1</th>\n",
       "      <td>Joey Votto</td>\n",
       "      <td>CIN</td>\n",
       "      <td>0.324</td>\n",
       "      <td>0.424</td>\n",
       "      <td>0.600</td>\n",
       "      <td>1.024</td>\n",
       "      <td>113</td>\n",
       "      <td>37</td>\n",
       "      <td>0.438</td>\n",
       "      <td>128</td>\n",
       "      <td>135</td>\n",
       "      <td>6.9</td>\n",
       "    </tr>\n",
       "    <tr>\n",
       "      <th>4</th>\n",
       "      <td>Albert Pujols</td>\n",
       "      <td>STL</td>\n",
       "      <td>0.312</td>\n",
       "      <td>0.414</td>\n",
       "      <td>0.596</td>\n",
       "      <td>1.011</td>\n",
       "      <td>118</td>\n",
       "      <td>42</td>\n",
       "      <td>0.419</td>\n",
       "      <td>125</td>\n",
       "      <td>135</td>\n",
       "      <td>6.8</td>\n",
       "    </tr>\n",
       "    <tr>\n",
       "      <th>44</th>\n",
       "      <td>Brian McCann</td>\n",
       "      <td>ATL</td>\n",
       "      <td>0.269</td>\n",
       "      <td>0.375</td>\n",
       "      <td>0.453</td>\n",
       "      <td>0.828</td>\n",
       "      <td>77</td>\n",
       "      <td>21</td>\n",
       "      <td>0.362</td>\n",
       "      <td>113</td>\n",
       "      <td>83</td>\n",
       "      <td>6.7</td>\n",
       "    </tr>\n",
       "    <tr>\n",
       "      <th>12</th>\n",
       "      <td>Ryan Zimmerman</td>\n",
       "      <td>WSN</td>\n",
       "      <td>0.307</td>\n",
       "      <td>0.388</td>\n",
       "      <td>0.510</td>\n",
       "      <td>0.899</td>\n",
       "      <td>85</td>\n",
       "      <td>25</td>\n",
       "      <td>0.390</td>\n",
       "      <td>117</td>\n",
       "      <td>102</td>\n",
       "      <td>6.6</td>\n",
       "    </tr>\n",
       "    <tr>\n",
       "      <th>3</th>\n",
       "      <td>Jose Bautista</td>\n",
       "      <td>TOR</td>\n",
       "      <td>0.260</td>\n",
       "      <td>0.378</td>\n",
       "      <td>0.617</td>\n",
       "      <td>0.995</td>\n",
       "      <td>124</td>\n",
       "      <td>54</td>\n",
       "      <td>0.422</td>\n",
       "      <td>115</td>\n",
       "      <td>134</td>\n",
       "      <td>6.5</td>\n",
       "    </tr>\n",
       "    <tr>\n",
       "      <th>11</th>\n",
       "      <td>Adrian Beltre</td>\n",
       "      <td>BOS</td>\n",
       "      <td>0.321</td>\n",
       "      <td>0.365</td>\n",
       "      <td>0.553</td>\n",
       "      <td>0.919</td>\n",
       "      <td>102</td>\n",
       "      <td>28</td>\n",
       "      <td>0.391</td>\n",
       "      <td>111</td>\n",
       "      <td>109</td>\n",
       "      <td>6.4</td>\n",
       "    </tr>\n",
       "    <tr>\n",
       "      <th>10</th>\n",
       "      <td>Robinson Cano</td>\n",
       "      <td>NYY</td>\n",
       "      <td>0.319</td>\n",
       "      <td>0.381</td>\n",
       "      <td>0.534</td>\n",
       "      <td>0.914</td>\n",
       "      <td>109</td>\n",
       "      <td>29</td>\n",
       "      <td>0.391</td>\n",
       "      <td>116</td>\n",
       "      <td>119</td>\n",
       "      <td>6.4</td>\n",
       "    </tr>\n",
       "  </tbody>\n",
       "</table>\n",
       "</div>"
      ],
      "text/plain": [
       "              Name Team    AVG    OBP    SLG    OPS  RBI  HR   wOBA  OBP+  \\\n",
       "0    Josh Hamilton  TEX  0.359  0.411  0.633  1.044  100  32  0.445   125   \n",
       "34   Carl Crawford  TBR  0.307  0.356  0.495  0.851   90  19  0.369   109   \n",
       "26   Evan Longoria  TBR  0.294  0.372  0.507  0.879  104  22  0.376   113   \n",
       "1       Joey Votto  CIN  0.324  0.424  0.600  1.024  113  37  0.438   128   \n",
       "4    Albert Pujols  STL  0.312  0.414  0.596  1.011  118  42  0.419   125   \n",
       "44    Brian McCann  ATL  0.269  0.375  0.453  0.828   77  21  0.362   113   \n",
       "12  Ryan Zimmerman  WSN  0.307  0.388  0.510  0.899   85  25  0.390   117   \n",
       "3    Jose Bautista  TOR  0.260  0.378  0.617  0.995  124  54  0.422   115   \n",
       "11   Adrian Beltre  BOS  0.321  0.365  0.553  0.919  102  28  0.391   111   \n",
       "10   Robinson Cano  NYY  0.319  0.381  0.534  0.914  109  29  0.391   116   \n",
       "\n",
       "    wRC  WAR  \n",
       "0   122  8.4  \n",
       "34  101  7.7  \n",
       "26  105  7.5  \n",
       "1   135  6.9  \n",
       "4   135  6.8  \n",
       "44   83  6.7  \n",
       "12  102  6.6  \n",
       "3   134  6.5  \n",
       "11  109  6.4  \n",
       "10  119  6.4  "
      ]
     },
     "execution_count": 25,
     "metadata": {},
     "output_type": "execute_result"
    }
   ],
   "source": [
    "# The 10 best hitters with key stats\n",
    "batting2010[['Name','Team','AVG','OBP','SLG','OPS','RBI','HR','wOBA','OBP+','wRC','WAR']].head(10)"
   ]
  },
  {
   "cell_type": "markdown",
   "id": "33c81824",
   "metadata": {},
   "source": [
    "Andres Torres and Aubrey Huff were the key players for the 2010 Giants by WAR, and Andres Torres was close to being one of the top 10 position players in baseball."
   ]
  },
  {
   "cell_type": "markdown",
   "id": "87075034",
   "metadata": {},
   "source": [
    "## The 2012 Season"
   ]
  },
  {
   "cell_type": "code",
   "execution_count": 26,
   "id": "251d4168",
   "metadata": {},
   "outputs": [],
   "source": [
    "pitching2012 = pitching_stats(2012)"
   ]
  },
  {
   "cell_type": "code",
   "execution_count": 27,
   "id": "190e6a3d",
   "metadata": {},
   "outputs": [
    {
     "data": {
      "text/html": [
       "<div>\n",
       "<style scoped>\n",
       "    .dataframe tbody tr th:only-of-type {\n",
       "        vertical-align: middle;\n",
       "    }\n",
       "\n",
       "    .dataframe tbody tr th {\n",
       "        vertical-align: top;\n",
       "    }\n",
       "\n",
       "    .dataframe thead th {\n",
       "        text-align: right;\n",
       "    }\n",
       "</style>\n",
       "<table border=\"1\" class=\"dataframe\">\n",
       "  <thead>\n",
       "    <tr style=\"text-align: right;\">\n",
       "      <th></th>\n",
       "      <th>Name</th>\n",
       "      <th>Team</th>\n",
       "      <th>W</th>\n",
       "      <th>L</th>\n",
       "      <th>ERA</th>\n",
       "      <th>WHIP</th>\n",
       "      <th>IP</th>\n",
       "      <th>SO</th>\n",
       "      <th>K/BB</th>\n",
       "      <th>K/9</th>\n",
       "      <th>FIP</th>\n",
       "      <th>WAR</th>\n",
       "    </tr>\n",
       "  </thead>\n",
       "  <tbody>\n",
       "    <tr>\n",
       "      <th>5</th>\n",
       "      <td>Matt Cain</td>\n",
       "      <td>SFG</td>\n",
       "      <td>16</td>\n",
       "      <td>5</td>\n",
       "      <td>2.79</td>\n",
       "      <td>1.04</td>\n",
       "      <td>219.1</td>\n",
       "      <td>193</td>\n",
       "      <td>3.78</td>\n",
       "      <td>7.92</td>\n",
       "      <td>3.40</td>\n",
       "      <td>3.2</td>\n",
       "    </tr>\n",
       "    <tr>\n",
       "      <th>19</th>\n",
       "      <td>Madison Bumgarner</td>\n",
       "      <td>SFG</td>\n",
       "      <td>16</td>\n",
       "      <td>11</td>\n",
       "      <td>3.37</td>\n",
       "      <td>1.11</td>\n",
       "      <td>208.1</td>\n",
       "      <td>191</td>\n",
       "      <td>3.90</td>\n",
       "      <td>8.25</td>\n",
       "      <td>3.50</td>\n",
       "      <td>2.7</td>\n",
       "    </tr>\n",
       "    <tr>\n",
       "      <th>18</th>\n",
       "      <td>Ryan Vogelsong</td>\n",
       "      <td>SFG</td>\n",
       "      <td>14</td>\n",
       "      <td>9</td>\n",
       "      <td>3.37</td>\n",
       "      <td>1.23</td>\n",
       "      <td>189.2</td>\n",
       "      <td>158</td>\n",
       "      <td>2.55</td>\n",
       "      <td>7.50</td>\n",
       "      <td>3.70</td>\n",
       "      <td>1.9</td>\n",
       "    </tr>\n",
       "    <tr>\n",
       "      <th>61</th>\n",
       "      <td>Barry Zito</td>\n",
       "      <td>SFG</td>\n",
       "      <td>15</td>\n",
       "      <td>8</td>\n",
       "      <td>4.15</td>\n",
       "      <td>1.39</td>\n",
       "      <td>184.1</td>\n",
       "      <td>114</td>\n",
       "      <td>1.63</td>\n",
       "      <td>5.57</td>\n",
       "      <td>4.49</td>\n",
       "      <td>1.0</td>\n",
       "    </tr>\n",
       "    <tr>\n",
       "      <th>84</th>\n",
       "      <td>Tim Lincecum</td>\n",
       "      <td>SFG</td>\n",
       "      <td>10</td>\n",
       "      <td>15</td>\n",
       "      <td>5.18</td>\n",
       "      <td>1.47</td>\n",
       "      <td>186.0</td>\n",
       "      <td>190</td>\n",
       "      <td>2.11</td>\n",
       "      <td>9.19</td>\n",
       "      <td>4.18</td>\n",
       "      <td>0.9</td>\n",
       "    </tr>\n",
       "  </tbody>\n",
       "</table>\n",
       "</div>"
      ],
      "text/plain": [
       "                 Name Team   W   L   ERA  WHIP     IP   SO  K/BB   K/9   FIP  \\\n",
       "5           Matt Cain  SFG  16   5  2.79  1.04  219.1  193  3.78  7.92  3.40   \n",
       "19  Madison Bumgarner  SFG  16  11  3.37  1.11  208.1  191  3.90  8.25  3.50   \n",
       "18     Ryan Vogelsong  SFG  14   9  3.37  1.23  189.2  158  2.55  7.50  3.70   \n",
       "61         Barry Zito  SFG  15   8  4.15  1.39  184.1  114  1.63  5.57  4.49   \n",
       "84       Tim Lincecum  SFG  10  15  5.18  1.47  186.0  190  2.11  9.19  4.18   \n",
       "\n",
       "    WAR  \n",
       "5   3.2  \n",
       "19  2.7  \n",
       "18  1.9  \n",
       "61  1.0  \n",
       "84  0.9  "
      ]
     },
     "execution_count": 27,
     "metadata": {},
     "output_type": "execute_result"
    }
   ],
   "source": [
    "# The 2012 Giants pitching rotation with key stats\n",
    "pitching2012[['Name','Team','W','L','ERA','WHIP','IP','SO','K/BB','K/9','FIP','WAR']][pitching2012['Team'] == 'SFG']"
   ]
  },
  {
   "cell_type": "code",
   "execution_count": 28,
   "id": "9d4f4b63",
   "metadata": {},
   "outputs": [
    {
     "data": {
      "text/html": [
       "<div>\n",
       "<style scoped>\n",
       "    .dataframe tbody tr th:only-of-type {\n",
       "        vertical-align: middle;\n",
       "    }\n",
       "\n",
       "    .dataframe tbody tr th {\n",
       "        vertical-align: top;\n",
       "    }\n",
       "\n",
       "    .dataframe thead th {\n",
       "        text-align: right;\n",
       "    }\n",
       "</style>\n",
       "<table border=\"1\" class=\"dataframe\">\n",
       "  <thead>\n",
       "    <tr style=\"text-align: right;\">\n",
       "      <th></th>\n",
       "      <th>Name</th>\n",
       "      <th>Team</th>\n",
       "      <th>W</th>\n",
       "      <th>L</th>\n",
       "      <th>ERA</th>\n",
       "      <th>WHIP</th>\n",
       "      <th>IP</th>\n",
       "      <th>SO</th>\n",
       "      <th>K/BB</th>\n",
       "      <th>K/9</th>\n",
       "      <th>FIP</th>\n",
       "      <th>WAR</th>\n",
       "    </tr>\n",
       "  </thead>\n",
       "  <tbody>\n",
       "    <tr>\n",
       "      <th>2</th>\n",
       "      <td>Justin Verlander</td>\n",
       "      <td>DET</td>\n",
       "      <td>17</td>\n",
       "      <td>8</td>\n",
       "      <td>2.64</td>\n",
       "      <td>1.06</td>\n",
       "      <td>238.1</td>\n",
       "      <td>239</td>\n",
       "      <td>3.98</td>\n",
       "      <td>9.03</td>\n",
       "      <td>2.94</td>\n",
       "      <td>6.9</td>\n",
       "    </tr>\n",
       "    <tr>\n",
       "      <th>12</th>\n",
       "      <td>Felix Hernandez</td>\n",
       "      <td>SEA</td>\n",
       "      <td>13</td>\n",
       "      <td>9</td>\n",
       "      <td>3.06</td>\n",
       "      <td>1.14</td>\n",
       "      <td>232.0</td>\n",
       "      <td>223</td>\n",
       "      <td>3.98</td>\n",
       "      <td>8.65</td>\n",
       "      <td>2.84</td>\n",
       "      <td>6.6</td>\n",
       "    </tr>\n",
       "    <tr>\n",
       "      <th>0</th>\n",
       "      <td>Clayton Kershaw</td>\n",
       "      <td>LAD</td>\n",
       "      <td>14</td>\n",
       "      <td>9</td>\n",
       "      <td>2.53</td>\n",
       "      <td>1.02</td>\n",
       "      <td>227.2</td>\n",
       "      <td>229</td>\n",
       "      <td>3.63</td>\n",
       "      <td>9.05</td>\n",
       "      <td>2.89</td>\n",
       "      <td>6.1</td>\n",
       "    </tr>\n",
       "    <tr>\n",
       "      <th>8</th>\n",
       "      <td>Gio Gonzalez</td>\n",
       "      <td>WSN</td>\n",
       "      <td>21</td>\n",
       "      <td>8</td>\n",
       "      <td>2.89</td>\n",
       "      <td>1.13</td>\n",
       "      <td>199.1</td>\n",
       "      <td>207</td>\n",
       "      <td>2.72</td>\n",
       "      <td>9.35</td>\n",
       "      <td>2.82</td>\n",
       "      <td>5.0</td>\n",
       "    </tr>\n",
       "    <tr>\n",
       "      <th>14</th>\n",
       "      <td>Cliff Lee</td>\n",
       "      <td>PHI</td>\n",
       "      <td>6</td>\n",
       "      <td>9</td>\n",
       "      <td>3.16</td>\n",
       "      <td>1.11</td>\n",
       "      <td>211.0</td>\n",
       "      <td>207</td>\n",
       "      <td>7.39</td>\n",
       "      <td>8.83</td>\n",
       "      <td>3.13</td>\n",
       "      <td>5.0</td>\n",
       "    </tr>\n",
       "    <tr>\n",
       "      <th>26</th>\n",
       "      <td>Zack Greinke</td>\n",
       "      <td>- - -</td>\n",
       "      <td>15</td>\n",
       "      <td>5</td>\n",
       "      <td>3.48</td>\n",
       "      <td>1.20</td>\n",
       "      <td>212.1</td>\n",
       "      <td>200</td>\n",
       "      <td>3.70</td>\n",
       "      <td>8.48</td>\n",
       "      <td>3.10</td>\n",
       "      <td>4.8</td>\n",
       "    </tr>\n",
       "    <tr>\n",
       "      <th>3</th>\n",
       "      <td>R.A. Dickey</td>\n",
       "      <td>NYM</td>\n",
       "      <td>20</td>\n",
       "      <td>6</td>\n",
       "      <td>2.73</td>\n",
       "      <td>1.05</td>\n",
       "      <td>233.2</td>\n",
       "      <td>230</td>\n",
       "      <td>4.26</td>\n",
       "      <td>8.86</td>\n",
       "      <td>3.27</td>\n",
       "      <td>4.7</td>\n",
       "    </tr>\n",
       "    <tr>\n",
       "      <th>10</th>\n",
       "      <td>Chris Sale</td>\n",
       "      <td>CHW</td>\n",
       "      <td>17</td>\n",
       "      <td>8</td>\n",
       "      <td>3.05</td>\n",
       "      <td>1.14</td>\n",
       "      <td>192.0</td>\n",
       "      <td>192</td>\n",
       "      <td>3.76</td>\n",
       "      <td>9.00</td>\n",
       "      <td>3.27</td>\n",
       "      <td>4.7</td>\n",
       "    </tr>\n",
       "    <tr>\n",
       "      <th>51</th>\n",
       "      <td>Yu Darvish</td>\n",
       "      <td>TEX</td>\n",
       "      <td>16</td>\n",
       "      <td>9</td>\n",
       "      <td>3.90</td>\n",
       "      <td>1.28</td>\n",
       "      <td>191.1</td>\n",
       "      <td>221</td>\n",
       "      <td>2.48</td>\n",
       "      <td>10.40</td>\n",
       "      <td>3.29</td>\n",
       "      <td>4.7</td>\n",
       "    </tr>\n",
       "    <tr>\n",
       "      <th>11</th>\n",
       "      <td>Cole Hamels</td>\n",
       "      <td>PHI</td>\n",
       "      <td>17</td>\n",
       "      <td>6</td>\n",
       "      <td>3.05</td>\n",
       "      <td>1.12</td>\n",
       "      <td>215.1</td>\n",
       "      <td>216</td>\n",
       "      <td>4.15</td>\n",
       "      <td>9.03</td>\n",
       "      <td>3.30</td>\n",
       "      <td>4.6</td>\n",
       "    </tr>\n",
       "  </tbody>\n",
       "</table>\n",
       "</div>"
      ],
      "text/plain": [
       "                Name   Team   W  L   ERA  WHIP     IP   SO  K/BB    K/9   FIP  \\\n",
       "2   Justin Verlander    DET  17  8  2.64  1.06  238.1  239  3.98   9.03  2.94   \n",
       "12   Felix Hernandez    SEA  13  9  3.06  1.14  232.0  223  3.98   8.65  2.84   \n",
       "0    Clayton Kershaw    LAD  14  9  2.53  1.02  227.2  229  3.63   9.05  2.89   \n",
       "8       Gio Gonzalez    WSN  21  8  2.89  1.13  199.1  207  2.72   9.35  2.82   \n",
       "14         Cliff Lee    PHI   6  9  3.16  1.11  211.0  207  7.39   8.83  3.13   \n",
       "26      Zack Greinke  - - -  15  5  3.48  1.20  212.1  200  3.70   8.48  3.10   \n",
       "3        R.A. Dickey    NYM  20  6  2.73  1.05  233.2  230  4.26   8.86  3.27   \n",
       "10        Chris Sale    CHW  17  8  3.05  1.14  192.0  192  3.76   9.00  3.27   \n",
       "51        Yu Darvish    TEX  16  9  3.90  1.28  191.1  221  2.48  10.40  3.29   \n",
       "11       Cole Hamels    PHI  17  6  3.05  1.12  215.1  216  4.15   9.03  3.30   \n",
       "\n",
       "    WAR  \n",
       "2   6.9  \n",
       "12  6.6  \n",
       "0   6.1  \n",
       "8   5.0  \n",
       "14  5.0  \n",
       "26  4.8  \n",
       "3   4.7  \n",
       "10  4.7  \n",
       "51  4.7  \n",
       "11  4.6  "
      ]
     },
     "execution_count": 28,
     "metadata": {},
     "output_type": "execute_result"
    }
   ],
   "source": [
    "# The 10 best pitchers with key stats\n",
    "pitching2012[['Name','Team','W','L','ERA','WHIP','IP','SO','K/BB','K/9','FIP','WAR']].head(10)"
   ]
  },
  {
   "cell_type": "markdown",
   "id": "8e40556e",
   "metadata": {},
   "source": [
    "The best pitcher for the 2012 Giants, Matt Cain, posted a WAR of 3.2. The top 10 pitchers in the league had a WAR that varied from 4.6 to 6.9. Tim Lincecum is no longer a key starter like he was two years prior. Although Madison Bumgarner's stats are good, it is surprising to not see numbers similar to the top pitchers in the league because he was one of the best pitchers in the 2012 playoffs."
   ]
  },
  {
   "cell_type": "code",
   "execution_count": 29,
   "id": "211551fb",
   "metadata": {},
   "outputs": [],
   "source": [
    "batting2012 = batting_stats(2012)"
   ]
  },
  {
   "cell_type": "code",
   "execution_count": 30,
   "id": "3d5300ea",
   "metadata": {},
   "outputs": [
    {
     "data": {
      "text/html": [
       "<div>\n",
       "<style scoped>\n",
       "    .dataframe tbody tr th:only-of-type {\n",
       "        vertical-align: middle;\n",
       "    }\n",
       "\n",
       "    .dataframe tbody tr th {\n",
       "        vertical-align: top;\n",
       "    }\n",
       "\n",
       "    .dataframe thead th {\n",
       "        text-align: right;\n",
       "    }\n",
       "</style>\n",
       "<table border=\"1\" class=\"dataframe\">\n",
       "  <thead>\n",
       "    <tr style=\"text-align: right;\">\n",
       "      <th></th>\n",
       "      <th>Name</th>\n",
       "      <th>Team</th>\n",
       "      <th>AVG</th>\n",
       "      <th>OBP</th>\n",
       "      <th>SLG</th>\n",
       "      <th>OPS</th>\n",
       "      <th>RBI</th>\n",
       "      <th>HR</th>\n",
       "      <th>wOBA</th>\n",
       "      <th>OBP+</th>\n",
       "      <th>wRC</th>\n",
       "      <th>WAR</th>\n",
       "    </tr>\n",
       "  </thead>\n",
       "  <tbody>\n",
       "    <tr>\n",
       "      <th>3</th>\n",
       "      <td>Buster Posey</td>\n",
       "      <td>SFG</td>\n",
       "      <td>0.336</td>\n",
       "      <td>0.408</td>\n",
       "      <td>0.549</td>\n",
       "      <td>0.957</td>\n",
       "      <td>103</td>\n",
       "      <td>24</td>\n",
       "      <td>0.406</td>\n",
       "      <td>125</td>\n",
       "      <td>114</td>\n",
       "      <td>10.1</td>\n",
       "    </tr>\n",
       "    <tr>\n",
       "      <th>73</th>\n",
       "      <td>Angel Pagan</td>\n",
       "      <td>SFG</td>\n",
       "      <td>0.288</td>\n",
       "      <td>0.338</td>\n",
       "      <td>0.440</td>\n",
       "      <td>0.778</td>\n",
       "      <td>56</td>\n",
       "      <td>8</td>\n",
       "      <td>0.334</td>\n",
       "      <td>103</td>\n",
       "      <td>85</td>\n",
       "      <td>4.6</td>\n",
       "    </tr>\n",
       "  </tbody>\n",
       "</table>\n",
       "</div>"
      ],
      "text/plain": [
       "            Name Team    AVG    OBP    SLG    OPS  RBI  HR   wOBA  OBP+  wRC  \\\n",
       "3   Buster Posey  SFG  0.336  0.408  0.549  0.957  103  24  0.406   125  114   \n",
       "73   Angel Pagan  SFG  0.288  0.338  0.440  0.778   56   8  0.334   103   85   \n",
       "\n",
       "     WAR  \n",
       "3   10.1  \n",
       "73   4.6  "
      ]
     },
     "execution_count": 30,
     "metadata": {},
     "output_type": "execute_result"
    }
   ],
   "source": [
    "# The 2012 Giants best hitters with key stats\n",
    "batting2012[['Name','Team','AVG','OBP','SLG','OPS','RBI','HR','wOBA','OBP+','wRC','WAR']][batting2012['Team'] == 'SFG']"
   ]
  },
  {
   "cell_type": "code",
   "execution_count": 31,
   "id": "afc2dee8",
   "metadata": {},
   "outputs": [
    {
     "data": {
      "text/html": [
       "<div>\n",
       "<style scoped>\n",
       "    .dataframe tbody tr th:only-of-type {\n",
       "        vertical-align: middle;\n",
       "    }\n",
       "\n",
       "    .dataframe tbody tr th {\n",
       "        vertical-align: top;\n",
       "    }\n",
       "\n",
       "    .dataframe thead th {\n",
       "        text-align: right;\n",
       "    }\n",
       "</style>\n",
       "<table border=\"1\" class=\"dataframe\">\n",
       "  <thead>\n",
       "    <tr style=\"text-align: right;\">\n",
       "      <th></th>\n",
       "      <th>Name</th>\n",
       "      <th>Team</th>\n",
       "      <th>AVG</th>\n",
       "      <th>OBP</th>\n",
       "      <th>SLG</th>\n",
       "      <th>OPS</th>\n",
       "      <th>RBI</th>\n",
       "      <th>HR</th>\n",
       "      <th>wOBA</th>\n",
       "      <th>OBP+</th>\n",
       "      <th>wRC</th>\n",
       "      <th>WAR</th>\n",
       "    </tr>\n",
       "  </thead>\n",
       "  <tbody>\n",
       "    <tr>\n",
       "      <th>2</th>\n",
       "      <td>Mike Trout</td>\n",
       "      <td>LAA</td>\n",
       "      <td>0.326</td>\n",
       "      <td>0.399</td>\n",
       "      <td>0.564</td>\n",
       "      <td>0.963</td>\n",
       "      <td>83</td>\n",
       "      <td>30</td>\n",
       "      <td>0.409</td>\n",
       "      <td>125</td>\n",
       "      <td>121</td>\n",
       "      <td>10.1</td>\n",
       "    </tr>\n",
       "    <tr>\n",
       "      <th>3</th>\n",
       "      <td>Buster Posey</td>\n",
       "      <td>SFG</td>\n",
       "      <td>0.336</td>\n",
       "      <td>0.408</td>\n",
       "      <td>0.549</td>\n",
       "      <td>0.957</td>\n",
       "      <td>103</td>\n",
       "      <td>24</td>\n",
       "      <td>0.406</td>\n",
       "      <td>125</td>\n",
       "      <td>114</td>\n",
       "      <td>10.1</td>\n",
       "    </tr>\n",
       "    <tr>\n",
       "      <th>18</th>\n",
       "      <td>Yadier Molina</td>\n",
       "      <td>STL</td>\n",
       "      <td>0.315</td>\n",
       "      <td>0.373</td>\n",
       "      <td>0.501</td>\n",
       "      <td>0.874</td>\n",
       "      <td>76</td>\n",
       "      <td>22</td>\n",
       "      <td>0.375</td>\n",
       "      <td>114</td>\n",
       "      <td>92</td>\n",
       "      <td>7.7</td>\n",
       "    </tr>\n",
       "    <tr>\n",
       "      <th>0</th>\n",
       "      <td>Miguel Cabrera</td>\n",
       "      <td>DET</td>\n",
       "      <td>0.330</td>\n",
       "      <td>0.393</td>\n",
       "      <td>0.606</td>\n",
       "      <td>0.999</td>\n",
       "      <td>139</td>\n",
       "      <td>44</td>\n",
       "      <td>0.417</td>\n",
       "      <td>123</td>\n",
       "      <td>137</td>\n",
       "      <td>7.3</td>\n",
       "    </tr>\n",
       "    <tr>\n",
       "      <th>4</th>\n",
       "      <td>Andrew McCutchen</td>\n",
       "      <td>PIT</td>\n",
       "      <td>0.327</td>\n",
       "      <td>0.400</td>\n",
       "      <td>0.553</td>\n",
       "      <td>0.953</td>\n",
       "      <td>96</td>\n",
       "      <td>31</td>\n",
       "      <td>0.403</td>\n",
       "      <td>122</td>\n",
       "      <td>124</td>\n",
       "      <td>7.3</td>\n",
       "    </tr>\n",
       "    <tr>\n",
       "      <th>7</th>\n",
       "      <td>Robinson Cano</td>\n",
       "      <td>NYY</td>\n",
       "      <td>0.313</td>\n",
       "      <td>0.379</td>\n",
       "      <td>0.550</td>\n",
       "      <td>0.929</td>\n",
       "      <td>94</td>\n",
       "      <td>33</td>\n",
       "      <td>0.394</td>\n",
       "      <td>118</td>\n",
       "      <td>124</td>\n",
       "      <td>7.3</td>\n",
       "    </tr>\n",
       "    <tr>\n",
       "      <th>13</th>\n",
       "      <td>Chase Headley</td>\n",
       "      <td>SDP</td>\n",
       "      <td>0.286</td>\n",
       "      <td>0.376</td>\n",
       "      <td>0.498</td>\n",
       "      <td>0.875</td>\n",
       "      <td>115</td>\n",
       "      <td>31</td>\n",
       "      <td>0.378</td>\n",
       "      <td>115</td>\n",
       "      <td>115</td>\n",
       "      <td>7.2</td>\n",
       "    </tr>\n",
       "    <tr>\n",
       "      <th>1</th>\n",
       "      <td>Ryan Braun</td>\n",
       "      <td>MIL</td>\n",
       "      <td>0.319</td>\n",
       "      <td>0.391</td>\n",
       "      <td>0.595</td>\n",
       "      <td>0.987</td>\n",
       "      <td>112</td>\n",
       "      <td>41</td>\n",
       "      <td>0.413</td>\n",
       "      <td>120</td>\n",
       "      <td>131</td>\n",
       "      <td>6.8</td>\n",
       "    </tr>\n",
       "    <tr>\n",
       "      <th>15</th>\n",
       "      <td>David Wright</td>\n",
       "      <td>NYM</td>\n",
       "      <td>0.306</td>\n",
       "      <td>0.391</td>\n",
       "      <td>0.492</td>\n",
       "      <td>0.883</td>\n",
       "      <td>93</td>\n",
       "      <td>21</td>\n",
       "      <td>0.376</td>\n",
       "      <td>120</td>\n",
       "      <td>109</td>\n",
       "      <td>6.6</td>\n",
       "    </tr>\n",
       "    <tr>\n",
       "      <th>8</th>\n",
       "      <td>Adrian Beltre</td>\n",
       "      <td>TEX</td>\n",
       "      <td>0.321</td>\n",
       "      <td>0.359</td>\n",
       "      <td>0.561</td>\n",
       "      <td>0.921</td>\n",
       "      <td>102</td>\n",
       "      <td>36</td>\n",
       "      <td>0.388</td>\n",
       "      <td>112</td>\n",
       "      <td>113</td>\n",
       "      <td>6.3</td>\n",
       "    </tr>\n",
       "  </tbody>\n",
       "</table>\n",
       "</div>"
      ],
      "text/plain": [
       "                Name Team    AVG    OBP    SLG    OPS  RBI  HR   wOBA  OBP+  \\\n",
       "2         Mike Trout  LAA  0.326  0.399  0.564  0.963   83  30  0.409   125   \n",
       "3       Buster Posey  SFG  0.336  0.408  0.549  0.957  103  24  0.406   125   \n",
       "18     Yadier Molina  STL  0.315  0.373  0.501  0.874   76  22  0.375   114   \n",
       "0     Miguel Cabrera  DET  0.330  0.393  0.606  0.999  139  44  0.417   123   \n",
       "4   Andrew McCutchen  PIT  0.327  0.400  0.553  0.953   96  31  0.403   122   \n",
       "7      Robinson Cano  NYY  0.313  0.379  0.550  0.929   94  33  0.394   118   \n",
       "13     Chase Headley  SDP  0.286  0.376  0.498  0.875  115  31  0.378   115   \n",
       "1         Ryan Braun  MIL  0.319  0.391  0.595  0.987  112  41  0.413   120   \n",
       "15      David Wright  NYM  0.306  0.391  0.492  0.883   93  21  0.376   120   \n",
       "8      Adrian Beltre  TEX  0.321  0.359  0.561  0.921  102  36  0.388   112   \n",
       "\n",
       "    wRC   WAR  \n",
       "2   121  10.1  \n",
       "3   114  10.1  \n",
       "18   92   7.7  \n",
       "0   137   7.3  \n",
       "4   124   7.3  \n",
       "7   124   7.3  \n",
       "13  115   7.2  \n",
       "1   131   6.8  \n",
       "15  109   6.6  \n",
       "8   113   6.3  "
      ]
     },
     "execution_count": 31,
     "metadata": {},
     "output_type": "execute_result"
    }
   ],
   "source": [
    "# The 10 best hitters with key stats\n",
    "batting2012[['Name','Team','AVG','OBP','SLG','OPS','RBI','HR','wOBA','OBP+','wRC','WAR']].head(10)"
   ]
  },
  {
   "cell_type": "markdown",
   "id": "6e0a7c13",
   "metadata": {},
   "source": [
    "Buster Posey ascended into a superstar in the 2012 season, posting the best WAR in the league. He was an instrumental part of all their championship runs."
   ]
  },
  {
   "cell_type": "markdown",
   "id": "c62c2710",
   "metadata": {},
   "source": [
    "## The 2014 Season"
   ]
  },
  {
   "cell_type": "code",
   "execution_count": 32,
   "id": "ae513ca5",
   "metadata": {},
   "outputs": [],
   "source": [
    "pitching2014 = pitching_stats(2014)"
   ]
  },
  {
   "cell_type": "code",
   "execution_count": 33,
   "id": "5f2ea514",
   "metadata": {},
   "outputs": [
    {
     "data": {
      "text/html": [
       "<div>\n",
       "<style scoped>\n",
       "    .dataframe tbody tr th:only-of-type {\n",
       "        vertical-align: middle;\n",
       "    }\n",
       "\n",
       "    .dataframe tbody tr th {\n",
       "        vertical-align: top;\n",
       "    }\n",
       "\n",
       "    .dataframe thead th {\n",
       "        text-align: right;\n",
       "    }\n",
       "</style>\n",
       "<table border=\"1\" class=\"dataframe\">\n",
       "  <thead>\n",
       "    <tr style=\"text-align: right;\">\n",
       "      <th></th>\n",
       "      <th>Name</th>\n",
       "      <th>Team</th>\n",
       "      <th>W</th>\n",
       "      <th>L</th>\n",
       "      <th>ERA</th>\n",
       "      <th>WHIP</th>\n",
       "      <th>IP</th>\n",
       "      <th>SO</th>\n",
       "      <th>K/BB</th>\n",
       "      <th>K/9</th>\n",
       "      <th>FIP</th>\n",
       "      <th>WAR</th>\n",
       "    </tr>\n",
       "  </thead>\n",
       "  <tbody>\n",
       "    <tr>\n",
       "      <th>20</th>\n",
       "      <td>Madison Bumgarner</td>\n",
       "      <td>SFG</td>\n",
       "      <td>18</td>\n",
       "      <td>10</td>\n",
       "      <td>2.98</td>\n",
       "      <td>1.09</td>\n",
       "      <td>217.1</td>\n",
       "      <td>219</td>\n",
       "      <td>5.09</td>\n",
       "      <td>9.07</td>\n",
       "      <td>3.05</td>\n",
       "      <td>3.6</td>\n",
       "    </tr>\n",
       "    <tr>\n",
       "      <th>47</th>\n",
       "      <td>Tim Hudson</td>\n",
       "      <td>SFG</td>\n",
       "      <td>9</td>\n",
       "      <td>13</td>\n",
       "      <td>3.57</td>\n",
       "      <td>1.23</td>\n",
       "      <td>189.1</td>\n",
       "      <td>120</td>\n",
       "      <td>3.53</td>\n",
       "      <td>5.70</td>\n",
       "      <td>3.54</td>\n",
       "      <td>1.7</td>\n",
       "    </tr>\n",
       "    <tr>\n",
       "      <th>66</th>\n",
       "      <td>Ryan Vogelsong</td>\n",
       "      <td>SFG</td>\n",
       "      <td>8</td>\n",
       "      <td>13</td>\n",
       "      <td>4.00</td>\n",
       "      <td>1.28</td>\n",
       "      <td>184.2</td>\n",
       "      <td>151</td>\n",
       "      <td>2.60</td>\n",
       "      <td>7.36</td>\n",
       "      <td>3.85</td>\n",
       "      <td>0.9</td>\n",
       "    </tr>\n",
       "  </tbody>\n",
       "</table>\n",
       "</div>"
      ],
      "text/plain": [
       "                 Name Team   W   L   ERA  WHIP     IP   SO  K/BB   K/9   FIP  \\\n",
       "20  Madison Bumgarner  SFG  18  10  2.98  1.09  217.1  219  5.09  9.07  3.05   \n",
       "47         Tim Hudson  SFG   9  13  3.57  1.23  189.1  120  3.53  5.70  3.54   \n",
       "66     Ryan Vogelsong  SFG   8  13  4.00  1.28  184.2  151  2.60  7.36  3.85   \n",
       "\n",
       "    WAR  \n",
       "20  3.6  \n",
       "47  1.7  \n",
       "66  0.9  "
      ]
     },
     "execution_count": 33,
     "metadata": {},
     "output_type": "execute_result"
    }
   ],
   "source": [
    "# The 2014 Giants pitching rotation with key stats\n",
    "pitching2014[['Name','Team','W','L','ERA','WHIP','IP','SO','K/BB','K/9','FIP','WAR']][pitching2014['Team'] == 'SFG']"
   ]
  },
  {
   "cell_type": "code",
   "execution_count": 34,
   "id": "ce893090",
   "metadata": {},
   "outputs": [
    {
     "data": {
      "text/html": [
       "<div>\n",
       "<style scoped>\n",
       "    .dataframe tbody tr th:only-of-type {\n",
       "        vertical-align: middle;\n",
       "    }\n",
       "\n",
       "    .dataframe tbody tr th {\n",
       "        vertical-align: top;\n",
       "    }\n",
       "\n",
       "    .dataframe thead th {\n",
       "        text-align: right;\n",
       "    }\n",
       "</style>\n",
       "<table border=\"1\" class=\"dataframe\">\n",
       "  <thead>\n",
       "    <tr style=\"text-align: right;\">\n",
       "      <th></th>\n",
       "      <th>Name</th>\n",
       "      <th>Team</th>\n",
       "      <th>W</th>\n",
       "      <th>L</th>\n",
       "      <th>ERA</th>\n",
       "      <th>WHIP</th>\n",
       "      <th>IP</th>\n",
       "      <th>SO</th>\n",
       "      <th>K/BB</th>\n",
       "      <th>K/9</th>\n",
       "      <th>FIP</th>\n",
       "      <th>WAR</th>\n",
       "    </tr>\n",
       "  </thead>\n",
       "  <tbody>\n",
       "    <tr>\n",
       "      <th>0</th>\n",
       "      <td>Clayton Kershaw</td>\n",
       "      <td>LAD</td>\n",
       "      <td>21</td>\n",
       "      <td>3</td>\n",
       "      <td>1.77</td>\n",
       "      <td>0.86</td>\n",
       "      <td>198.1</td>\n",
       "      <td>239</td>\n",
       "      <td>7.71</td>\n",
       "      <td>10.85</td>\n",
       "      <td>1.81</td>\n",
       "      <td>7.9</td>\n",
       "    </tr>\n",
       "    <tr>\n",
       "      <th>6</th>\n",
       "      <td>Corey Kluber</td>\n",
       "      <td>CLE</td>\n",
       "      <td>18</td>\n",
       "      <td>9</td>\n",
       "      <td>2.44</td>\n",
       "      <td>1.09</td>\n",
       "      <td>235.2</td>\n",
       "      <td>269</td>\n",
       "      <td>5.27</td>\n",
       "      <td>10.27</td>\n",
       "      <td>2.35</td>\n",
       "      <td>7.2</td>\n",
       "    </tr>\n",
       "    <tr>\n",
       "      <th>41</th>\n",
       "      <td>Phil Hughes</td>\n",
       "      <td>MIN</td>\n",
       "      <td>16</td>\n",
       "      <td>10</td>\n",
       "      <td>3.52</td>\n",
       "      <td>1.13</td>\n",
       "      <td>209.2</td>\n",
       "      <td>186</td>\n",
       "      <td>11.63</td>\n",
       "      <td>7.98</td>\n",
       "      <td>2.65</td>\n",
       "      <td>6.3</td>\n",
       "    </tr>\n",
       "    <tr>\n",
       "      <th>25</th>\n",
       "      <td>Max Scherzer</td>\n",
       "      <td>DET</td>\n",
       "      <td>18</td>\n",
       "      <td>5</td>\n",
       "      <td>3.15</td>\n",
       "      <td>1.18</td>\n",
       "      <td>220.1</td>\n",
       "      <td>252</td>\n",
       "      <td>4.00</td>\n",
       "      <td>10.29</td>\n",
       "      <td>2.85</td>\n",
       "      <td>5.6</td>\n",
       "    </tr>\n",
       "    <tr>\n",
       "      <th>1</th>\n",
       "      <td>Felix Hernandez</td>\n",
       "      <td>SEA</td>\n",
       "      <td>15</td>\n",
       "      <td>6</td>\n",
       "      <td>2.14</td>\n",
       "      <td>0.92</td>\n",
       "      <td>236.0</td>\n",
       "      <td>248</td>\n",
       "      <td>5.39</td>\n",
       "      <td>9.46</td>\n",
       "      <td>2.56</td>\n",
       "      <td>5.6</td>\n",
       "    </tr>\n",
       "    <tr>\n",
       "      <th>28</th>\n",
       "      <td>David Price</td>\n",
       "      <td>- - -</td>\n",
       "      <td>15</td>\n",
       "      <td>12</td>\n",
       "      <td>3.26</td>\n",
       "      <td>1.08</td>\n",
       "      <td>248.1</td>\n",
       "      <td>271</td>\n",
       "      <td>7.13</td>\n",
       "      <td>9.82</td>\n",
       "      <td>2.78</td>\n",
       "      <td>5.6</td>\n",
       "    </tr>\n",
       "    <tr>\n",
       "      <th>7</th>\n",
       "      <td>Jon Lester</td>\n",
       "      <td>- - -</td>\n",
       "      <td>16</td>\n",
       "      <td>11</td>\n",
       "      <td>2.46</td>\n",
       "      <td>1.10</td>\n",
       "      <td>219.2</td>\n",
       "      <td>220</td>\n",
       "      <td>4.58</td>\n",
       "      <td>9.01</td>\n",
       "      <td>2.80</td>\n",
       "      <td>5.4</td>\n",
       "    </tr>\n",
       "    <tr>\n",
       "      <th>11</th>\n",
       "      <td>Jordan Zimmermann</td>\n",
       "      <td>WSN</td>\n",
       "      <td>14</td>\n",
       "      <td>5</td>\n",
       "      <td>2.66</td>\n",
       "      <td>1.07</td>\n",
       "      <td>199.2</td>\n",
       "      <td>182</td>\n",
       "      <td>6.28</td>\n",
       "      <td>8.20</td>\n",
       "      <td>2.68</td>\n",
       "      <td>5.4</td>\n",
       "    </tr>\n",
       "    <tr>\n",
       "      <th>2</th>\n",
       "      <td>Chris Sale</td>\n",
       "      <td>CHW</td>\n",
       "      <td>12</td>\n",
       "      <td>4</td>\n",
       "      <td>2.17</td>\n",
       "      <td>0.97</td>\n",
       "      <td>174.0</td>\n",
       "      <td>208</td>\n",
       "      <td>5.33</td>\n",
       "      <td>10.76</td>\n",
       "      <td>2.57</td>\n",
       "      <td>5.0</td>\n",
       "    </tr>\n",
       "    <tr>\n",
       "      <th>4</th>\n",
       "      <td>Adam Wainwright</td>\n",
       "      <td>STL</td>\n",
       "      <td>20</td>\n",
       "      <td>9</td>\n",
       "      <td>2.38</td>\n",
       "      <td>1.03</td>\n",
       "      <td>227.0</td>\n",
       "      <td>179</td>\n",
       "      <td>3.58</td>\n",
       "      <td>7.10</td>\n",
       "      <td>2.88</td>\n",
       "      <td>4.9</td>\n",
       "    </tr>\n",
       "  </tbody>\n",
       "</table>\n",
       "</div>"
      ],
      "text/plain": [
       "                 Name   Team   W   L   ERA  WHIP     IP   SO   K/BB    K/9  \\\n",
       "0     Clayton Kershaw    LAD  21   3  1.77  0.86  198.1  239   7.71  10.85   \n",
       "6        Corey Kluber    CLE  18   9  2.44  1.09  235.2  269   5.27  10.27   \n",
       "41        Phil Hughes    MIN  16  10  3.52  1.13  209.2  186  11.63   7.98   \n",
       "25       Max Scherzer    DET  18   5  3.15  1.18  220.1  252   4.00  10.29   \n",
       "1     Felix Hernandez    SEA  15   6  2.14  0.92  236.0  248   5.39   9.46   \n",
       "28        David Price  - - -  15  12  3.26  1.08  248.1  271   7.13   9.82   \n",
       "7          Jon Lester  - - -  16  11  2.46  1.10  219.2  220   4.58   9.01   \n",
       "11  Jordan Zimmermann    WSN  14   5  2.66  1.07  199.2  182   6.28   8.20   \n",
       "2          Chris Sale    CHW  12   4  2.17  0.97  174.0  208   5.33  10.76   \n",
       "4     Adam Wainwright    STL  20   9  2.38  1.03  227.0  179   3.58   7.10   \n",
       "\n",
       "     FIP  WAR  \n",
       "0   1.81  7.9  \n",
       "6   2.35  7.2  \n",
       "41  2.65  6.3  \n",
       "25  2.85  5.6  \n",
       "1   2.56  5.6  \n",
       "28  2.78  5.6  \n",
       "7   2.80  5.4  \n",
       "11  2.68  5.4  \n",
       "2   2.57  5.0  \n",
       "4   2.88  4.9  "
      ]
     },
     "execution_count": 34,
     "metadata": {},
     "output_type": "execute_result"
    }
   ],
   "source": [
    "# The 10 best pitchers with key stats\n",
    "pitching2014[['Name','Team','W','L','ERA','WHIP','IP','SO','K/BB','K/9','FIP','WAR']].head(10)"
   ]
  },
  {
   "cell_type": "markdown",
   "id": "8e53431f",
   "metadata": {},
   "source": [
    "The best pitcher for the 2012 Giants, Madison Bumgarner, posted a WAR of 3.6, a slight improvement from the 2012 season. The top 10 pitchers in the league had a WAR that varied from 4.9 to 7.9. Bumgarner is the only pitcher with a WAR above 2 for the Giants. This weaker pitching staff makes sense as the 2014 Giants had the worst record and run differential of the 3 championship teams."
   ]
  },
  {
   "cell_type": "code",
   "execution_count": 35,
   "id": "0f9440ea",
   "metadata": {},
   "outputs": [],
   "source": [
    "batting2014 = batting_stats(2014)"
   ]
  },
  {
   "cell_type": "code",
   "execution_count": 36,
   "id": "281c00e6",
   "metadata": {},
   "outputs": [
    {
     "data": {
      "text/html": [
       "<div>\n",
       "<style scoped>\n",
       "    .dataframe tbody tr th:only-of-type {\n",
       "        vertical-align: middle;\n",
       "    }\n",
       "\n",
       "    .dataframe tbody tr th {\n",
       "        vertical-align: top;\n",
       "    }\n",
       "\n",
       "    .dataframe thead th {\n",
       "        text-align: right;\n",
       "    }\n",
       "</style>\n",
       "<table border=\"1\" class=\"dataframe\">\n",
       "  <thead>\n",
       "    <tr style=\"text-align: right;\">\n",
       "      <th></th>\n",
       "      <th>Name</th>\n",
       "      <th>Team</th>\n",
       "      <th>AVG</th>\n",
       "      <th>OBP</th>\n",
       "      <th>SLG</th>\n",
       "      <th>OPS</th>\n",
       "      <th>RBI</th>\n",
       "      <th>HR</th>\n",
       "      <th>wOBA</th>\n",
       "      <th>OBP+</th>\n",
       "      <th>wRC</th>\n",
       "      <th>WAR</th>\n",
       "    </tr>\n",
       "  </thead>\n",
       "  <tbody>\n",
       "    <tr>\n",
       "      <th>15</th>\n",
       "      <td>Buster Posey</td>\n",
       "      <td>SFG</td>\n",
       "      <td>0.311</td>\n",
       "      <td>0.364</td>\n",
       "      <td>0.490</td>\n",
       "      <td>0.854</td>\n",
       "      <td>89</td>\n",
       "      <td>22</td>\n",
       "      <td>0.371</td>\n",
       "      <td>114</td>\n",
       "      <td>93</td>\n",
       "      <td>7.6</td>\n",
       "    </tr>\n",
       "    <tr>\n",
       "      <th>48</th>\n",
       "      <td>Hunter Pence</td>\n",
       "      <td>SFG</td>\n",
       "      <td>0.277</td>\n",
       "      <td>0.332</td>\n",
       "      <td>0.445</td>\n",
       "      <td>0.777</td>\n",
       "      <td>74</td>\n",
       "      <td>20</td>\n",
       "      <td>0.341</td>\n",
       "      <td>104</td>\n",
       "      <td>93</td>\n",
       "      <td>4.0</td>\n",
       "    </tr>\n",
       "    <tr>\n",
       "      <th>80</th>\n",
       "      <td>Pablo Sandoval</td>\n",
       "      <td>SFG</td>\n",
       "      <td>0.279</td>\n",
       "      <td>0.324</td>\n",
       "      <td>0.415</td>\n",
       "      <td>0.739</td>\n",
       "      <td>73</td>\n",
       "      <td>16</td>\n",
       "      <td>0.323</td>\n",
       "      <td>101</td>\n",
       "      <td>75</td>\n",
       "      <td>3.2</td>\n",
       "    </tr>\n",
       "    <tr>\n",
       "      <th>105</th>\n",
       "      <td>Brandon Crawford</td>\n",
       "      <td>SFG</td>\n",
       "      <td>0.246</td>\n",
       "      <td>0.324</td>\n",
       "      <td>0.389</td>\n",
       "      <td>0.713</td>\n",
       "      <td>69</td>\n",
       "      <td>10</td>\n",
       "      <td>0.309</td>\n",
       "      <td>101</td>\n",
       "      <td>60</td>\n",
       "      <td>2.7</td>\n",
       "    </tr>\n",
       "  </tbody>\n",
       "</table>\n",
       "</div>"
      ],
      "text/plain": [
       "                 Name Team    AVG    OBP    SLG    OPS  RBI  HR   wOBA  OBP+  \\\n",
       "15       Buster Posey  SFG  0.311  0.364  0.490  0.854   89  22  0.371   114   \n",
       "48       Hunter Pence  SFG  0.277  0.332  0.445  0.777   74  20  0.341   104   \n",
       "80     Pablo Sandoval  SFG  0.279  0.324  0.415  0.739   73  16  0.323   101   \n",
       "105  Brandon Crawford  SFG  0.246  0.324  0.389  0.713   69  10  0.309   101   \n",
       "\n",
       "     wRC  WAR  \n",
       "15    93  7.6  \n",
       "48    93  4.0  \n",
       "80    75  3.2  \n",
       "105   60  2.7  "
      ]
     },
     "execution_count": 36,
     "metadata": {},
     "output_type": "execute_result"
    }
   ],
   "source": [
    "# The 2014 Giants best hitters with key stats\n",
    "batting2014[['Name','Team','AVG','OBP','SLG','OPS','RBI','HR','wOBA','OBP+','wRC','WAR']][batting2014['Team'] == 'SFG']"
   ]
  },
  {
   "cell_type": "code",
   "execution_count": 37,
   "id": "b5c4de50",
   "metadata": {},
   "outputs": [
    {
     "data": {
      "text/html": [
       "<div>\n",
       "<style scoped>\n",
       "    .dataframe tbody tr th:only-of-type {\n",
       "        vertical-align: middle;\n",
       "    }\n",
       "\n",
       "    .dataframe tbody tr th {\n",
       "        vertical-align: top;\n",
       "    }\n",
       "\n",
       "    .dataframe thead th {\n",
       "        text-align: right;\n",
       "    }\n",
       "</style>\n",
       "<table border=\"1\" class=\"dataframe\">\n",
       "  <thead>\n",
       "    <tr style=\"text-align: right;\">\n",
       "      <th></th>\n",
       "      <th>Name</th>\n",
       "      <th>Team</th>\n",
       "      <th>AVG</th>\n",
       "      <th>OBP</th>\n",
       "      <th>SLG</th>\n",
       "      <th>OPS</th>\n",
       "      <th>RBI</th>\n",
       "      <th>HR</th>\n",
       "      <th>wOBA</th>\n",
       "      <th>OBP+</th>\n",
       "      <th>wRC</th>\n",
       "      <th>WAR</th>\n",
       "    </tr>\n",
       "  </thead>\n",
       "  <tbody>\n",
       "    <tr>\n",
       "      <th>4</th>\n",
       "      <td>Mike Trout</td>\n",
       "      <td>LAA</td>\n",
       "      <td>0.287</td>\n",
       "      <td>0.377</td>\n",
       "      <td>0.561</td>\n",
       "      <td>0.939</td>\n",
       "      <td>111</td>\n",
       "      <td>36</td>\n",
       "      <td>0.402</td>\n",
       "      <td>119</td>\n",
       "      <td>126</td>\n",
       "      <td>8.3</td>\n",
       "    </tr>\n",
       "    <tr>\n",
       "      <th>19</th>\n",
       "      <td>Jonathan Lucroy</td>\n",
       "      <td>MIL</td>\n",
       "      <td>0.301</td>\n",
       "      <td>0.373</td>\n",
       "      <td>0.465</td>\n",
       "      <td>0.837</td>\n",
       "      <td>69</td>\n",
       "      <td>13</td>\n",
       "      <td>0.368</td>\n",
       "      <td>116</td>\n",
       "      <td>100</td>\n",
       "      <td>8.2</td>\n",
       "    </tr>\n",
       "    <tr>\n",
       "      <th>15</th>\n",
       "      <td>Buster Posey</td>\n",
       "      <td>SFG</td>\n",
       "      <td>0.311</td>\n",
       "      <td>0.364</td>\n",
       "      <td>0.490</td>\n",
       "      <td>0.854</td>\n",
       "      <td>89</td>\n",
       "      <td>22</td>\n",
       "      <td>0.371</td>\n",
       "      <td>114</td>\n",
       "      <td>93</td>\n",
       "      <td>7.6</td>\n",
       "    </tr>\n",
       "    <tr>\n",
       "      <th>0</th>\n",
       "      <td>Andrew McCutchen</td>\n",
       "      <td>PIT</td>\n",
       "      <td>0.314</td>\n",
       "      <td>0.410</td>\n",
       "      <td>0.542</td>\n",
       "      <td>0.952</td>\n",
       "      <td>83</td>\n",
       "      <td>25</td>\n",
       "      <td>0.412</td>\n",
       "      <td>128</td>\n",
       "      <td>120</td>\n",
       "      <td>7.4</td>\n",
       "    </tr>\n",
       "    <tr>\n",
       "      <th>3</th>\n",
       "      <td>Giancarlo Stanton</td>\n",
       "      <td>MIA</td>\n",
       "      <td>0.288</td>\n",
       "      <td>0.395</td>\n",
       "      <td>0.555</td>\n",
       "      <td>0.950</td>\n",
       "      <td>105</td>\n",
       "      <td>37</td>\n",
       "      <td>0.403</td>\n",
       "      <td>123</td>\n",
       "      <td>114</td>\n",
       "      <td>6.8</td>\n",
       "    </tr>\n",
       "    <tr>\n",
       "      <th>8</th>\n",
       "      <td>Michael Brantley</td>\n",
       "      <td>CLE</td>\n",
       "      <td>0.327</td>\n",
       "      <td>0.385</td>\n",
       "      <td>0.506</td>\n",
       "      <td>0.890</td>\n",
       "      <td>97</td>\n",
       "      <td>20</td>\n",
       "      <td>0.389</td>\n",
       "      <td>122</td>\n",
       "      <td>113</td>\n",
       "      <td>6.5</td>\n",
       "    </tr>\n",
       "    <tr>\n",
       "      <th>26</th>\n",
       "      <td>Anthony Rendon</td>\n",
       "      <td>WSN</td>\n",
       "      <td>0.287</td>\n",
       "      <td>0.351</td>\n",
       "      <td>0.473</td>\n",
       "      <td>0.824</td>\n",
       "      <td>83</td>\n",
       "      <td>21</td>\n",
       "      <td>0.361</td>\n",
       "      <td>110</td>\n",
       "      <td>100</td>\n",
       "      <td>6.4</td>\n",
       "    </tr>\n",
       "    <tr>\n",
       "      <th>5</th>\n",
       "      <td>Jose Bautista</td>\n",
       "      <td>TOR</td>\n",
       "      <td>0.286</td>\n",
       "      <td>0.403</td>\n",
       "      <td>0.524</td>\n",
       "      <td>0.928</td>\n",
       "      <td>103</td>\n",
       "      <td>35</td>\n",
       "      <td>0.402</td>\n",
       "      <td>127</td>\n",
       "      <td>120</td>\n",
       "      <td>6.2</td>\n",
       "    </tr>\n",
       "    <tr>\n",
       "      <th>10</th>\n",
       "      <td>Adrian Beltre</td>\n",
       "      <td>TEX</td>\n",
       "      <td>0.324</td>\n",
       "      <td>0.388</td>\n",
       "      <td>0.492</td>\n",
       "      <td>0.879</td>\n",
       "      <td>77</td>\n",
       "      <td>19</td>\n",
       "      <td>0.380</td>\n",
       "      <td>123</td>\n",
       "      <td>99</td>\n",
       "      <td>5.9</td>\n",
       "    </tr>\n",
       "    <tr>\n",
       "      <th>20</th>\n",
       "      <td>Carlos Gomez</td>\n",
       "      <td>MIL</td>\n",
       "      <td>0.284</td>\n",
       "      <td>0.356</td>\n",
       "      <td>0.477</td>\n",
       "      <td>0.833</td>\n",
       "      <td>73</td>\n",
       "      <td>23</td>\n",
       "      <td>0.368</td>\n",
       "      <td>111</td>\n",
       "      <td>98</td>\n",
       "      <td>5.7</td>\n",
       "    </tr>\n",
       "  </tbody>\n",
       "</table>\n",
       "</div>"
      ],
      "text/plain": [
       "                 Name Team    AVG    OBP    SLG    OPS  RBI  HR   wOBA  OBP+  \\\n",
       "4          Mike Trout  LAA  0.287  0.377  0.561  0.939  111  36  0.402   119   \n",
       "19    Jonathan Lucroy  MIL  0.301  0.373  0.465  0.837   69  13  0.368   116   \n",
       "15       Buster Posey  SFG  0.311  0.364  0.490  0.854   89  22  0.371   114   \n",
       "0    Andrew McCutchen  PIT  0.314  0.410  0.542  0.952   83  25  0.412   128   \n",
       "3   Giancarlo Stanton  MIA  0.288  0.395  0.555  0.950  105  37  0.403   123   \n",
       "8    Michael Brantley  CLE  0.327  0.385  0.506  0.890   97  20  0.389   122   \n",
       "26     Anthony Rendon  WSN  0.287  0.351  0.473  0.824   83  21  0.361   110   \n",
       "5       Jose Bautista  TOR  0.286  0.403  0.524  0.928  103  35  0.402   127   \n",
       "10      Adrian Beltre  TEX  0.324  0.388  0.492  0.879   77  19  0.380   123   \n",
       "20       Carlos Gomez  MIL  0.284  0.356  0.477  0.833   73  23  0.368   111   \n",
       "\n",
       "    wRC  WAR  \n",
       "4   126  8.3  \n",
       "19  100  8.2  \n",
       "15   93  7.6  \n",
       "0   120  7.4  \n",
       "3   114  6.8  \n",
       "8   113  6.5  \n",
       "26  100  6.4  \n",
       "5   120  6.2  \n",
       "10   99  5.9  \n",
       "20   98  5.7  "
      ]
     },
     "execution_count": 37,
     "metadata": {},
     "output_type": "execute_result"
    }
   ],
   "source": [
    "# The 10 best hitters with key stats\n",
    "batting2014[['Name','Team','AVG','OBP','SLG','OPS','RBI','HR','wOBA','OBP+','wRC','WAR']].head(10)"
   ]
  },
  {
   "cell_type": "markdown",
   "id": "03eb3582",
   "metadata": {},
   "source": [
    "Buster Posey is still one of the best in the big leagues with a WAR of 7.6, the third best in the league. Compared to 2012, this Giants team had more key hitters and their offense was likely the reason they were able to make the playoffs despite their pitching rotation."
   ]
  }
 ],
 "metadata": {
  "kernelspec": {
   "display_name": "Python 3 (ipykernel)",
   "language": "python",
   "name": "python3"
  },
  "language_info": {
   "codemirror_mode": {
    "name": "ipython",
    "version": 3
   },
   "file_extension": ".py",
   "mimetype": "text/x-python",
   "name": "python",
   "nbconvert_exporter": "python",
   "pygments_lexer": "ipython3",
   "version": "3.9.12"
  }
 },
 "nbformat": 4,
 "nbformat_minor": 5
}
